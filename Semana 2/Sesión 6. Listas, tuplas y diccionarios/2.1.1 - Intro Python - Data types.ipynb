{
  "cells": [
    {
      "cell_type": "markdown",
      "metadata": {
        "lang": "en"
      },
      "source": [
        "# Estructuras de datos"
      ]
    },
    {
      "cell_type": "markdown",
      "metadata": {},
      "source": [
        "Hay 4 elementos en Python que nos permiten almacenar colecciones de datos.\n",
        "- Listas\n",
        "- Tuplas\n",
        "- Sets\n",
        "- Diccionarios"
      ]
    },
    {
      "cell_type": "code",
      "execution_count": null,
      "metadata": {},
      "outputs": [],
      "source": []
    },
    {
      "cell_type": "markdown",
      "metadata": {},
      "source": [
        "### Listas"
      ]
    },
    {
      "cell_type": "code",
      "execution_count": null,
      "metadata": {},
      "outputs": [],
      "source": [
        "lst = []"
      ]
    },
    {
      "cell_type": "markdown",
      "metadata": {
        "lang": "en"
      },
      "source": [
        "Las listas pueden contener diferentes tipos de datos."
      ]
    },
    {
      "cell_type": "code",
      "execution_count": 15,
      "metadata": {},
      "outputs": [
        {
          "name": "stdout",
          "output_type": "stream",
          "text": [
            "<class 'int'>\n",
            "<class 'float'>\n",
            "<class 'bool'>\n"
          ]
        }
      ],
      "source": [
        "lst_ = [ 1, 1.0, True]\n",
        "for i in lst_:\n",
        "    print(type(i))"
      ]
    },
    {
      "cell_type": "code",
      "execution_count": 16,
      "metadata": {},
      "outputs": [
        {
          "data": {
            "text/plain": [
              "3.0"
            ]
          },
          "execution_count": 16,
          "metadata": {},
          "output_type": "execute_result"
        }
      ],
      "source": [
        "sum(lst_)"
      ]
    },
    {
      "cell_type": "markdown",
      "metadata": {
        "lang": "en"
      },
      "source": [
        "#### Métodos de lista\n",
        "`append` Agrega un elemento al final de la lista."
      ]
    },
    {
      "cell_type": "code",
      "execution_count": 20,
      "metadata": {},
      "outputs": [
        {
          "name": "stdout",
          "output_type": "stream",
          "text": [
            "[1, 1.0, True, 2, 2]\n"
          ]
        }
      ],
      "source": [
        "lst_.append(2)\n",
        "print(lst_)"
      ]
    },
    {
      "cell_type": "code",
      "execution_count": 21,
      "metadata": {},
      "outputs": [
        {
          "name": "stdout",
          "output_type": "stream",
          "text": [
            "[1, 1.0, True, 2, 2, ['Laura', 'Alberto', 'Pepe']]\n"
          ]
        }
      ],
      "source": [
        "lista2 = [\"Laura\", \"Alberto\", \"Pepe\"]\n",
        "lst_.append(lista2)\n",
        "print(lst_)"
      ]
    },
    {
      "cell_type": "markdown",
      "metadata": {
        "lang": "en"
      },
      "source": [
        "`extend` Extiende la lista añadiéndole todos los elementos del iterable"
      ]
    },
    {
      "cell_type": "code",
      "execution_count": 37,
      "metadata": {},
      "outputs": [
        {
          "name": "stdout",
          "output_type": "stream",
          "text": [
            "['Juan', 'Ana', 'Maria']\n"
          ]
        }
      ],
      "source": [
        "lst_ = [\"Juan\"]\n",
        "lst_2 = [\"Ana\", \"Maria\"]\n",
        "\n",
        "lst_.extend(lst_2)\n",
        "print(lst_)"
      ]
    },
    {
      "cell_type": "markdown",
      "metadata": {
        "lang": "en"
      },
      "source": [
        "`insert` Inserta un elemento en una posición dada. El primer argumento es el índice del elemento que se insertará antes, por lo que a.insert(0, x) inserta al principio de la lista y a.insert(len(a), x) es equivalente a a.append(x)."
      ]
    },
    {
      "cell_type": "code",
      "execution_count": 38,
      "metadata": {},
      "outputs": [
        {
          "name": "stdout",
          "output_type": "stream",
          "text": [
            "['Juan', 'Alberto', 'Ana', 'Maria']\n"
          ]
        }
      ],
      "source": [
        "lst_ .insert(1, \"Alberto\")\n",
        "print(lst_)"
      ]
    },
    {
      "cell_type": "markdown",
      "metadata": {
        "lang": "en"
      },
      "source": [
        "`remove` Elimina el primer elemento de la lista cuyo valor sea x. Lanza un ValueError si no existe dicho elemento."
      ]
    },
    {
      "cell_type": "code",
      "execution_count": 39,
      "metadata": {},
      "outputs": [
        {
          "name": "stdout",
          "output_type": "stream",
          "text": [
            "['Juan', 'Ana', 'Maria']\n"
          ]
        }
      ],
      "source": [
        "lst_.remove(\"Alberto\")\n",
        "print(lst_)"
      ]
    },
    {
      "cell_type": "markdown",
      "metadata": {
        "lang": "en"
      },
      "source": [
        "`pop` extrae el elemento de la lista en la posición indicada y lo devuelve. Si no se especifica ningún índice, a.pop() extrae y devuelve el último elemento de la lista."
      ]
    },
    {
      "cell_type": "code",
      "execution_count": 41,
      "metadata": {},
      "outputs": [
        {
          "name": "stdout",
          "output_type": "stream",
          "text": [
            "['a', 'b', 'd', 'e']\n"
          ]
        }
      ],
      "source": [
        "lst_elementos = ['a', 'b', 'c', 'd', 'e']\n",
        "lst_elementos.pop(2)\n",
        "print(lst_elementos)"
      ]
    },
    {
      "cell_type": "markdown",
      "metadata": {
        "lang": "en"
      },
      "source": [
        "`clear` Elimina todos los elementos de la lista"
      ]
    },
    {
      "cell_type": "code",
      "execution_count": 42,
      "metadata": {},
      "outputs": [
        {
          "name": "stdout",
          "output_type": "stream",
          "text": [
            "[]\n"
          ]
        }
      ],
      "source": [
        "lst_ = [ 1, 1.0, True]\n",
        "lst_.clear()\n",
        "print(lst_)"
      ]
    },
    {
      "cell_type": "markdown",
      "metadata": {
        "lang": "en"
      },
      "source": [
        "`count` Devuelve el número de veces que x aparece en la lista."
      ]
    },
    {
      "cell_type": "code",
      "execution_count": null,
      "metadata": {},
      "outputs": [
        {
          "data": {
            "text/plain": [
              "3"
            ]
          },
          "execution_count": 43,
          "metadata": {},
          "output_type": "execute_result"
        }
      ],
      "source": [
        "# True equivale a 1 \n",
        "lst_ = [ 1, 1.0, True]\n",
        "lst_.count(1)   "
      ]
    },
    {
      "cell_type": "markdown",
      "metadata": {
        "lang": "en"
      },
      "source": [
        "`list.sort()` Véase también [sorted()](https://docs.python.org/3/howto/sorting.html)."
      ]
    },
    {
      "cell_type": "code",
      "execution_count": null,
      "metadata": {},
      "outputs": [
        {
          "name": "stdout",
          "output_type": "stream",
          "text": [
            "[1, 2, 3, 4, 5]\n"
          ]
        }
      ],
      "source": [
        "lst_ = [5,1,3,2,4]\n",
        "lst_.sort()\n",
        "print(lst_)\n"
      ]
    },
    {
      "cell_type": "markdown",
      "metadata": {
        "lang": "en"
      },
      "source": [
        "`list.reverse()`\n",
        "Invierte los elementos de la lista en su lugar."
      ]
    },
    {
      "cell_type": "code",
      "execution_count": null,
      "metadata": {},
      "outputs": [
        {
          "name": "stdout",
          "output_type": "stream",
          "text": [
            "[5, 4, 3, 2, 1]\n"
          ]
        }
      ],
      "source": [
        "lst_ = [1,2,3,4,5]\n",
        "lst_.reverse()\n",
        "print(lst_)"
      ]
    },
    {
      "cell_type": "markdown",
      "metadata": {
        "lang": "en"
      },
      "source": [
        "`slicing` no es un método como tal, pero podemos jugar con los elementos de las listas y sus posiciones"
      ]
    },
    {
      "cell_type": "code",
      "execution_count": null,
      "metadata": {},
      "outputs": [
        {
          "name": "stdout",
          "output_type": "stream",
          "text": [
            "Hola\n"
          ]
        },
        {
          "data": {
            "text/plain": [
              "[1, 2, 3, 4, 5]"
            ]
          },
          "execution_count": 54,
          "metadata": {},
          "output_type": "execute_result"
        }
      ],
      "source": [
        "texto = \"Hola Mundo\"\n",
        "print(texto[0:4])\n"
      ]
    },
    {
      "cell_type": "markdown",
      "metadata": {},
      "source": [
        "`start, step, stop`"
      ]
    },
    {
      "cell_type": "code",
      "execution_count": 55,
      "metadata": {},
      "outputs": [
        {
          "data": {
            "text/plain": [
              "5"
            ]
          },
          "execution_count": 55,
          "metadata": {},
          "output_type": "execute_result"
        }
      ],
      "source": [
        "lst_ = [1,2,3,4,5]\n",
        "lst_[-1]"
      ]
    },
    {
      "cell_type": "code",
      "execution_count": 56,
      "metadata": {},
      "outputs": [
        {
          "data": {
            "text/plain": [
              "[1, 2, 3, 4, 5]"
            ]
          },
          "execution_count": 56,
          "metadata": {},
          "output_type": "execute_result"
        }
      ],
      "source": [
        "lst_ = [1,2,3,4,5]\n",
        "lst_[:]"
      ]
    },
    {
      "cell_type": "code",
      "execution_count": 58,
      "metadata": {},
      "outputs": [
        {
          "data": {
            "text/plain": [
              "[1, 2]"
            ]
          },
          "execution_count": 58,
          "metadata": {},
          "output_type": "execute_result"
        }
      ],
      "source": [
        "lst_ = [1,2,3,4,5]\n",
        "lst_[0:2]"
      ]
    },
    {
      "cell_type": "code",
      "execution_count": null,
      "metadata": {},
      "outputs": [
        {
          "data": {
            "text/plain": [
              "[1, 3, 5]"
            ]
          },
          "execution_count": 59,
          "metadata": {},
          "output_type": "execute_result"
        }
      ],
      "source": [
        "lst_ = [1,2,3,4,5]\n",
        "lst_[::2]\n",
        "\n",
        "# Los que estén en posición par"
      ]
    },
    {
      "cell_type": "code",
      "execution_count": null,
      "metadata": {},
      "outputs": [
        {
          "data": {
            "text/plain": [
              "30"
            ]
          },
          "execution_count": 61,
          "metadata": {},
          "output_type": "execute_result"
        }
      ],
      "source": [
        "lst_=[[2,3,9,6],[0,2,1000,[10,20,30]],[\"hola\"]]\n",
        "lst_[1][3][2]"
      ]
    },
    {
      "cell_type": "markdown",
      "metadata": {},
      "source": [
        "### Tuplas"
      ]
    },
    {
      "cell_type": "markdown",
      "metadata": {
        "lang": "en"
      },
      "source": [
        "Las tuplas en Python son un tipo de datos o estructura que permite almacenar datos de forma muy similar a las listas, excepto que son inmutables. Por lo tanto, no podremos:\n",
        "- cambiar los elementos\n",
        "- agregar nuevos valores"
      ]
    },
    {
      "cell_type": "markdown",
      "metadata": {},
      "source": [
        "- Listas: []\n",
        "- Tuplas: (), contienen diferentes tipos de datos. Tienen menos métodos porque están pensadas para ser un poco más inmutables. Python las utiliza mucho a nivel interno. "
      ]
    },
    {
      "cell_type": "markdown",
      "metadata": {
        "lang": "en"
      },
      "source": [
        "Ventajas de las tuplas\n",
        "* Más rápidas\n",
        "* Los datos no se pueden modificar\n",
        "\n",
        "También es posible que utilicemos tuplas cuando queramos devolver múltiples valores en el `return` de una función"
      ]
    },
    {
      "cell_type": "code",
      "execution_count": null,
      "metadata": {},
      "outputs": [
        {
          "data": {
            "text/plain": [
              "['append',\n",
              " 'clear',\n",
              " 'copy',\n",
              " 'count',\n",
              " 'extend',\n",
              " 'index',\n",
              " 'insert',\n",
              " 'pop',\n",
              " 'remove',\n",
              " 'reverse',\n",
              " 'sort']"
            ]
          },
          "execution_count": 63,
          "metadata": {},
          "output_type": "execute_result"
        }
      ],
      "source": [
        "#Lista [] y sus métodos\n",
        "[i for i in dir([]) if \"_\" not in i]\n"
      ]
    },
    {
      "cell_type": "code",
      "execution_count": null,
      "metadata": {},
      "outputs": [
        {
          "data": {
            "text/plain": [
              "['count', 'index']"
            ]
          },
          "execution_count": 64,
          "metadata": {},
          "output_type": "execute_result"
        }
      ],
      "source": [
        "# Tuplas () y sus métodos\n",
        "[i for i in dir(()) if \"_\" not in i]"
      ]
    },
    {
      "cell_type": "markdown",
      "metadata": {},
      "source": [
        "-----------------------------"
      ]
    },
    {
      "cell_type": "markdown",
      "metadata": {},
      "source": [
        "##### Challenge 1: Tuplas\n",
        "\n",
        "¿Sabías que puedes crear tuplas con un solo elemento?\n",
        "\n",
        "**En la celda a continuación, define una variable `tup` con un solo elemento `\"p\"`.**<br>"
      ]
    },
    {
      "cell_type": "code",
      "execution_count": 65,
      "metadata": {},
      "outputs": [],
      "source": [
        "tup = (\"p\")"
      ]
    },
    {
      "cell_type": "markdown",
      "metadata": {},
      "source": [
        "#### Ahora intenta agregar los siguientes elementos a `tup`. \n",
        "\n",
        "¿Puedes hacerlo? Explícalo.\n",
        "\n",
        "```\n",
        "\"y\", \"t\", \"h\", \"o\", \"n\"\n",
        "```"
      ]
    },
    {
      "cell_type": "code",
      "execution_count": null,
      "metadata": {},
      "outputs": [
        {
          "name": "stdout",
          "output_type": "stream",
          "text": [
            "['p', 'y', 't', 'h', 'o', 'n']\n"
          ]
        }
      ],
      "source": [
        "lista = list(tup)\n",
        "lista.append(\"y\")\n",
        "lista.append(\"t\")\n",
        "lista.append(\"h\")\n",
        "lista.append(\"o\")\n",
        "lista.append(\"n\")\n",
        "print(lista)\n",
        "\n",
        "tup = tuple(lista)\n",
        "\n",
        "# Para appendear nuevos elementos necesitamos pasar la tupla a lista, puesto que las tuplas son inmutables"
      ]
    },
    {
      "cell_type": "markdown",
      "metadata": {},
      "source": [
        "#### Divida `tup` en `tup1` y `tup2` con 4 elementos en cada uno. \n",
        "\n",
        "`tup1` debería ser `(\"p\", \"y\", \"t)` y `tup2` debería ser `(\"h\", \"o\", \"n\")`.\n",
        "\n",
        "*Sugerencia: use números de índice positivos para la asignación de `tup1` y use números de índice negativos para la asignación de `tup2`. Los números de índice positivos cuentan desde el principio, mientras que los números de índice negativos cuentan desde el final de la secuencia.*\n",
        "\n",
        "También imprima `tup1` y `tup2`."
      ]
    },
    {
      "cell_type": "code",
      "execution_count": 75,
      "metadata": {},
      "outputs": [
        {
          "name": "stdout",
          "output_type": "stream",
          "text": [
            "('p', 'y', 't')\n",
            "('h', 'o', 'n')\n"
          ]
        }
      ],
      "source": [
        "tup1 = tup[:3]\n",
        "print(tup1)\n",
        "tup2 = tup[3:]\n",
        "print(tup2)"
      ]
    },
    {
      "cell_type": "markdown",
      "metadata": {},
      "source": [
        "#### Agregue `tup1` y `tup2` en `tup3` usando el operador `+`.\n",
        "\n",
        "Luego imprima `tup3` y verifique si `tup3` es igual a `tup`."
      ]
    },
    {
      "cell_type": "code",
      "execution_count": null,
      "metadata": {},
      "outputs": [
        {
          "name": "stdout",
          "output_type": "stream",
          "text": [
            "('p', 'y', 't', 'h', 'o', 'n')\n"
          ]
        }
      ],
      "source": [
        "tup3 = tup1 + tup2\n",
        "print(tup3)\n",
        "\n",
        "# Sí, las tuplas se pueden concatenar y se forma exactamente la misma tupla que tup original    "
      ]
    },
    {
      "cell_type": "markdown",
      "metadata": {},
      "source": [
        "#### ¿Cuál es el número de índice de `\"h\"` en `tup3`?"
      ]
    },
    {
      "cell_type": "code",
      "execution_count": 77,
      "metadata": {},
      "outputs": [
        {
          "data": {
            "text/plain": [
              "3"
            ]
          },
          "execution_count": 77,
          "metadata": {},
          "output_type": "execute_result"
        }
      ],
      "source": [
        "tup3.index(\"h\")"
      ]
    },
    {
      "cell_type": "markdown",
      "metadata": {},
      "source": [
        "#### Ahora, usa un bucle FOR para verificar si cada letra de la siguiente lista está presente en `tup3`:\n",
        "\n",
        "```\n",
        "letters = [\"a\", \"b\", \"c\", \"d\", \"e\"]\n",
        "```\n",
        "\n",
        "Para cada letra que verifiques, imprime `True` si está presente en `tup3`, de lo contrario imprime `False`.\n",
        "\n",
        "*Sugerencia: solo necesitas hacer un bucle en `letters`. No necesitas hacer un bucle en `tup3` porque hay un operador de Python `in` que puedes usar. Consulta la [referencia](https://stackoverflow.com/questions/17920147/how-to-check-if-a-tuple-contains-an-element-in-python).*"
      ]
    },
    {
      "cell_type": "code",
      "execution_count": 80,
      "metadata": {},
      "outputs": [
        {
          "name": "stdout",
          "output_type": "stream",
          "text": [
            "La letra a no está.\n",
            "False\n",
            "La letra b no está.\n",
            "False\n",
            "La letra c no está.\n",
            "False\n",
            "La letra d no está.\n",
            "False\n",
            "La letra e no está.\n",
            "False\n"
          ]
        }
      ],
      "source": [
        "letter = [\"a\", \"b\", \"c\", \"d\", \"e\"]\n",
        "\n",
        "for i in letter:\n",
        "    if i in tup3:\n",
        "        print(f\"La letra {i} está.\")\n",
        "        print(\"True\")\n",
        "    else:\n",
        "        print(f\"La letra {i} no está.\")\n",
        "        print(\"False\")"
      ]
    },
    {
      "cell_type": "markdown",
      "metadata": {},
      "source": [
        "#### ¿Cuántas veces aparece cada letra de `letters` en `tup3`?\n",
        "\n",
        "Imprime la cantidad de veces que aparece cada letra."
      ]
    },
    {
      "cell_type": "code",
      "execution_count": 81,
      "metadata": {},
      "outputs": [],
      "source": [
        "# No hay letras de la lista que estén en la tupla"
      ]
    },
    {
      "cell_type": "markdown",
      "metadata": {},
      "source": [
        "-----------------------------"
      ]
    },
    {
      "cell_type": "markdown",
      "metadata": {
        "slideshow": {
          "slide_type": "notes"
        }
      },
      "source": [
        "### Sets (conjuntos)\n",
        "Los sets (conjuntos) se utilizan para almacenar varios elementos en una única variable. A diferencia de las listas, contienen elementos individuales y no tienen un orden."
      ]
    },
    {
      "attachments": {
        "image.png": {
          "image/png": "[encoded data removed]"
        }
      },
      "cell_type": "markdown",
      "metadata": {},
      "source": [
        "![image.png](attachment:image.png)"
      ]
    },
    {
      "cell_type": "code",
      "execution_count": 1,
      "metadata": {},
      "outputs": [
        {
          "data": {
            "text/plain": [
              "set()"
            ]
          },
          "execution_count": 1,
          "metadata": {},
          "output_type": "execute_result"
        }
      ],
      "source": [
        "ej = set()\n",
        "ej"
      ]
    },
    {
      "cell_type": "code",
      "execution_count": 6,
      "metadata": {},
      "outputs": [
        {
          "data": {
            "text/plain": [
              "{1, 2, 3}"
            ]
          },
          "execution_count": 6,
          "metadata": {},
          "output_type": "execute_result"
        }
      ],
      "source": [
        "set([1,2,3])"
      ]
    },
    {
      "cell_type": "markdown",
      "metadata": {
        "lang": "en"
      },
      "source": [
        "`add` Agrega un elemento al conjunto"
      ]
    },
    {
      "cell_type": "code",
      "execution_count": 17,
      "metadata": {},
      "outputs": [],
      "source": [
        "set_1 = {1,2,3,4,5}\n",
        "set_2 = {6,7,8,9,10}"
      ]
    },
    {
      "cell_type": "code",
      "execution_count": 18,
      "metadata": {},
      "outputs": [
        {
          "name": "stdout",
          "output_type": "stream",
          "text": [
            "{1, 2, 3, 4, 5, 6}\n"
          ]
        }
      ],
      "source": [
        "set_1.add(6)\n",
        "print(set_1)"
      ]
    },
    {
      "cell_type": "markdown",
      "metadata": {
        "lang": "en"
      },
      "source": [
        "`clear` Borra todos los elementos del conjunto"
      ]
    },
    {
      "cell_type": "code",
      "execution_count": 16,
      "metadata": {},
      "outputs": [
        {
          "name": "stdout",
          "output_type": "stream",
          "text": [
            "set()\n"
          ]
        }
      ],
      "source": [
        "set_1.clear()\n",
        "print(set_1)"
      ]
    },
    {
      "cell_type": "markdown",
      "metadata": {
        "lang": "en"
      },
      "source": [
        "`copy` Devuelve una copia del conjunto"
      ]
    },
    {
      "cell_type": "code",
      "execution_count": 19,
      "metadata": {},
      "outputs": [
        {
          "name": "stdout",
          "output_type": "stream",
          "text": [
            "{1, 2, 3, 4, 5}\n"
          ]
        }
      ],
      "source": [
        "set1 = {1, 2, 3, 4, 5}\n",
        "setcopia = set1.copy()\n",
        "print(setcopia)"
      ]
    },
    {
      "cell_type": "markdown",
      "metadata": {
        "lang": "en"
      },
      "source": [
        "`difference()` Devuelve un conjunto que contiene la diferencia entre dos o más conjuntos. Lo que realmente devuelve son los elementos que están SÓLO en el primer conjunto."
      ]
    },
    {
      "cell_type": "code",
      "execution_count": null,
      "metadata": {},
      "outputs": [
        {
          "data": {
            "text/plain": [
              "{1, 2, 3}"
            ]
          },
          "execution_count": 20,
          "metadata": {},
          "output_type": "execute_result"
        }
      ],
      "source": [
        "set_1 = {1,2,3,4,5}\n",
        "set_2 = {4,5,6,7,8}\n",
        "set_1.difference(set_2)\n",
        "\n",
        "#Devuelve los elementos que están en el primer conjunto pero no en el segundo (Diagrama dibujado arriba)"
      ]
    },
    {
      "cell_type": "markdown",
      "metadata": {},
      "source": [
        "`discard` y `remove`: el método incorporado discard() en Python elimina el elemento del conjunto solo si el elemento está presente en el conjunto. Si el elemento no está presente en el conjunto, no se genera ningún error ni excepción y se imprime el conjunto original."
      ]
    },
    {
      "cell_type": "markdown",
      "metadata": {
        "lang": "en"
      },
      "source": [
        "`discard` Elimina el elemento especificado"
      ]
    },
    {
      "cell_type": "code",
      "execution_count": 24,
      "metadata": {},
      "outputs": [
        {
          "name": "stdout",
          "output_type": "stream",
          "text": [
            "{1, 2, 4, 5}\n"
          ]
        }
      ],
      "source": [
        "set_1 = {1,2,3,4,5}\n",
        "set_1.discard(3)\n",
        "print(set_1)"
      ]
    },
    {
      "cell_type": "markdown",
      "metadata": {
        "lang": "en"
      },
      "source": [
        "`remove` Elimina el elemento especificado"
      ]
    },
    {
      "cell_type": "code",
      "execution_count": 27,
      "metadata": {},
      "outputs": [
        {
          "name": "stdout",
          "output_type": "stream",
          "text": [
            "{1, 3, 4, 5}\n"
          ]
        }
      ],
      "source": [
        "set1 = {1, 2, 3, 4, 5}\n",
        "set1.remove(2)\n",
        "print(set1)"
      ]
    },
    {
      "cell_type": "markdown",
      "metadata": {
        "lang": "en"
      },
      "source": [
        "`intersection()` Devuelve un conjunto que es la intersección de dos o más conjuntos"
      ]
    },
    {
      "cell_type": "code",
      "execution_count": null,
      "metadata": {},
      "outputs": [
        {
          "data": {
            "text/plain": [
              "{4, 5}"
            ]
          },
          "execution_count": 21,
          "metadata": {},
          "output_type": "execute_result"
        }
      ],
      "source": [
        "set_1 = {1,2,3,4,5}\n",
        "set_2 = {4,5,6,7,8}\n",
        "set_1.intersection(set_2)\n",
        "\n",
        "# Devuelve los elementos que están en ambos conjuntos (Diagrama dibujado arriba)"
      ]
    },
    {
      "cell_type": "markdown",
      "metadata": {
        "lang": "en"
      },
      "source": [
        "`issubset` Devuelve si otro conjunto contiene o no este conjunto"
      ]
    },
    {
      "cell_type": "code",
      "execution_count": null,
      "metadata": {},
      "outputs": [
        {
          "data": {
            "text/plain": [
              "False"
            ]
          },
          "execution_count": 23,
          "metadata": {},
          "output_type": "execute_result"
        }
      ],
      "source": [
        "set_1 = {1,2,3,4,15}\n",
        "set_2 = {1,2,3,4,5,6,7,8,9,10}\n",
        "\n",
        "set_1.issubset(set_2)\n",
        "#Comprueba si todos los elementos del primer conjunto están en el segundo conjunto o del pequeño al grande"
      ]
    },
    {
      "cell_type": "markdown",
      "metadata": {},
      "source": [
        "## Código"
      ]
    },
    {
      "cell_type": "markdown",
      "metadata": {
        "lang": "en"
      },
      "source": [
        "`issuperset` Devuelve si este conjunto contiene otro conjunto o no"
      ]
    },
    {
      "cell_type": "code",
      "execution_count": 28,
      "metadata": {},
      "outputs": [
        {
          "data": {
            "text/plain": [
              "True"
            ]
          },
          "execution_count": 28,
          "metadata": {},
          "output_type": "execute_result"
        }
      ],
      "source": [
        "set1 = {1, 2, 3, 4, 5, 6, 7, 8, 9, 10}\n",
        "set2 = {1, 2, 3}\n",
        "\n",
        "set1.issuperset(set2)\n",
        "#Comprueba si todos los elementos del segundo conjunto están en el primero o del grande al pequeño"
      ]
    },
    {
      "cell_type": "markdown",
      "metadata": {
        "lang": "en"
      },
      "source": [
        "`pop` Elimina un elemento del conjunto. Elimina el primer elemento de un conjunto y, además, nos lo devuelve. Se diferencia de las listas que no tienen parámetros a los que pasar un índice."
      ]
    },
    {
      "cell_type": "code",
      "execution_count": 33,
      "metadata": {},
      "outputs": [
        {
          "name": "stdout",
          "output_type": "stream",
          "text": [
            "{2, 3, 4, 5}\n"
          ]
        }
      ],
      "source": [
        "set1 = {1, 2, 3, 4, 5}\n",
        "set1.pop()\n",
        "print(set1)"
      ]
    },
    {
      "cell_type": "markdown",
      "metadata": {
        "lang": "en"
      },
      "source": [
        "`union` Devuelve un conjunto que contiene la unión de conjuntos"
      ]
    },
    {
      "cell_type": "code",
      "execution_count": 35,
      "metadata": {},
      "outputs": [
        {
          "data": {
            "text/plain": [
              "{1, 2, 3, 4, 5, 6, 7, 8}"
            ]
          },
          "execution_count": 35,
          "metadata": {},
          "output_type": "execute_result"
        }
      ],
      "source": [
        "set1 = {1, 2, 3, 4, 5}\n",
        "set2 = {4, 5, 6, 7, 8}\n",
        "\n",
        "set1.union(set2)\n",
        "#Como es un set no devuelve elementos repetidos aunque estén en ambos conjuntos"
      ]
    },
    {
      "cell_type": "markdown",
      "metadata": {
        "lang": "en"
      },
      "source": [
        "`update` Actualiza el conjunto con otro conjunto o cualquier otro iterable. No devuelve uno nuevo, solo actualiza el anterior."
      ]
    },
    {
      "cell_type": "code",
      "execution_count": 36,
      "metadata": {},
      "outputs": [
        {
          "name": "stdout",
          "output_type": "stream",
          "text": [
            "{1, 2, 3, 4, 5, 6, 7, 8}\n"
          ]
        }
      ],
      "source": [
        "set1 = {1, 2, 3, 4, 5}\n",
        "set1.update({6,7,8})\n",
        "print(set1)"
      ]
    },
    {
      "cell_type": "markdown",
      "metadata": {},
      "source": [
        "### 💪 Hands-on "
      ]
    },
    {
      "cell_type": "code",
      "execution_count": 63,
      "metadata": {},
      "outputs": [],
      "source": [
        "import random   "
      ]
    },
    {
      "cell_type": "markdown",
      "metadata": {},
      "source": [
        "⚠️ ¿Te salió el mensaje: módulo no encontrado? Prueba en una celda: <br>\n",
        "`!pip install random`<br>\n",
        "`import random`"
      ]
    },
    {
      "cell_type": "markdown",
      "metadata": {},
      "source": [
        "#### En la celda siguiente, crea una lista llamada `sample_list_1` con 80 valores aleatorios. \n",
        "\n",
        "Requisitos:\n",
        "\n",
        "* Cada valor es un número entero comprendido entre 0 y 100.\n",
        "* Cada valor de la lista es único.\n",
        "\n",
        "Imprime `sample_list_1` para revisar sus valores\n",
        "\n",
        "*Sugerencia: usa `random.sample` ([referencia](https://docs.python.org/3/library/random.html#random.sample)).*"
      ]
    },
    {
      "cell_type": "code",
      "execution_count": 78,
      "metadata": {},
      "outputs": [],
      "source": [
        "sample_list_1 = random.sample(range(1, 100), k=80)"
      ]
    },
    {
      "cell_type": "markdown",
      "metadata": {},
      "source": [
        "#### Convierte `sample_list_1` en un conjunto llamado `set1`. Imprime la longitud del conjunto. ¿Su longitud sigue siendo 80?"
      ]
    },
    {
      "cell_type": "code",
      "execution_count": 80,
      "metadata": {},
      "outputs": [
        {
          "name": "stdout",
          "output_type": "stream",
          "text": [
            "{1, 2, 3, 4, 6, 8, 10, 11, 13, 14, 16, 17, 18, 19, 20, 21, 22, 23, 24, 26, 27, 29, 30, 31, 32, 33, 34, 35, 36, 37, 38, 39, 40, 41, 42, 43, 45, 46, 47, 48, 49, 51, 52, 53, 54, 55, 56, 57, 58, 59, 60, 61, 62, 63, 64, 65, 68, 69, 70, 71, 72, 73, 76, 77, 78, 80, 81, 82, 83, 84, 85, 87, 88, 89, 90, 92, 95, 97, 98, 99}\n",
            "80\n"
          ]
        }
      ],
      "source": [
        "set_1 = set(sample_list_1)\n",
        "print(set_1)\n",
        "print(len(set_1))"
      ]
    },
    {
      "cell_type": "markdown",
      "metadata": {},
      "source": [
        "#### Crea otra lista llamada `sample_list_2` con 80 valores aleatorios.\n",
        "\n",
        "Requisitos:\n",
        "\n",
        "* Cada valor es un número entero comprendido entre 0 y 100.\n",
        "* Los valores de la lista no tienen que ser únicos.\n",
        "\n",
        "*Sugerencia: usa un bucle FOR.*"
      ]
    },
    {
      "cell_type": "code",
      "execution_count": 96,
      "metadata": {},
      "outputs": [
        {
          "name": "stdout",
          "output_type": "stream",
          "text": [
            "[1, 93, 49, 46, 59, 4, 17, 37, 63, 43, 70, 13, 24, 64, 9, 91, 84, 63, 54, 58, 69, 43, 54, 36, 25, 80, 74, 84, 49, 65, 9, 45, 50, 3, 66, 28, 66, 18, 76, 33, 75, 16, 4, 100, 1, 94, 11, 92, 49, 22, 67, 77, 2, 87, 70, 92, 34, 18, 38, 85, 20, 4, 55, 58, 60, 17, 64, 81, 85, 76, 47, 7, 44, 81, 33, 35, 23, 26, 63, 33]\n",
            "57\n"
          ]
        }
      ],
      "source": [
        "sample_list_2 = []\n",
        "\n",
        "for _ in range(80):\n",
        "    aleatorio = random.randint(1, 100)\n",
        "    sample_list_2.append(aleatorio)\n",
        "\n",
        "print(sample_list_2)\n",
        "print(len(set(sample_list_2)))"
      ]
    },
    {
      "cell_type": "markdown",
      "metadata": {},
      "source": [
        "#### Convierte `sample_list_2` en un conjunto llamado `set2`. Imprime la longitud del conjunto. ¿Su longitud sigue siendo 80?"
      ]
    },
    {
      "cell_type": "code",
      "execution_count": 97,
      "metadata": {},
      "outputs": [
        {
          "name": "stdout",
          "output_type": "stream",
          "text": [
            "57\n"
          ]
        }
      ],
      "source": [
        "set2 = set(sample_list_2)\n",
        "print(len(set2))"
      ]
    },
    {
      "cell_type": "markdown",
      "metadata": {},
      "source": [
        "#### Identifica los elementos presentes en `set1` pero no en `set2`. Asigna los elementos a un nuevo conjunto llamado `set3`."
      ]
    },
    {
      "cell_type": "code",
      "execution_count": 101,
      "metadata": {},
      "outputs": [],
      "source": [
        "set3 = set_1.difference(set2)"
      ]
    },
    {
      "cell_type": "markdown",
      "metadata": {},
      "source": [
        "#### Identifica los elementos presentes en `set2` pero no en `set1`. Asigna los elementos a un nuevo conjunto llamado `set4`."
      ]
    },
    {
      "cell_type": "code",
      "execution_count": 102,
      "metadata": {},
      "outputs": [],
      "source": [
        "set4 = set2.difference(set_1)"
      ]
    },
    {
      "cell_type": "markdown",
      "metadata": {},
      "source": [
        "#### Ahora, identifica los elementos compartidos entre `set1` y `set2`. Asigna los elementos a un nuevo conjunto llamado `set5`."
      ]
    },
    {
      "cell_type": "code",
      "execution_count": 103,
      "metadata": {},
      "outputs": [
        {
          "name": "stdout",
          "output_type": "stream",
          "text": [
            "{6, 7, 8, 9, 10, 14, 19, 21, 25, 27, 28, 29, 30, 31, 32, 39, 40, 41, 42, 44, 48, 50, 51, 52, 53, 56, 57, 61, 62, 66, 67, 68, 71, 72, 73, 74, 75, 78, 82, 83, 88, 89, 90, 91, 93, 94, 95, 97, 98, 99, 100}\n"
          ]
        }
      ],
      "source": [
        "set5 = set4.union(set3)\n",
        "print(set5)"
      ]
    },
    {
      "cell_type": "markdown",
      "metadata": {},
      "source": [
        "`start, step, stop`"
      ]
    },
    {
      "cell_type": "markdown",
      "metadata": {},
      "source": [
        "#### ¿Cuál es la relación entre los siguientes valores:\n",
        "\n",
        "* len(set1)\n",
        "* len(set2)\n",
        "* len(set3)\n",
        "* len(set4)\n",
        "* len(set5)\n",
        "\n",
        "Use una fórmula matemática para representar esa relación. Pruebe su fórmula con código Python. "
      ]
    },
    {
      "cell_type": "markdown",
      "metadata": {},
      "source": [
        "#### Elimina todos los elementos de la siguiente lista de `set1` si están presentes en el conjunto. Imprime los elementos restantes.\n",
        "\n",
        "```\n",
        "list_to_remove = [1, 9, 11, 19, 21, 29, 31, 39, 41, 49, 51, 59, 61, 69, 71, 79, 81, 89, 91, 99]\n",
        "```"
      ]
    },
    {
      "cell_type": "markdown",
      "metadata": {
        "lang": "en"
      },
      "source": [
        "### Diccionarios"
      ]
    },
    {
      "cell_type": "code",
      "execution_count": null,
      "metadata": {},
      "outputs": [
        {
          "name": "stdout",
          "output_type": "stream",
          "text": [
            "1\n",
            "2\n",
            "3\n",
            "4\n",
            "5\n",
            "90\n"
          ]
        }
      ],
      "source": [
        "\n",
        "# Ejemplo con set\n",
        "for i in {1,2,90,3,4,5}:\n",
        "    print(i)\n",
        "\n",
        "# [] Tiene orden y tiene índice\n",
        "# {} No tiene orden ni índice\n",
        "# () Tuplas tienen orden pero no índice\n",
        "\n",
        "\n",
        "# {:} Diccionario, es un conjunto de pares clave:valor"
      ]
    },
    {
      "cell_type": "code",
      "execution_count": 40,
      "metadata": {},
      "outputs": [
        {
          "data": {
            "text/plain": [
              "{'Nombre': 'Laura', 'Edad': 30}"
            ]
          },
          "execution_count": 40,
          "metadata": {},
          "output_type": "execute_result"
        }
      ],
      "source": [
        "{\"Nombre\":\"Laura\", \"Edad\":30}"
      ]
    },
    {
      "cell_type": "code",
      "execution_count": null,
      "metadata": {},
      "outputs": [
        {
          "data": {
            "text/plain": [
              "{'Nombre': 'Carlos', 'Edad': 30}"
            ]
          },
          "execution_count": 42,
          "metadata": {},
          "output_type": "execute_result"
        }
      ],
      "source": [
        "{\"Nombre\":\"Laura\", \"Edad\":30, \"Nombre\":\"Carlos\"}\n",
        "#Se sobreescribe el nombre y se queda el último valor asignado"
      ]
    },
    {
      "cell_type": "markdown",
      "metadata": {
        "lang": "en"
      },
      "source": [
        "`clear` Elimina todos los elementos del diccionario"
      ]
    },
    {
      "cell_type": "code",
      "execution_count": 46,
      "metadata": {},
      "outputs": [
        {
          "name": "stdout",
          "output_type": "stream",
          "text": [
            "{'Nombre': 'Laura', 'Edad': 30, 'Ciudad': 'Madrid'}\n",
            "{}\n"
          ]
        }
      ],
      "source": [
        "diccionario = {\"Nombre\":\"Laura\", \"Edad\":30, \"Ciudad\":\"Madrid\"}\n",
        "print(diccionario)\n",
        "diccionario.clear()\n",
        "print(diccionario)"
      ]
    },
    {
      "cell_type": "markdown",
      "metadata": {
        "lang": "en"
      },
      "source": [
        "`items()` Devuelve una lista que contiene una tupla para cada par clave-valor"
      ]
    },
    {
      "cell_type": "code",
      "execution_count": 47,
      "metadata": {},
      "outputs": [
        {
          "name": "stdout",
          "output_type": "stream",
          "text": [
            "dict_items([('Nombre', 'Laura'), ('Edad', 30), ('Ciudad', 'Madrid')])\n"
          ]
        }
      ],
      "source": [
        "diccionario = {\"Nombre\":\"Laura\", \"Edad\":30, \"Ciudad\":\"Madrid\"}\n",
        "print(diccionario.items())"
      ]
    },
    {
      "cell_type": "markdown",
      "metadata": {
        "lang": "en"
      },
      "source": [
        "`keys` Devuelve una lista de las claves en el diccionario"
      ]
    },
    {
      "cell_type": "code",
      "execution_count": 48,
      "metadata": {},
      "outputs": [
        {
          "name": "stdout",
          "output_type": "stream",
          "text": [
            "dict_keys(['Nombre', 'Edad', 'Ciudad'])\n"
          ]
        }
      ],
      "source": [
        "diccionario = {\"Nombre\":\"Laura\", \"Edad\":30, \"Ciudad\":\"Madrid\"}\n",
        "print(diccionario.keys())"
      ]
    },
    {
      "cell_type": "markdown",
      "metadata": {
        "lang": "en"
      },
      "source": [
        "`values` Devuelve una lista de todos los valores del diccionario"
      ]
    },
    {
      "cell_type": "code",
      "execution_count": 49,
      "metadata": {},
      "outputs": [
        {
          "name": "stdout",
          "output_type": "stream",
          "text": [
            "dict_values(['Laura', 30, 'Madrid'])\n"
          ]
        }
      ],
      "source": [
        "diccionario = {\"Nombre\":\"Laura\", \"Edad\":30, \"Ciudad\":\"Madrid\"}\n",
        "print(diccionario.values())"
      ]
    },
    {
      "cell_type": "markdown",
      "metadata": {
        "lang": "en"
      },
      "source": [
        "`pop()` Elimina el elemento con la clave especificada. Me devuelve el valor."
      ]
    },
    {
      "cell_type": "code",
      "execution_count": 50,
      "metadata": {},
      "outputs": [
        {
          "name": "stdout",
          "output_type": "stream",
          "text": [
            "{'Nombre': 'Laura', 'Edad': 30, 'Ciudad': 'Madrid'}\n",
            "{'Nombre': 'Laura', 'Ciudad': 'Madrid'}\n"
          ]
        }
      ],
      "source": [
        "diccionario = {\"Nombre\":\"Laura\", \"Edad\":30, \"Ciudad\":\"Madrid\"}\n",
        "print(diccionario)\n",
        "diccionario.pop(\"Edad\")\n",
        "print(diccionario)"
      ]
    },
    {
      "cell_type": "markdown",
      "metadata": {
        "lang": "en"
      },
      "source": [
        "`popitem` Elimina el último par clave-valor insertado"
      ]
    },
    {
      "cell_type": "code",
      "execution_count": 51,
      "metadata": {},
      "outputs": [
        {
          "name": "stdout",
          "output_type": "stream",
          "text": [
            "{'Nombre': 'Laura', 'Edad': 30, 'Ciudad': 'Madrid'}\n",
            "{'Nombre': 'Laura', 'Edad': 30}\n"
          ]
        }
      ],
      "source": [
        "diccionario = {\"Nombre\":\"Laura\", \"Edad\":30, \"Ciudad\":\"Madrid\"}\n",
        "print(diccionario)\n",
        "diccionario.popitem()\n",
        "print(diccionario)"
      ]
    },
    {
      "cell_type": "markdown",
      "metadata": {
        "lang": "en"
      },
      "source": [
        "`update` Actualiza el diccionario con los pares clave-valor especificados"
      ]
    },
    {
      "cell_type": "code",
      "execution_count": 52,
      "metadata": {},
      "outputs": [
        {
          "name": "stdout",
          "output_type": "stream",
          "text": [
            "{'Nombre': 'Laura', 'Edad': 30, 'Ciudad': 'Madrid'}\n",
            "{'Nombre': 'Laura', 'Edad': 31, 'Ciudad': 'Madrid', 'Pais': 'España'}\n"
          ]
        }
      ],
      "source": [
        "diccionario = {\"Nombre\":\"Laura\", \"Edad\":30, \"Ciudad\":\"Madrid\"}\n",
        "print(diccionario)\n",
        "diccionario.update({\"Edad\":31, \"Pais\":\"España\"})\n",
        "print(diccionario)"
      ]
    },
    {
      "cell_type": "markdown",
      "metadata": {},
      "source": [
        "### 💪 Hands-on "
      ]
    },
    {
      "cell_type": "code",
      "execution_count": 53,
      "metadata": {},
      "outputs": [],
      "source": [
        "# Crear un diccionario de estudiantes\n",
        "diccionario = {}"
      ]
    },
    {
      "cell_type": "code",
      "execution_count": 54,
      "metadata": {},
      "outputs": [
        {
          "name": "stdout",
          "output_type": "stream",
          "text": [
            "{'María': {'Matemáticas': 8, 'Biología': 7}, 'Carlos': {'Física': 6, 'Matemáticas': 9}, 'José': {'Inglés': 3}}\n"
          ]
        }
      ],
      "source": [
        "# Agregar un estudiante con sus calificaciones: María tiene ha sacado un 8 en Matemáticas y un 7 en Biología, Carlos tiene un 6 en Física y un 9 en Matemáticas, José un 3 en Inglés\n",
        "diccionario.update({\"María\":{\"Matemáticas\":8, \"Biología\":7}, \"Carlos\":{\"Física\":6, \"Matemáticas\":9}, \"José\":{\"Inglés\":3}})\n",
        "print(diccionario)"
      ]
    },
    {
      "cell_type": "code",
      "execution_count": 55,
      "metadata": {},
      "outputs": [
        {
          "name": "stdout",
          "output_type": "stream",
          "text": [
            "Estudiante: María\n",
            "  Matemáticas: 8\n",
            "  Biología: 7\n",
            "Estudiante: Carlos\n",
            "  Física: 6\n",
            "  Matemáticas: 9\n",
            "Estudiante: José\n",
            "  Inglés: 3\n"
          ]
        }
      ],
      "source": [
        "# Muestra todos los estudiantes y sus calificaciones: usando print & format\n",
        "for estudiante, calificaciones in diccionario.items():\n",
        "    print(f\"Estudiante: {estudiante}\")\n",
        "    for asignatura, nota in calificaciones.items():\n",
        "        print(f\"  {asignatura}: {nota}\")"
      ]
    },
    {
      "cell_type": "code",
      "execution_count": 56,
      "metadata": {},
      "outputs": [
        {
          "name": "stdout",
          "output_type": "stream",
          "text": [
            "El promedio de María es: 7.5\n"
          ]
        }
      ],
      "source": [
        "# Calcular el promedio de un estudiante\n",
        "estudiante = \"María\"\n",
        "calificaciones = diccionario[estudiante]\n",
        "promedio = sum(calificaciones.values()) / len(calificaciones)\n",
        "print(f\"El promedio de {estudiante} es: {promedio}\")"
      ]
    },
    {
      "cell_type": "code",
      "execution_count": 57,
      "metadata": {},
      "outputs": [
        {
          "name": "stdout",
          "output_type": "stream",
          "text": [
            "{'María': {'Matemáticas': 8, 'Biología': 7}, 'Carlos': {'Física': 5, 'Matemáticas': 9}, 'José': {'Inglés': 3}}\n"
          ]
        }
      ],
      "source": [
        "# Actualizar la calificación de un estudiante: Carlos va a revisión y le bajan la nota de Física a un 5\n",
        "diccionario[\"Carlos\"][\"Física\"] = 5\n",
        "print(diccionario)"
      ]
    },
    {
      "cell_type": "code",
      "execution_count": 58,
      "metadata": {},
      "outputs": [
        {
          "name": "stdout",
          "output_type": "stream",
          "text": [
            "El promedio de Carlos es: 7.0\n"
          ]
        }
      ],
      "source": [
        "# Calcula la media de Carlos\n",
        "calificaciones_carlos = diccionario[\"Carlos\"]\n",
        "promedio_carlos = sum(calificaciones_carlos.values()) / len(calificaciones_carlos)\n",
        "print(f\"El promedio de Carlos es: {promedio_carlos}\")"
      ]
    },
    {
      "cell_type": "code",
      "execution_count": 59,
      "metadata": {},
      "outputs": [
        {
          "name": "stdout",
          "output_type": "stream",
          "text": [
            "El promedio de la clase es: 6.4\n"
          ]
        }
      ],
      "source": [
        "# Calcula la media la clase\n",
        "total_notas = 0\n",
        "num_notas = 0\n",
        "for calificaciones in diccionario.values():\n",
        "    total_notas += sum(calificaciones.values())\n",
        "    num_notas += len(calificaciones)\n",
        "promedio_clase = total_notas / num_notas\n",
        "print(f\"El promedio de la clase es: {promedio_clase}\")\n"
      ]
    },
    {
      "cell_type": "code",
      "execution_count": 60,
      "metadata": {},
      "outputs": [
        {
          "name": "stdout",
          "output_type": "stream",
          "text": [
            "María ha aprobado con un promedio de 7.5\n",
            "Carlos ha aprobado con un promedio de 7.0\n",
            "José no ha aprobado con un promedio de 3.0\n"
          ]
        }
      ],
      "source": [
        "# ¿Qué alumnos han aprobado?\n",
        "for estudiante, calificaciones in diccionario.items():\n",
        "    promedio = sum(calificaciones.values()) / len(calificaciones)\n",
        "    if promedio >= 5:\n",
        "        print(f\"{estudiante} ha aprobado con un promedio de {promedio}\")\n",
        "    else:\n",
        "        print(f\"{estudiante} no ha aprobado con un promedio de {promedio}\")"
      ]
    },
    {
      "cell_type": "markdown",
      "metadata": {
        "lang": "en"
      },
      "source": [
        "## Resumen\n",
        "Ahora te toca a ti, ¿qué hemos aprendido hoy?"
      ]
    },
    {
      "cell_type": "code",
      "execution_count": null,
      "metadata": {},
      "outputs": [],
      "source": []
    }
  ],
  "metadata": {
    "author": "https://github.com/breogann",
    "created": "2021",
    "kernelspec": {
      "display_name": "Python 3",
      "language": "python",
      "name": "python3"
    },
    "language_info": {
      "codemirror_mode": {
        "name": "ipython",
        "version": 3
      },
      "file_extension": ".py",
      "mimetype": "text/x-python",
      "name": "python",
      "nbconvert_exporter": "python",
      "pygments_lexer": "ipython3",
      "version": "3.13.7"
    },
    "nbTranslate": {
      "displayLangs": [
        "en",
        "es"
      ],
      "hotkey": "alt-a",
      "langInMainMenu": true,
      "sourceLang": "es",
      "targetLang": "en",
      "useGoogleTranslate": true
    },
    "toc": {
      "base_numbering": 1,
      "nav_menu": {},
      "number_sections": true,
      "sideBar": true,
      "skip_h1_title": true,
      "title_cell": "Table of Contents",
      "title_sidebar": "Contents",
      "toc_cell": true,
      "toc_position": {
        "height": "calc(100% - 180px)",
        "left": "10px",
        "top": "150px",
        "width": "222.891px"
      },
      "toc_section_display": true,
      "toc_window_display": false
    },
    "varInspector": {
      "cols": {
        "lenName": 16,
        "lenType": 16,
        "lenVar": 40
      },
      "kernels_config": {
        "python": {
          "delete_cmd_postfix": "",
          "delete_cmd_prefix": "del ",
          "library": "var_list.py",
          "varRefreshCmd": "print(var_dic_list())"
        },
        "r": {
          "delete_cmd_postfix": ") ",
          "delete_cmd_prefix": "rm(",
          "library": "var_list.r",
          "varRefreshCmd": "cat(var_dic_list()) "
        }
      },
      "types_to_exclude": [
        "module",
        "function",
        "builtin_function_or_method",
        "instance",
        "_Feature"
      ],
      "window_display": false
    }
  },
  "nbformat": 4,
  "nbformat_minor": 4
}
