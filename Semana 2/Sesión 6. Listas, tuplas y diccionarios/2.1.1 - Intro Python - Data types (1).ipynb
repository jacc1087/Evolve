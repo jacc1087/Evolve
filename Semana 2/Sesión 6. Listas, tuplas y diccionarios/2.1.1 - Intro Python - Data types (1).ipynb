{
 "cells": [
  {
   "cell_type": "markdown",
   "metadata": {
    "lang": "en"
   },
   "source": [
    "# Estructuras de datos"
   ]
  },
  {
   "cell_type": "code",
   "execution_count": 1,
   "metadata": {},
   "outputs": [
    {
     "data": {
      "text/plain": [
       "'\\nDATA (no repo)\\n\\n    /evolve-data-python (repo) - sólo lectura\\n    /apuntes (repo) - lectura/escritura - propio\\n    /proyectos_1\\n    /proyecto_2\\n'"
      ]
     },
     "execution_count": 1,
     "metadata": {},
     "output_type": "execute_result"
    }
   ],
   "source": [
    "# Estructura \n",
    "\"\"\"\n",
    "DATA (no repo)\n",
    "\n",
    "    /evolve-data-python (repo) - sólo lectura\n",
    "    /apuntes (repo) - lectura/escritura - propio\n",
    "    /proyectos_1\n",
    "    /proyecto_2\n",
    "\"\"\""
   ]
  },
  {
   "cell_type": "code",
   "execution_count": 2,
   "metadata": {},
   "outputs": [
    {
     "data": {
      "text/plain": [
       "'\\nDATA (no repo)\\n\\n/evolve-data-python (repo) - sólo lectura\\n/evolve-data-python - FORK - lectura/escritura - propio\\n/proyectos_1\\n/proyecto_2\\n\\n'"
      ]
     },
     "execution_count": 2,
     "metadata": {},
     "output_type": "execute_result"
    }
   ],
   "source": [
    "\"\"\"\n",
    "DATA (no repo)\n",
    "\n",
    "/evolve-data-python (repo) - sólo lectura\n",
    "/evolve-data-python - FORK - lectura/escritura - propio\n",
    "/proyectos_1\n",
    "/proyecto_2\n",
    "\n",
    "\"\"\""
   ]
  },
  {
   "cell_type": "code",
   "execution_count": 3,
   "metadata": {},
   "outputs": [],
   "source": [
    "# 1. crear en la web y clonar\n",
    "# 2. git init y luego enlazar (también en la web)\n",
    "    # git init\n",
    "    # git init -> crea una carpeta .git (con la config vacía)\n",
    "    # puede ser \"peligroso\"\n",
    "    # git init -> la root del ordenador -> trackear todos tus archivos\n",
    "        # rm -rf .git\n",
    "        # NO HACER: git init; git add remote origin LA_URL\n",
    "# git init -> os va crear la rama master en vez de la main\n",
    "    # off-topic: el cambio de master a main, blacklivesmatter \n",
    "    # "
   ]
  },
  {
   "cell_type": "code",
   "execution_count": 4,
   "metadata": {},
   "outputs": [],
   "source": [
    "# git fetch: LEER los cambios de arriba\n",
    "# git pull: git fetch & git merge\n",
    "# git pull: te incluye los cambio nuevos: te trae el commit y te actualiza a la última versión"
   ]
  },
  {
   "cell_type": "code",
   "execution_count": 5,
   "metadata": {},
   "outputs": [
    {
     "data": {
      "text/plain": [
       "'\\nRECAP\\nTipos de perfiles en data\\n    - Data analyst\\n    - Data engineer\\n    - Data scientist\\n    - ML negineer\\n    \\nTipos de procesos\\n    - ETL: Extraction, Transformation, Load (pipelines): cadenas de procesos\\n    - EDA: Exploratory data analysis\\n    \\nHerramientas\\n    - Python\\n        - Scripting (automatizaciones)\\n        - Visualización datos\\n            - Seaborn, matplotlib, plotly\\n            - Pandas\\n        - Transformación datos: pandas\\n        - Exploración: pandas\\n        - Estadística, ML (python): scikitlearn, pytorch...\\n    - BBDD\\n        - Relacionales: SQL\\n        - No relacionales: diccionarios (objetos javascript)\\n    - Visualizaciones\\n        - Tableau, PowerBI\\n    - Control de versiones: git\\n    - Terminal: bash, scripting, automatizaciones, integración de bash en python\\n\\nIntro a variables\\nEntorno de trabajo\\n    - Jupyter/VScode\\nTerminal\\nGit\\n    - SCversiones\\n    - Git: la trazabilidad vs. github (web con repos)\\n    - Repositorio: carpeta. Tiene .git (conectar el local con el remoto)\\n    - Ramas: versiones paralelas de un repositorio\\n\\n    - PROCESO\\n        - 1. git status\\n        - 2. git add archivo_a_seguir\\n        - 3. git commit -m \"mensaje significativo\"\\n        - 4. git push origin main\\n             git push origin dev-feature-2\\n            - main / master (deprecated)\\n        - 5. git pull\\n\\n    - contribuir a otros respositorios\\n        - 1. FORK\\n        - 2. Git clone de NUESTRO FORK\\n        - 3. mismo proceso\\n        - 4. PULL REQUEST\\n            - pull request (PR) vs. git pull\\n            - petición al otro usuario para que descargue nuestras actualizaciones\\n            - desde la web: contribuir -> comparar historial de commits para integrarlo\\n    - ¿git add & git commit? \\n        - git add: añade (vs. cambiar) -> se añade -> no crea historial\\n            -> qué se añade a qué\\n            -> añadiendo el archivo al trackeo de los cambios\\n        - git commit: modfica / envía mensaje -> aplica los cambios -> sí crea historial\\n            -> confirmarlo -> graba el cambio\\n'"
      ]
     },
     "execution_count": 5,
     "metadata": {},
     "output_type": "execute_result"
    }
   ],
   "source": [
    "\"\"\"\n",
    "RECAP\n",
    "Tipos de perfiles en data\n",
    "    - Data analyst\n",
    "    - Data engineer\n",
    "    - Data scientist\n",
    "    - ML negineer\n",
    "    \n",
    "Tipos de procesos\n",
    "    - ETL: Extraction, Transformation, Load (pipelines): cadenas de procesos\n",
    "    - EDA: Exploratory data analysis\n",
    "    \n",
    "Herramientas\n",
    "    - Python\n",
    "        - Scripting (automatizaciones)\n",
    "        - Visualización datos\n",
    "            - Seaborn, matplotlib, plotly\n",
    "            - Pandas\n",
    "        - Transformación datos: pandas\n",
    "        - Exploración: pandas\n",
    "        - Estadística, ML (python): scikitlearn, pytorch...\n",
    "    - BBDD\n",
    "        - Relacionales: SQL\n",
    "        - No relacionales: diccionarios (objetos javascript)\n",
    "    - Visualizaciones\n",
    "        - Tableau, PowerBI\n",
    "    - Control de versiones: git\n",
    "    - Terminal: bash, scripting, automatizaciones, integración de bash en python\n",
    "\n",
    "Intro a variables\n",
    "Entorno de trabajo\n",
    "    - Jupyter/VScode\n",
    "Terminal\n",
    "Git\n",
    "    - SCversiones\n",
    "    - Git: la trazabilidad vs. github (web con repos)\n",
    "    - Repositorio: carpeta. Tiene .git (conectar el local con el remoto)\n",
    "    - Ramas: versiones paralelas de un repositorio\n",
    "\n",
    "    - PROCESO\n",
    "        - 1. git status\n",
    "        - 2. git add archivo_a_seguir\n",
    "        - 3. git commit -m \"mensaje significativo\"\n",
    "        - 4. git push origin main\n",
    "             git push origin dev-feature-2\n",
    "            - main / master (deprecated)\n",
    "        - 5. git pull\n",
    "\n",
    "    - contribuir a otros respositorios\n",
    "        - 1. FORK\n",
    "        - 2. Git clone de NUESTRO FORK\n",
    "        - 3. mismo proceso\n",
    "        - 4. PULL REQUEST\n",
    "            - pull request (PR) vs. git pull\n",
    "            - petición al otro usuario para que descargue nuestras actualizaciones\n",
    "            - desde la web: contribuir -> comparar historial de commits para integrarlo\n",
    "    - ¿git add & git commit? \n",
    "        - git add: añade (vs. cambiar) -> se añade -> no crea historial\n",
    "            -> qué se añade a qué\n",
    "            -> añadiendo el archivo al trackeo de los cambios\n",
    "        - git commit: modfica / envía mensaje -> aplica los cambios -> sí crea historial\n",
    "            -> confirmarlo -> graba el cambio\n",
    "\"\"\""
   ]
  },
  {
   "cell_type": "code",
   "execution_count": 6,
   "metadata": {},
   "outputs": [],
   "source": [
    "# Tipos datos: int, float, str (booleanos)\n",
    "# Estructuras: listas, tuplas, sets, diccionarios"
   ]
  },
  {
   "cell_type": "markdown",
   "metadata": {},
   "source": [
    "Hay 4 elementos en Python que nos permiten almacenar colecciones de datos.\n",
    "- Listas\n",
    "- Tuplas\n",
    "- Sets\n",
    "- Diccionarios"
   ]
  },
  {
   "cell_type": "code",
   "execution_count": 7,
   "metadata": {},
   "outputs": [],
   "source": [
    "# []\n",
    "# ()\n",
    "# {}\n",
    "# {key:value}"
   ]
  },
  {
   "cell_type": "markdown",
   "metadata": {},
   "source": [
    "### Listas"
   ]
  },
  {
   "cell_type": "markdown",
   "metadata": {
    "lang": "en"
   },
   "source": [
    "Las listas pueden contener diferentes tipos de datos."
   ]
  },
  {
   "cell_type": "code",
   "execution_count": 8,
   "metadata": {},
   "outputs": [],
   "source": [
    "lst = []"
   ]
  },
  {
   "cell_type": "code",
   "execution_count": 9,
   "metadata": {},
   "outputs": [
    {
     "name": "stdout",
     "output_type": "stream",
     "text": [
      "<class 'int'>\n",
      "<class 'float'>\n",
      "<class 'bool'>\n",
      "<class 'str'>\n"
     ]
    }
   ],
   "source": [
    "lst_ = [1, 1.0, False, \"sdsd\"\n",
    "]\n",
    "for i in lst_:\n",
    "    print(type(i))"
   ]
  },
  {
   "cell_type": "code",
   "execution_count": 10,
   "metadata": {},
   "outputs": [],
   "source": [
    "lst_ = [\"123234 \", 343443, [\"más cosas\"], [[\"Hola\"], [\"qué tal\"]]]"
   ]
  },
  {
   "cell_type": "code",
   "execution_count": 11,
   "metadata": {},
   "outputs": [
    {
     "ename": "TypeError",
     "evalue": "unsupported operand type(s) for +: 'int' and 'str'",
     "output_type": "error",
     "traceback": [
      "\u001b[0;31m---------------------------------------------------------------------------\u001b[0m",
      "\u001b[0;31mTypeError\u001b[0m                                 Traceback (most recent call last)",
      "Cell \u001b[0;32mIn[11], line 1\u001b[0m\n\u001b[0;32m----> 1\u001b[0m \u001b[38;5;28;43msum\u001b[39;49m\u001b[43m(\u001b[49m\u001b[43mlst_\u001b[49m\u001b[43m)\u001b[49m\n\u001b[1;32m      2\u001b[0m \u001b[38;5;66;03m# Booleanos: True se considera como 1, si es False, es un 0\u001b[39;00m\n",
      "\u001b[0;31mTypeError\u001b[0m: unsupported operand type(s) for +: 'int' and 'str'"
     ]
    }
   ],
   "source": [
    "sum(lst_)\n",
    "# Booleanos: True se considera como 1, si es False, es un 0"
   ]
  },
  {
   "cell_type": "markdown",
   "metadata": {
    "lang": "en"
   },
   "source": [
    "#### Métodos de lista\n",
    "`append` Agrega un elemento al final de la lista."
   ]
  },
  {
   "cell_type": "code",
   "execution_count": 12,
   "metadata": {},
   "outputs": [
    {
     "data": {
      "text/plain": [
       "['123234 ', 343443, ['más cosas'], [['Hola'], ['qué tal']]]"
      ]
     },
     "execution_count": 12,
     "metadata": {},
     "output_type": "execute_result"
    }
   ],
   "source": [
    "lst_"
   ]
  },
  {
   "cell_type": "code",
   "execution_count": 13,
   "metadata": {},
   "outputs": [],
   "source": [
    "# métodos (funciones)\n",
    "# funciones que se aplican sobre sí mismos\n",
    "\n",
    "# double under: __\n",
    "# double under: los pueds utilizar pero que están pensados para que los use python y no tanto nosotros\n",
    "\n",
    "\n",
    "lst_.append # FEEDBACK: me estoy refiriendo pero no invocando <function list.append(object, /)>\n",
    "lst_.append(\"Holaaaa\")"
   ]
  },
  {
   "cell_type": "code",
   "execution_count": 14,
   "metadata": {},
   "outputs": [
    {
     "data": {
      "text/plain": [
       "['123234 ', 343443, ['más cosas'], [['Hola'], ['qué tal']], 'Holaaaa']"
      ]
     },
     "execution_count": 14,
     "metadata": {},
     "output_type": "execute_result"
    }
   ],
   "source": [
    "lst_"
   ]
  },
  {
   "cell_type": "markdown",
   "metadata": {
    "lang": "en"
   },
   "source": [
    "`extend` Extiende la lista añadiéndole todos los elementos del iterable"
   ]
  },
  {
   "cell_type": "code",
   "execution_count": 15,
   "metadata": {},
   "outputs": [],
   "source": [
    "lst_ = ['123234 ',\n",
    " 343443,\n",
    " ['más cosas'],\n",
    " [['Hola'], ['qué tal']],\n",
    " 'Holaaaa',\n",
    " 'Holaaaa']\n"
   ]
  },
  {
   "cell_type": "code",
   "execution_count": 16,
   "metadata": {},
   "outputs": [],
   "source": [
    "lst_2 = [\"Laura\", \"Adrián\", \"Víctor\", \"José Francisco\"]"
   ]
  },
  {
   "cell_type": "code",
   "execution_count": 17,
   "metadata": {},
   "outputs": [],
   "source": [
    "lst_.append(lst_2)"
   ]
  },
  {
   "cell_type": "code",
   "execution_count": 18,
   "metadata": {},
   "outputs": [],
   "source": [
    "# Ejecutado función: no me da feeback -> seguramente los cambios se hayan guardado"
   ]
  },
  {
   "cell_type": "code",
   "execution_count": 19,
   "metadata": {},
   "outputs": [
    {
     "data": {
      "text/plain": [
       "['123234 ',\n",
       " 343443,\n",
       " ['más cosas'],\n",
       " [['Hola'], ['qué tal']],\n",
       " 'Holaaaa',\n",
       " 'Holaaaa',\n",
       " ['Laura', 'Adrián', 'Víctor', 'José Francisco']]"
      ]
     },
     "execution_count": 19,
     "metadata": {},
     "output_type": "execute_result"
    }
   ],
   "source": [
    "lst_"
   ]
  },
  {
   "cell_type": "code",
   "execution_count": 20,
   "metadata": {},
   "outputs": [],
   "source": [
    "lst_ = [\"Juan\"]\n",
    "lst_2 = [\"Rosa\", \"Laura\"]\n",
    "\n",
    "lst_.extend(lst_2)"
   ]
  },
  {
   "cell_type": "code",
   "execution_count": 21,
   "metadata": {},
   "outputs": [
    {
     "data": {
      "text/plain": [
       "['Juan', 'Rosa', 'Laura']"
      ]
     },
     "execution_count": 21,
     "metadata": {},
     "output_type": "execute_result"
    }
   ],
   "source": [
    "lst_\n",
    "\n",
    "# append vs. el extend -> extend appendea de forma individual"
   ]
  },
  {
   "cell_type": "code",
   "execution_count": 22,
   "metadata": {},
   "outputs": [],
   "source": [
    "[2].append(4) # función que pertence a listas sólo"
   ]
  },
  {
   "cell_type": "code",
   "execution_count": 23,
   "metadata": {},
   "outputs": [
    {
     "ename": "SyntaxError",
     "evalue": "invalid syntax (3416848889.py, line 1)",
     "output_type": "error",
     "traceback": [
      "\u001b[0;36m  Cell \u001b[0;32mIn[23], line 1\u001b[0;36m\u001b[0m\n\u001b[0;31m    3.append(4)\u001b[0m\n\u001b[0m      ^\u001b[0m\n\u001b[0;31mSyntaxError\u001b[0m\u001b[0;31m:\u001b[0m invalid syntax\n"
     ]
    }
   ],
   "source": [
    "3.append(4)"
   ]
  },
  {
   "cell_type": "code",
   "execution_count": 24,
   "metadata": {},
   "outputs": [
    {
     "ename": "AttributeError",
     "evalue": "'list' object has no attribute 'c'",
     "output_type": "error",
     "traceback": [
      "\u001b[0;31m---------------------------------------------------------------------------\u001b[0m",
      "\u001b[0;31mAttributeError\u001b[0m                            Traceback (most recent call last)",
      "Cell \u001b[0;32mIn[24], line 1\u001b[0m\n\u001b[0;32m----> 1\u001b[0m \u001b[43m[\u001b[49m\u001b[38;5;124;43m\"\u001b[39;49m\u001b[38;5;124;43mdssd\u001b[39;49m\u001b[38;5;124;43m\"\u001b[39;49m\u001b[43m]\u001b[49m\u001b[38;5;241;43m.\u001b[39;49m\u001b[43mc\u001b[49m\n",
      "\u001b[0;31mAttributeError\u001b[0m: 'list' object has no attribute 'c'"
     ]
    }
   ],
   "source": [
    "[\"dssd\"].c"
   ]
  },
  {
   "cell_type": "code",
   "execution_count": 25,
   "metadata": {},
   "outputs": [
    {
     "data": {
      "text/plain": [
       "['append',\n",
       " 'clear',\n",
       " 'copy',\n",
       " 'count',\n",
       " 'extend',\n",
       " 'index',\n",
       " 'insert',\n",
       " 'pop',\n",
       " 'remove',\n",
       " 'reverse',\n",
       " 'sort']"
      ]
     },
     "execution_count": 25,
     "metadata": {},
     "output_type": "execute_result"
    }
   ],
   "source": [
    "[i for i in dir([]) if \"_\" not in i] # comprehension lists"
   ]
  },
  {
   "cell_type": "code",
   "execution_count": 26,
   "metadata": {},
   "outputs": [
    {
     "data": {
      "text/plain": [
       "['__add__',\n",
       " '__class__',\n",
       " '__class_getitem__',\n",
       " '__contains__',\n",
       " '__delattr__',\n",
       " '__delitem__',\n",
       " '__dir__',\n",
       " '__doc__',\n",
       " '__eq__',\n",
       " '__format__',\n",
       " '__ge__',\n",
       " '__getattribute__',\n",
       " '__getitem__',\n",
       " '__gt__',\n",
       " '__hash__',\n",
       " '__iadd__',\n",
       " '__imul__',\n",
       " '__init__',\n",
       " '__init_subclass__',\n",
       " '__iter__',\n",
       " '__le__',\n",
       " '__len__',\n",
       " '__lt__',\n",
       " '__mul__',\n",
       " '__ne__',\n",
       " '__new__',\n",
       " '__reduce__',\n",
       " '__reduce_ex__',\n",
       " '__repr__',\n",
       " '__reversed__',\n",
       " '__rmul__',\n",
       " '__setattr__',\n",
       " '__setitem__',\n",
       " '__sizeof__',\n",
       " '__str__',\n",
       " '__subclasshook__',\n",
       " 'append',\n",
       " 'clear',\n",
       " 'copy',\n",
       " 'count',\n",
       " 'extend',\n",
       " 'index',\n",
       " 'insert',\n",
       " 'pop',\n",
       " 'remove',\n",
       " 'reverse',\n",
       " 'sort']"
      ]
     },
     "execution_count": 26,
     "metadata": {},
     "output_type": "execute_result"
    }
   ],
   "source": [
    "[i for i in dir([])]"
   ]
  },
  {
   "cell_type": "code",
   "execution_count": 27,
   "metadata": {},
   "outputs": [
    {
     "data": {
      "text/plain": [
       "3"
      ]
     },
     "execution_count": 27,
     "metadata": {},
     "output_type": "execute_result"
    }
   ],
   "source": [
    "len([\"asasas\"])\n",
    "\n",
    "len([\"1\", 32, 23])"
   ]
  },
  {
   "cell_type": "code",
   "execution_count": 28,
   "metadata": {},
   "outputs": [
    {
     "ename": "TypeError",
     "evalue": "object of type 'int' has no len()",
     "output_type": "error",
     "traceback": [
      "\u001b[0;31m---------------------------------------------------------------------------\u001b[0m",
      "\u001b[0;31mTypeError\u001b[0m                                 Traceback (most recent call last)",
      "Cell \u001b[0;32mIn[28], line 1\u001b[0m\n\u001b[0;32m----> 1\u001b[0m \u001b[38;5;28;43mlen\u001b[39;49m\u001b[43m(\u001b[49m\u001b[38;5;241;43m3\u001b[39;49m\u001b[43m)\u001b[49m\n",
      "\u001b[0;31mTypeError\u001b[0m: object of type 'int' has no len()"
     ]
    }
   ],
   "source": [
    "len(3)"
   ]
  },
  {
   "cell_type": "code",
   "execution_count": 29,
   "metadata": {},
   "outputs": [
    {
     "data": {
      "text/plain": [
       "['__abs__',\n",
       " '__add__',\n",
       " '__and__',\n",
       " '__bool__',\n",
       " '__ceil__',\n",
       " '__class__',\n",
       " '__delattr__',\n",
       " '__dir__',\n",
       " '__divmod__',\n",
       " '__doc__',\n",
       " '__eq__',\n",
       " '__float__',\n",
       " '__floor__',\n",
       " '__floordiv__',\n",
       " '__format__',\n",
       " '__ge__',\n",
       " '__getattribute__',\n",
       " '__getnewargs__',\n",
       " '__gt__',\n",
       " '__hash__',\n",
       " '__index__',\n",
       " '__init__',\n",
       " '__init_subclass__',\n",
       " '__int__',\n",
       " '__invert__',\n",
       " '__le__',\n",
       " '__lshift__',\n",
       " '__lt__',\n",
       " '__mod__',\n",
       " '__mul__',\n",
       " '__ne__',\n",
       " '__neg__',\n",
       " '__new__',\n",
       " '__or__',\n",
       " '__pos__',\n",
       " '__pow__',\n",
       " '__radd__',\n",
       " '__rand__',\n",
       " '__rdivmod__',\n",
       " '__reduce__',\n",
       " '__reduce_ex__',\n",
       " '__repr__',\n",
       " '__rfloordiv__',\n",
       " '__rlshift__',\n",
       " '__rmod__',\n",
       " '__rmul__',\n",
       " '__ror__',\n",
       " '__round__',\n",
       " '__rpow__',\n",
       " '__rrshift__',\n",
       " '__rshift__',\n",
       " '__rsub__',\n",
       " '__rtruediv__',\n",
       " '__rxor__',\n",
       " '__setattr__',\n",
       " '__sizeof__',\n",
       " '__str__',\n",
       " '__sub__',\n",
       " '__subclasshook__',\n",
       " '__truediv__',\n",
       " '__trunc__',\n",
       " '__xor__',\n",
       " 'as_integer_ratio',\n",
       " 'bit_length',\n",
       " 'conjugate',\n",
       " 'denominator',\n",
       " 'from_bytes',\n",
       " 'imag',\n",
       " 'numerator',\n",
       " 'real',\n",
       " 'to_bytes']"
      ]
     },
     "execution_count": 29,
     "metadata": {},
     "output_type": "execute_result"
    }
   ],
   "source": [
    "[i for i in dir(3)]"
   ]
  },
  {
   "cell_type": "code",
   "execution_count": 30,
   "metadata": {},
   "outputs": [
    {
     "data": {
      "text/plain": [
       "['conjugate', 'denominator', 'imag', 'numerator', 'real']"
      ]
     },
     "execution_count": 30,
     "metadata": {},
     "output_type": "execute_result"
    }
   ],
   "source": [
    "[i for i in dir(3) if \"_\" not in i]"
   ]
  },
  {
   "cell_type": "code",
   "execution_count": 31,
   "metadata": {},
   "outputs": [
    {
     "data": {
      "text/plain": [
       "'sdsdaaaaaa'"
      ]
     },
     "execution_count": 31,
     "metadata": {},
     "output_type": "execute_result"
    }
   ],
   "source": [
    "[i for i in dir(\"holaaaa\")]\n",
    "\n",
    "#add(\"sdsds\", \"sdsd\")\n",
    "\"sdsd\" + \"aaaaaa\""
   ]
  },
  {
   "cell_type": "code",
   "execution_count": 32,
   "metadata": {},
   "outputs": [
    {
     "data": {
      "text/plain": [
       "'Laura Rodríguez'"
      ]
     },
     "execution_count": 32,
     "metadata": {},
     "output_type": "execute_result"
    }
   ],
   "source": [
    "\"Laura\".__add__(\" Rodríguez\") # double under: para python y no para el usuario\n",
    "\"Laura\" + \" Rodríguez\"\n",
    "# *ok, pero puedes definir métodoa dentro de una clase para que otra función lo utilice, pero no tú"
   ]
  },
  {
   "cell_type": "code",
   "execution_count": 33,
   "metadata": {},
   "outputs": [
    {
     "data": {
      "text/plain": [
       "['append',\n",
       " 'clear',\n",
       " 'copy',\n",
       " 'count',\n",
       " 'extend',\n",
       " 'index',\n",
       " 'insert',\n",
       " 'pop',\n",
       " 'remove',\n",
       " 'reverse',\n",
       " 'sort']"
      ]
     },
     "execution_count": 33,
     "metadata": {},
     "output_type": "execute_result"
    }
   ],
   "source": [
    "[i for i in dir([\"aaa\"]) if \"_\" not in i]\n",
    "# Objetos\n",
    "# Métodos (funciones)\n",
    "# __: para python\n"
   ]
  },
  {
   "cell_type": "code",
   "execution_count": 34,
   "metadata": {},
   "outputs": [
    {
     "data": {
      "text/plain": [
       "['Laura', ['Rosa']]"
      ]
     },
     "execution_count": 34,
     "metadata": {},
     "output_type": "execute_result"
    }
   ],
   "source": [
    "nombres = [\"Laura\"]\n",
    "nombres_2 = [\"Rosa\"]\n",
    "\n",
    "nombres.append(nombres_2)\n",
    "nombres"
   ]
  },
  {
   "cell_type": "code",
   "execution_count": 35,
   "metadata": {},
   "outputs": [
    {
     "data": {
      "text/plain": [
       "['Laura', 'Rosa']"
      ]
     },
     "execution_count": 35,
     "metadata": {},
     "output_type": "execute_result"
    }
   ],
   "source": [
    "nombres = [\"Laura\"]\n",
    "nombres_2 = [\"Rosa\"]\n",
    "\n",
    "nombres.extend(nombres_2)\n",
    "nombres"
   ]
  },
  {
   "cell_type": "code",
   "execution_count": 36,
   "metadata": {},
   "outputs": [
    {
     "data": {
      "text/plain": [
       "['Laura', ['Rosa']]"
      ]
     },
     "execution_count": 36,
     "metadata": {},
     "output_type": "execute_result"
    }
   ],
   "source": [
    "nombres = [\"Laura\"]\n",
    "nombres_2 = [\"Rosa\"]\n",
    "\n",
    "\n",
    "nombres.append(nombres_2)\n",
    "nombres"
   ]
  },
  {
   "cell_type": "code",
   "execution_count": 37,
   "metadata": {},
   "outputs": [
    {
     "ename": "TypeError",
     "evalue": "list.append() takes exactly one argument (2 given)",
     "output_type": "error",
     "traceback": [
      "\u001b[0;31m---------------------------------------------------------------------------\u001b[0m",
      "\u001b[0;31mTypeError\u001b[0m                                 Traceback (most recent call last)",
      "Cell \u001b[0;32mIn[37], line 3\u001b[0m\n\u001b[1;32m      1\u001b[0m nombres \u001b[38;5;241m=\u001b[39m [\u001b[38;5;124m\"\u001b[39m\u001b[38;5;124mLaura\u001b[39m\u001b[38;5;124m\"\u001b[39m]\n\u001b[0;32m----> 3\u001b[0m \u001b[43mnombres\u001b[49m\u001b[38;5;241;43m.\u001b[39;49m\u001b[43mappend\u001b[49m\u001b[43m(\u001b[49m\u001b[38;5;124;43m\"\u001b[39;49m\u001b[38;5;124;43mRosa\u001b[39;49m\u001b[38;5;124;43m\"\u001b[39;49m\u001b[43m,\u001b[49m\u001b[43m \u001b[49m\u001b[38;5;124;43m\"\u001b[39;49m\u001b[38;5;124;43mLaura\u001b[39;49m\u001b[38;5;124;43m\"\u001b[39;49m\u001b[43m)\u001b[49m\n\u001b[1;32m      4\u001b[0m nombres\n",
      "\u001b[0;31mTypeError\u001b[0m: list.append() takes exactly one argument (2 given)"
     ]
    }
   ],
   "source": [
    "nombres = [\"Laura\"]\n",
    "\n",
    "nombres.append(\"Rosa\", \"Laura\")\n",
    "nombres"
   ]
  },
  {
   "cell_type": "code",
   "execution_count": 38,
   "metadata": {},
   "outputs": [
    {
     "data": {
      "text/plain": [
       "['Laura', 'Rosa', 'Laura', [123, [1, 2]]]"
      ]
     },
     "execution_count": 38,
     "metadata": {},
     "output_type": "execute_result"
    }
   ],
   "source": [
    "nombres = [\"Laura\"]\n",
    "\n",
    "nombres.extend([\"Rosa\", \"Laura\", [123, [1, 2]]])\n",
    "nombres"
   ]
  },
  {
   "cell_type": "code",
   "execution_count": 39,
   "metadata": {},
   "outputs": [
    {
     "data": {
      "text/plain": [
       "['Laura', 'Rosa', 'Laura', [123, [1, 2]]]"
      ]
     },
     "execution_count": 39,
     "metadata": {},
     "output_type": "execute_result"
    }
   ],
   "source": [
    "nombres = [\"Laura\"]\n",
    "nombres_2 = nombres.copy()\n",
    "\n",
    "nombres_2.extend([\"Rosa\", \"Laura\", [123, [1, 2]]])\n",
    "nombres_2"
   ]
  },
  {
   "cell_type": "code",
   "execution_count": 40,
   "metadata": {},
   "outputs": [
    {
     "data": {
      "text/plain": [
       "['Laura']"
      ]
     },
     "execution_count": 40,
     "metadata": {},
     "output_type": "execute_result"
    }
   ],
   "source": [
    "nombres"
   ]
  },
  {
   "cell_type": "code",
   "execution_count": 41,
   "metadata": {},
   "outputs": [],
   "source": [
    "def incrementar_distancia (pos_inicial, distancia_recorrida):\n",
    "    return pos_inicial + distancia_recorrida\n",
    "\n",
    "posicion_barco = incrementar_distancia (23456, 2323)\n",
    "posicion_coche = incrementar_distancia (222, 2323)"
   ]
  },
  {
   "cell_type": "markdown",
   "metadata": {
    "lang": "en"
   },
   "source": [
    "`insert` Inserta un elemento en una posición dada. El primer argumento es el índice del elemento que se insertará antes, por lo que a.insert(0, x) inserta al principio de la lista y a.insert(len(a), x) es equivalente a a.append(x)."
   ]
  },
  {
   "cell_type": "code",
   "execution_count": 42,
   "metadata": {},
   "outputs": [
    {
     "data": {
      "text/plain": [
       "['Laura', 'Rosa', 'Laura', [123, [1, 2]]]"
      ]
     },
     "execution_count": 42,
     "metadata": {},
     "output_type": "execute_result"
    }
   ],
   "source": [
    "nombres_2"
   ]
  },
  {
   "cell_type": "code",
   "execution_count": 43,
   "metadata": {},
   "outputs": [
    {
     "data": {
      "text/plain": [
       "'Laura'"
      ]
     },
     "execution_count": 43,
     "metadata": {},
     "output_type": "execute_result"
    }
   ],
   "source": [
    "nombres_2[0] # index (posición que ocupa)"
   ]
  },
  {
   "cell_type": "code",
   "execution_count": 44,
   "metadata": {},
   "outputs": [
    {
     "data": {
      "text/plain": [
       "[123, [1, 2]]"
      ]
     },
     "execution_count": 44,
     "metadata": {},
     "output_type": "execute_result"
    }
   ],
   "source": [
    "nombres_2[-1]"
   ]
  },
  {
   "cell_type": "code",
   "execution_count": 45,
   "metadata": {},
   "outputs": [],
   "source": [
    "nombres_2.insert(2, \"HOLA\")"
   ]
  },
  {
   "cell_type": "code",
   "execution_count": 46,
   "metadata": {},
   "outputs": [
    {
     "data": {
      "text/plain": [
       "['Laura', 'Rosa', 'HOLA', 'Laura', [123, [1, 2]]]"
      ]
     },
     "execution_count": 46,
     "metadata": {},
     "output_type": "execute_result"
    }
   ],
   "source": [
    "nombres_2"
   ]
  },
  {
   "cell_type": "code",
   "execution_count": 47,
   "metadata": {},
   "outputs": [],
   "source": [
    "nombres_2.insert(2, \"HOLA\")"
   ]
  },
  {
   "cell_type": "code",
   "execution_count": 48,
   "metadata": {},
   "outputs": [
    {
     "data": {
      "text/plain": [
       "['Laura', 'Rosa', 'HOLA', 'HOLA', 'Laura', [123, [1, 2]]]"
      ]
     },
     "execution_count": 48,
     "metadata": {},
     "output_type": "execute_result"
    }
   ],
   "source": [
    "nombres_2\n",
    "\n",
    "# Además de tener un índice que las ordena\n",
    "# Puede tener valores repetidos\n",
    "# ORDEN Y DUPLICIDAD"
   ]
  },
  {
   "cell_type": "markdown",
   "metadata": {
    "lang": "en"
   },
   "source": [
    "`remove` Elimina el primer elemento de la lista cuyo valor sea x. Lanza un ValueError si no existe dicho elemento."
   ]
  },
  {
   "cell_type": "code",
   "execution_count": 49,
   "metadata": {},
   "outputs": [],
   "source": [
    "notas = [\"Notable\", \"Sobresaliente\", \"SUSPENSO\", \"Matrícula\"]"
   ]
  },
  {
   "cell_type": "code",
   "execution_count": 50,
   "metadata": {},
   "outputs": [
    {
     "name": "stdout",
     "output_type": "stream",
     "text": [
      "['Notable', 'Sobresaliente', 'Matrícula']\n"
     ]
    }
   ],
   "source": [
    "notas_2 = notas.copy()\n",
    "notas_2.remove(\"SUSPENSO\")\n",
    "print(notas_2)"
   ]
  },
  {
   "cell_type": "code",
   "execution_count": 51,
   "metadata": {},
   "outputs": [
    {
     "name": "stdout",
     "output_type": "stream",
     "text": [
      "['Notable', 'Sobresaliente', 'Matrícula', 'SUSPENSO']\n"
     ]
    }
   ],
   "source": [
    "notas = [\"Notable\", \"Sobresaliente\", \"SUSPENSO\", \"Matrícula\", \"SUSPENSO\"]\n",
    "\n",
    "notas_2 = notas.copy()\n",
    "notas_2.remove(\"SUSPENSO\")\n",
    "print(notas_2)"
   ]
  },
  {
   "cell_type": "code",
   "execution_count": 52,
   "metadata": {},
   "outputs": [
    {
     "data": {
      "text/plain": [
       "['Notable', 'Sobresaliente', 'Matrícula']"
      ]
     },
     "execution_count": 52,
     "metadata": {},
     "output_type": "execute_result"
    }
   ],
   "source": [
    "notas = [\"Notable\", \"Sobresaliente\", \"SUSPENSO\", \"Matrícula\", \"SUSPENSO\"]\n",
    "[i for i in notas if i != \"SUSPENSO\"]\n",
    "# filtrar: bucle for\n",
    "# filtrar: comprehension\n",
    "# filtrar: filter(func, iterable)"
   ]
  },
  {
   "cell_type": "markdown",
   "metadata": {
    "lang": "en"
   },
   "source": [
    "`pop` extrae el elemento de la lista en la posición indicada y lo devuelve. Si no se especifica ningún índice, a.pop() extrae y devuelve el último elemento de la lista."
   ]
  },
  {
   "cell_type": "code",
   "execution_count": 53,
   "metadata": {},
   "outputs": [],
   "source": [
    "lst_elementos = [34, 45, 4,2, 5, 52]"
   ]
  },
  {
   "cell_type": "code",
   "execution_count": 54,
   "metadata": {},
   "outputs": [
    {
     "data": {
      "text/plain": [
       "5"
      ]
     },
     "execution_count": 54,
     "metadata": {},
     "output_type": "execute_result"
    }
   ],
   "source": [
    "lst_elementos.pop()\n",
    "utlimo = lst_elementos.pop()\n",
    "utlimo"
   ]
  },
  {
   "cell_type": "code",
   "execution_count": 55,
   "metadata": {},
   "outputs": [
    {
     "data": {
      "text/plain": [
       "2"
      ]
     },
     "execution_count": 55,
     "metadata": {},
     "output_type": "execute_result"
    }
   ],
   "source": [
    "lst_elementos.pop() # Index Error: no hay elementos para eliminar"
   ]
  },
  {
   "cell_type": "markdown",
   "metadata": {
    "lang": "en"
   },
   "source": [
    "`clear` Elimina todos los elementos de la lista"
   ]
  },
  {
   "cell_type": "code",
   "execution_count": 56,
   "metadata": {},
   "outputs": [],
   "source": [
    "lst_elementos.clear()"
   ]
  },
  {
   "cell_type": "code",
   "execution_count": 62,
   "metadata": {},
   "outputs": [
    {
     "ename": "SyntaxError",
     "evalue": "invalid syntax (547107023.py, line 18)",
     "output_type": "error",
     "traceback": [
      "\u001b[0;36m  Cell \u001b[0;32mIn[62], line 18\u001b[0;36m\u001b[0m\n\u001b[0;31m    \"\"\"Más generalistas, pueden recibir lo que sea\"\"\"\u001b[0m\n\u001b[0m       ^\u001b[0m\n\u001b[0;31mSyntaxError\u001b[0m\u001b[0;31m:\u001b[0m invalid syntax\n"
     ]
    }
   ],
   "source": [
    "\"\"\"\n",
    "Objetos: cualquier cosa en Python es un objeto\n",
    "Función: código que HACE cosas -> input/output -> ACCIONES\n",
    "    Métodos: una función de un objeto\n",
    "        - str.lower() -> aplicar un método de una string (sobre sí misma)\n",
    "- Sobre sí misma vs. función argumento\n",
    "    - Arg: aplicamos la transformación/acción sobre el arg\n",
    "    - \"esto es una string\".lower(): aplicamos sobre sí mismo\n",
    "    \n",
    "- Las funciones pueden recibir CUALQUIER COSA -> puede fiuncionar o puede no funcionar\n",
    "- Los métodos: sólo estan disponibles para los objetos que lo tienen definido\n",
    "\n",
    "Los métodos dependen de las propiedades del objeto\n",
    "Sí: str.lower() \n",
    "No: int.lower()\n",
    "\n",
    "def sumar (a, b):\n",
    "    \"\"\"Más generalistas, pueden recibir lo que sea\"\"\"\n",
    "    return a + b\n",
    "\n",
    "Los objetos tienen propiedades: \n",
    "    - Coche: coche.poner_freno_mano()\n",
    "    - Barco: barco.echar_ancla()\n",
    "\n",
    "Estructuras de datos: listas\n",
    "\n",
    "clase / instancia\n",
    "- Str(CLASE/OBJETO), \"Hola, este es mi nombre\" (Ejemplo real que modifico) (instancia)\n",
    "- Fiat punto (CLASE/OBJETO), Fiat punto, color rojo, del año 2000, dueña: Laura (instancia)\n",
    "\"\"\""
   ]
  },
  {
   "cell_type": "code",
   "execution_count": 61,
   "metadata": {},
   "outputs": [
    {
     "data": {
      "text/plain": [
       "'10esto es un diez'"
      ]
     },
     "execution_count": 61,
     "metadata": {},
     "output_type": "execute_result"
    }
   ],
   "source": [
    "def sumar (a, b):\n",
    "    return str(a) + str(b)\n",
    "\n",
    "sumar(10, 3)\n",
    "sumar(\"Hola\", \"qué tal\")\n",
    "\n",
    "sumar (10, \"esto es un diez\")"
   ]
  },
  {
   "cell_type": "code",
   "execution_count": 63,
   "metadata": {},
   "outputs": [
    {
     "data": {
      "text/plain": [
       "['append',\n",
       " 'clear',\n",
       " 'copy',\n",
       " 'count',\n",
       " 'extend',\n",
       " 'index',\n",
       " 'insert',\n",
       " 'pop',\n",
       " 'remove',\n",
       " 'reverse',\n",
       " 'sort']"
      ]
     },
     "execution_count": 63,
     "metadata": {},
     "output_type": "execute_result"
    }
   ],
   "source": [
    "# clase / objeto \n",
    "# listas: []\n",
    "[i for i in dir([]) if \"_\" not in i]\n",
    "\n",
    "# append: incluir items (un nivel o varios)\n",
    "# extend: incluye items pero si están anidados, me añade tantos como haya\n",
    "\n",
    "# copy: para no sobrescribir cosas de forma accidental\n",
    "# insert, pop..."
   ]
  },
  {
   "cell_type": "markdown",
   "metadata": {
    "lang": "en"
   },
   "source": [
    "`count` Devuelve el número de veces que x aparece en la lista."
   ]
  },
  {
   "cell_type": "code",
   "execution_count": 65,
   "metadata": {},
   "outputs": [
    {
     "data": {
      "text/plain": [
       "3"
      ]
     },
     "execution_count": 65,
     "metadata": {},
     "output_type": "execute_result"
    }
   ],
   "source": [
    "[True, False, True, True, False, False, False].count(True)"
   ]
  },
  {
   "cell_type": "code",
   "execution_count": 66,
   "metadata": {},
   "outputs": [
    {
     "data": {
      "text/plain": [
       "3"
      ]
     },
     "execution_count": 66,
     "metadata": {},
     "output_type": "execute_result"
    }
   ],
   "source": [
    "sum([True, False, True, True, False, False, False])"
   ]
  },
  {
   "cell_type": "code",
   "execution_count": 67,
   "metadata": {},
   "outputs": [
    {
     "data": {
      "text/plain": [
       "3"
      ]
     },
     "execution_count": 67,
     "metadata": {},
     "output_type": "execute_result"
    }
   ],
   "source": [
    "counter = 0\n",
    "for i in [True, False, True, True, False, False, False]:\n",
    "    if i == True:\n",
    "        counter += 1\n",
    "counter"
   ]
  },
  {
   "cell_type": "code",
   "execution_count": 68,
   "metadata": {},
   "outputs": [
    {
     "data": {
      "text/plain": [
       "3"
      ]
     },
     "execution_count": 68,
     "metadata": {},
     "output_type": "execute_result"
    }
   ],
   "source": [
    "lst = [True, False, True, True, False, False, False]\n",
    "len([i for i in lst if i ==True])"
   ]
  },
  {
   "cell_type": "markdown",
   "metadata": {
    "lang": "en"
   },
   "source": [
    "`list.sort()` Véase también [sorted()](https://docs.python.org/3/howto/sorting.html)."
   ]
  },
  {
   "cell_type": "code",
   "execution_count": 72,
   "metadata": {},
   "outputs": [
    {
     "data": {
      "text/plain": [
       "[872, 193, 133, 100, 0.875]"
      ]
     },
     "execution_count": 72,
     "metadata": {},
     "output_type": "execute_result"
    }
   ],
   "source": [
    "lst_ = [100, 872, 193, 0.875, 133]\n",
    "lst_.sort(reverse=True)\n",
    "lst_"
   ]
  },
  {
   "cell_type": "code",
   "execution_count": 73,
   "metadata": {},
   "outputs": [
    {
     "data": {
      "text/plain": [
       "[0.875, 100, 133, 193, 872]"
      ]
     },
     "execution_count": 73,
     "metadata": {},
     "output_type": "execute_result"
    }
   ],
   "source": [
    "lst_ = [100, 872, 193, 0.875, 133]\n",
    "sorted([100, 872, 193, 0.875, 133])"
   ]
  },
  {
   "cell_type": "code",
   "execution_count": 75,
   "metadata": {},
   "outputs": [
    {
     "ename": "AttributeError",
     "evalue": "'str' object has no attribute 'sort'",
     "output_type": "error",
     "traceback": [
      "\u001b[0;31m---------------------------------------------------------------------------\u001b[0m",
      "\u001b[0;31mAttributeError\u001b[0m                            Traceback (most recent call last)",
      "Cell \u001b[0;32mIn[75], line 1\u001b[0m\n\u001b[0;32m----> 1\u001b[0m \u001b[38;5;124;43m\"\u001b[39;49m\u001b[38;5;124;43mabbzzzzzza\u001b[39;49m\u001b[38;5;124;43m\"\u001b[39;49m\u001b[38;5;241;43m.\u001b[39;49m\u001b[43msort\u001b[49m()\n",
      "\u001b[0;31mAttributeError\u001b[0m: 'str' object has no attribute 'sort'"
     ]
    }
   ],
   "source": [
    "\"abbzzzzzza\".sort()"
   ]
  },
  {
   "cell_type": "code",
   "execution_count": 74,
   "metadata": {},
   "outputs": [
    {
     "data": {
      "text/plain": [
       "['a', 'a', 'b', 'b', 'z', 'z', 'z', 'z', 'z', 'z']"
      ]
     },
     "execution_count": 74,
     "metadata": {},
     "output_type": "execute_result"
    }
   ],
   "source": [
    "sorted(\"abbzzzzzza\")"
   ]
  },
  {
   "cell_type": "code",
   "execution_count": null,
   "metadata": {},
   "outputs": [],
   "source": [
    "[].sum()\n",
    "sum([])\n",
    "sum(\"a\", \"b\")\n",
    "\n",
    "\n",
    "[].sort()\n",
    "sorted([])\n",
    "sorted(\"\")\n",
    "\n",
    "# Las respuestas siempre están en la documentación"
   ]
  },
  {
   "cell_type": "markdown",
   "metadata": {
    "lang": "en"
   },
   "source": [
    "`list.reverse()`\n",
    "Invierte los elementos de la lista en su lugar."
   ]
  },
  {
   "cell_type": "code",
   "execution_count": 78,
   "metadata": {},
   "outputs": [],
   "source": [
    "lst_ = [100, 872, 193, 0.875, 133]\n",
    "lst_.reverse()"
   ]
  },
  {
   "cell_type": "code",
   "execution_count": 77,
   "metadata": {},
   "outputs": [
    {
     "data": {
      "text/plain": [
       "[133, 0.875, 193, 872, 100]"
      ]
     },
     "execution_count": 77,
     "metadata": {},
     "output_type": "execute_result"
    }
   ],
   "source": [
    "lst_"
   ]
  },
  {
   "cell_type": "markdown",
   "metadata": {
    "lang": "en"
   },
   "source": [
    "`slicing` no es un método como tal, pero podemos jugar con los elementos de las listas y sus posiciones"
   ]
  },
  {
   "cell_type": "code",
   "execution_count": 98,
   "metadata": {},
   "outputs": [],
   "source": [
    "lst_ = [1, 2, 3, 4, 5]\n",
    "lst_ = [\"Alberto-0\", \"Blanca-1\", \"Carlos-2\", \"Daniela-3\", \"Edgar-4\"]"
   ]
  },
  {
   "cell_type": "code",
   "execution_count": 99,
   "metadata": {},
   "outputs": [
    {
     "data": {
      "text/plain": [
       "'Edgar-4'"
      ]
     },
     "execution_count": 99,
     "metadata": {},
     "output_type": "execute_result"
    }
   ],
   "source": [
    "lst_[4]"
   ]
  },
  {
   "cell_type": "code",
   "execution_count": 100,
   "metadata": {},
   "outputs": [
    {
     "data": {
      "text/plain": [
       "5"
      ]
     },
     "execution_count": 100,
     "metadata": {},
     "output_type": "execute_result"
    }
   ],
   "source": [
    "len(lst_)"
   ]
  },
  {
   "cell_type": "code",
   "execution_count": 101,
   "metadata": {},
   "outputs": [
    {
     "data": {
      "text/plain": [
       "'Edgar-4'"
      ]
     },
     "execution_count": 101,
     "metadata": {},
     "output_type": "execute_result"
    }
   ],
   "source": [
    "lst_[-1]"
   ]
  },
  {
   "cell_type": "code",
   "execution_count": 102,
   "metadata": {},
   "outputs": [
    {
     "data": {
      "text/plain": [
       "['Edgar-4', 'Daniela-3', 'Carlos-2', 'Blanca-1', 'Alberto-0']"
      ]
     },
     "execution_count": 102,
     "metadata": {},
     "output_type": "execute_result"
    }
   ],
   "source": [
    "# [].reverse() -> invertir la lista tal y como está\n",
    "lst_[::-1]"
   ]
  },
  {
   "cell_type": "markdown",
   "metadata": {},
   "source": [
    "`start, step, stop`"
   ]
  },
  {
   "cell_type": "code",
   "execution_count": 103,
   "metadata": {},
   "outputs": [
    {
     "data": {
      "text/plain": [
       "['Alberto-0', 'Blanca-1', 'Carlos-2', 'Daniela-3', 'Edgar-4']"
      ]
     },
     "execution_count": 103,
     "metadata": {},
     "output_type": "execute_result"
    }
   ],
   "source": [
    "lst_[:] # índice: de principio a fin  "
   ]
  },
  {
   "cell_type": "code",
   "execution_count": 104,
   "metadata": {},
   "outputs": [
    {
     "data": {
      "text/plain": [
       "['Alberto-0', 'Blanca-1']"
      ]
     },
     "execution_count": 104,
     "metadata": {},
     "output_type": "execute_result"
    }
   ],
   "source": [
    "lst_[:2]\n",
    "# start: defecto (principio)\n",
    "# stop: el 2 -> que es en realidad el 0 y el 1"
   ]
  },
  {
   "cell_type": "code",
   "execution_count": 106,
   "metadata": {},
   "outputs": [
    {
     "data": {
      "text/plain": [
       "['Alberto-0', 'Blanca-1', 'Carlos-2', 'Daniela-3', 'Edgar-4']"
      ]
     },
     "execution_count": 106,
     "metadata": {},
     "output_type": "execute_result"
    }
   ],
   "source": [
    "lst_"
   ]
  },
  {
   "cell_type": "code",
   "execution_count": 107,
   "metadata": {},
   "outputs": [
    {
     "data": {
      "text/plain": [
       "['Carlos-2', 'Daniela-3']"
      ]
     },
     "execution_count": 107,
     "metadata": {},
     "output_type": "execute_result"
    }
   ],
   "source": [
    "lst_[2:4]"
   ]
  },
  {
   "cell_type": "code",
   "execution_count": 108,
   "metadata": {},
   "outputs": [
    {
     "data": {
      "text/plain": [
       "['Alberto-0', 'Blanca-1', 'Carlos-2', 'Daniela-3']"
      ]
     },
     "execution_count": 108,
     "metadata": {},
     "output_type": "execute_result"
    }
   ],
   "source": [
    "lst_[:4]"
   ]
  },
  {
   "cell_type": "code",
   "execution_count": 109,
   "metadata": {},
   "outputs": [
    {
     "data": {
      "text/plain": [
       "['Blanca-1', 'Carlos-2', 'Daniela-3', 'Edgar-4']"
      ]
     },
     "execution_count": 109,
     "metadata": {},
     "output_type": "execute_result"
    }
   ],
   "source": [
    "lst_[1:]"
   ]
  },
  {
   "cell_type": "code",
   "execution_count": 110,
   "metadata": {},
   "outputs": [
    {
     "data": {
      "text/plain": [
       "['Alberto-0', 'Blanca-1', 'Carlos-2', 'Daniela-3', 'Edgar-4']"
      ]
     },
     "execution_count": 110,
     "metadata": {},
     "output_type": "execute_result"
    }
   ],
   "source": [
    "lst_[::]"
   ]
  },
  {
   "cell_type": "code",
   "execution_count": 112,
   "metadata": {},
   "outputs": [
    {
     "data": {
      "text/plain": [
       "['Edgar-4', 'Daniela-3', 'Carlos-2', 'Blanca-1', 'Alberto-0']"
      ]
     },
     "execution_count": 112,
     "metadata": {},
     "output_type": "execute_result"
    }
   ],
   "source": [
    "lst_[::-1] # invierte"
   ]
  },
  {
   "cell_type": "code",
   "execution_count": 114,
   "metadata": {},
   "outputs": [
    {
     "data": {
      "text/plain": [
       "['Alberto-0', 'Carlos-2', 'Edgar-4']"
      ]
     },
     "execution_count": 114,
     "metadata": {},
     "output_type": "execute_result"
    }
   ],
   "source": [
    "lst_[::2] # step -> cada dos elementos"
   ]
  },
  {
   "cell_type": "code",
   "execution_count": 115,
   "metadata": {},
   "outputs": [
    {
     "data": {
      "text/plain": [
       "['Alberto-0', 'Daniela-3']"
      ]
     },
     "execution_count": 115,
     "metadata": {},
     "output_type": "execute_result"
    }
   ],
   "source": [
    "lst_[::3] # step -> cada tres elementos"
   ]
  },
  {
   "cell_type": "code",
   "execution_count": 117,
   "metadata": {},
   "outputs": [
    {
     "data": {
      "text/plain": [
       "['Alberto-0', 'Edgar-4']"
      ]
     },
     "execution_count": 117,
     "metadata": {},
     "output_type": "execute_result"
    }
   ],
   "source": [
    "lst_[::4] # step -> cada cuatro elementos"
   ]
  },
  {
   "cell_type": "code",
   "execution_count": 118,
   "metadata": {},
   "outputs": [
    {
     "data": {
      "text/plain": [
       "['Alberto-0']"
      ]
     },
     "execution_count": 118,
     "metadata": {},
     "output_type": "execute_result"
    }
   ],
   "source": [
    "lst_[::5] # step -> cada cinco elementos"
   ]
  },
  {
   "cell_type": "code",
   "execution_count": 105,
   "metadata": {},
   "outputs": [
    {
     "data": {
      "text/plain": [
       "['Blanca-1']"
      ]
     },
     "execution_count": 105,
     "metadata": {},
     "output_type": "execute_result"
    }
   ],
   "source": [
    "lst_[1:2]"
   ]
  },
  {
   "cell_type": "code",
   "execution_count": 124,
   "metadata": {},
   "outputs": [
    {
     "data": {
      "text/plain": [
       "1000"
      ]
     },
     "execution_count": 124,
     "metadata": {},
     "output_type": "execute_result"
    }
   ],
   "source": [
    "lst_ = [[2, 3, 9, 6], [0, 2, 1000, 1]]\n",
    "len(lst_)\n",
    "\n",
    "lst_[1][2]"
   ]
  },
  {
   "cell_type": "code",
   "execution_count": 128,
   "metadata": {},
   "outputs": [
    {
     "data": {
      "text/plain": [
       "30"
      ]
     },
     "execution_count": 128,
     "metadata": {},
     "output_type": "execute_result"
    }
   ],
   "source": [
    "lst_ = [[2, 3, 9, 6], # 0\n",
    "        [0, 2, 1000, [10, 20, 30]], # 1, 3, 2 (-1)\n",
    "       [\"Hola\"]] # 2\n",
    "len(lst_)\n",
    "\n",
    "lst_[1][3][-1]"
   ]
  },
  {
   "cell_type": "code",
   "execution_count": 131,
   "metadata": {},
   "outputs": [
    {
     "data": {
      "text/plain": [
       "'a'"
      ]
     },
     "execution_count": 131,
     "metadata": {},
     "output_type": "execute_result"
    }
   ],
   "source": [
    "lst_ = [[2, 3, 9, 6], # 0\n",
    "        [0, 2, 1000, [10, 20, 30]], # 1\n",
    "       [\"Hola\"]] # 2\n",
    "len(lst_)\n",
    "\n",
    "lst_[2][-1][-1]"
   ]
  },
  {
   "cell_type": "code",
   "execution_count": null,
   "metadata": {},
   "outputs": [],
   "source": [
    "# una lista es un elemento iterable\n",
    "# una string también es un elemento iterable"
   ]
  },
  {
   "cell_type": "code",
   "execution_count": 132,
   "metadata": {},
   "outputs": [
    {
     "ename": "TypeError",
     "evalue": "'int' object is not subscriptable",
     "output_type": "error",
     "traceback": [
      "\u001b[0;31m---------------------------------------------------------------------------\u001b[0m",
      "\u001b[0;31mTypeError\u001b[0m                                 Traceback (most recent call last)",
      "Cell \u001b[0;32mIn[132], line 6\u001b[0m\n\u001b[1;32m      1\u001b[0m lst_ \u001b[38;5;241m=\u001b[39m [[\u001b[38;5;241m2\u001b[39m, \u001b[38;5;241m3\u001b[39m, \u001b[38;5;241m9\u001b[39m, \u001b[38;5;241m6\u001b[39m], \u001b[38;5;66;03m# 0\u001b[39;00m\n\u001b[1;32m      2\u001b[0m         [\u001b[38;5;241m0\u001b[39m, \u001b[38;5;241m2\u001b[39m, \u001b[38;5;241m1000\u001b[39m, [\u001b[38;5;241m10\u001b[39m, \u001b[38;5;241m20\u001b[39m, \u001b[38;5;241m30\u001b[39m]], \u001b[38;5;66;03m# 1\u001b[39;00m\n\u001b[1;32m      3\u001b[0m        [\u001b[38;5;241m1000\u001b[39m]] \u001b[38;5;66;03m# 2\u001b[39;00m\n\u001b[1;32m      4\u001b[0m \u001b[38;5;28mlen\u001b[39m(lst_)\n\u001b[0;32m----> 6\u001b[0m \u001b[43mlst_\u001b[49m\u001b[43m[\u001b[49m\u001b[38;5;241;43m2\u001b[39;49m\u001b[43m]\u001b[49m\u001b[43m[\u001b[49m\u001b[38;5;241;43m-\u001b[39;49m\u001b[38;5;241;43m1\u001b[39;49m\u001b[43m]\u001b[49m\u001b[43m[\u001b[49m\u001b[38;5;241;43m-\u001b[39;49m\u001b[38;5;241;43m1\u001b[39;49m\u001b[43m]\u001b[49m\n",
      "\u001b[0;31mTypeError\u001b[0m: 'int' object is not subscriptable"
     ]
    }
   ],
   "source": [
    "lst_ = [[2, 3, 9, 6], # 0\n",
    "        [0, 2, 1000, [10, 20, 30]], # 1\n",
    "       [1000]] # 2\n",
    "len(lst_)\n",
    "\n",
    "lst_[2][-1][-1] # un entero no es iterable \n",
    "# de la misma forma que un float tampoco"
   ]
  },
  {
   "cell_type": "code",
   "execution_count": null,
   "metadata": {},
   "outputs": [],
   "source": [
    "# slicing: identificar/reconocer/ubicar elementos dentro del iterable\n",
    "    # segmentar/rebanar: elegir dónde empiezas/acabas\n",
    "# start, stop, step: cómo recorrer el iterable\n",
    "    # utiliza los índices del slicing\n"
   ]
  },
  {
   "cell_type": "markdown",
   "metadata": {},
   "source": [
    "### Tuplas"
   ]
  },
  {
   "cell_type": "code",
   "execution_count": null,
   "metadata": {},
   "outputs": [],
   "source": [
    "# Data structures\n",
    "\n",
    "# listas: []\n",
    "# tuplas: ()\n",
    "# sets: {}\n",
    "# diccionarios: {:}"
   ]
  },
  {
   "cell_type": "code",
   "execution_count": 134,
   "metadata": {},
   "outputs": [
    {
     "data": {
      "text/plain": [
       "('a', 'b')"
      ]
     },
     "execution_count": 134,
     "metadata": {},
     "output_type": "execute_result"
    }
   ],
   "source": [
    "(\"a\", \"b\")\n",
    "\n",
    "# Iterable\n",
    "# Está ordenado (los elementos se pueden identificar por posición/índice)\n",
    "# Puede contener cualquier tipo de dato/estructura\n",
    "# Pueden tener cosas repetidas (igual que las listas o las strs)"
   ]
  },
  {
   "cell_type": "code",
   "execution_count": 135,
   "metadata": {},
   "outputs": [
    {
     "data": {
      "text/plain": [
       "['append',\n",
       " 'clear',\n",
       " 'copy',\n",
       " 'count',\n",
       " 'extend',\n",
       " 'index',\n",
       " 'insert',\n",
       " 'pop',\n",
       " 'remove',\n",
       " 'reverse',\n",
       " 'sort']"
      ]
     },
     "execution_count": 135,
     "metadata": {},
     "output_type": "execute_result"
    }
   ],
   "source": [
    "[i for i in dir([]) if \"_\" not in i]"
   ]
  },
  {
   "cell_type": "code",
   "execution_count": 136,
   "metadata": {},
   "outputs": [
    {
     "data": {
      "text/plain": [
       "['count', 'index']"
      ]
     },
     "execution_count": 136,
     "metadata": {},
     "output_type": "execute_result"
    }
   ],
   "source": [
    "[i for i in dir(()) if \"_\" not in i]"
   ]
  },
  {
   "cell_type": "code",
   "execution_count": 137,
   "metadata": {},
   "outputs": [],
   "source": [
    "# lista: para ser trabajada/transformda\n",
    "# tupla: información que no se planea que cambie tanto\n",
    "    # tupla: es más difícil de transformar"
   ]
  },
  {
   "cell_type": "code",
   "execution_count": null,
   "metadata": {},
   "outputs": [],
   "source": [
    "# python de forma interna utiliza / empaqueta las cosas en tuplas\n",
    "    # performance, python prefiere tuplas"
   ]
  },
  {
   "cell_type": "code",
   "execution_count": 139,
   "metadata": {},
   "outputs": [
    {
     "data": {
      "text/plain": [
       "('Laura', 'Carlos', 'Carlos')"
      ]
     },
     "execution_count": 139,
     "metadata": {},
     "output_type": "execute_result"
    }
   ],
   "source": [
    "(\"Laura\", \"Carlos\", \"Carlos\")"
   ]
  },
  {
   "cell_type": "code",
   "execution_count": 140,
   "metadata": {},
   "outputs": [
    {
     "data": {
      "text/plain": [
       "tuple"
      ]
     },
     "execution_count": 140,
     "metadata": {},
     "output_type": "execute_result"
    }
   ],
   "source": [
    "type((\"Laura\", \"Carlos\", \"Carlos\"))"
   ]
  },
  {
   "cell_type": "code",
   "execution_count": 141,
   "metadata": {},
   "outputs": [
    {
     "name": "stdout",
     "output_type": "stream",
     "text": [
      "Laura\n",
      "Carlos\n",
      "Carlos\n"
     ]
    }
   ],
   "source": [
    "for i in (\"Laura\", \"Carlos\", \"Carlos\"):\n",
    "    print(i)"
   ]
  },
  {
   "cell_type": "code",
   "execution_count": 142,
   "metadata": {},
   "outputs": [
    {
     "name": "stdout",
     "output_type": "stream",
     "text": [
      "Laura\n",
      "Carlos\n",
      "Carlos\n"
     ]
    }
   ],
   "source": [
    "for i in [\"Laura\", \"Carlos\", \"Carlos\"]:\n",
    "    print(i)"
   ]
  },
  {
   "cell_type": "code",
   "execution_count": 147,
   "metadata": {},
   "outputs": [
    {
     "data": {
      "text/plain": [
       "('Laura',)"
      ]
     },
     "execution_count": 147,
     "metadata": {},
     "output_type": "execute_result"
    }
   ],
   "source": [
    "(\"Laura\", \"Carlos\", \"Carlos\")[0:1]"
   ]
  },
  {
   "cell_type": "code",
   "execution_count": 148,
   "metadata": {},
   "outputs": [
    {
     "data": {
      "text/plain": [
       "['Laura']"
      ]
     },
     "execution_count": 148,
     "metadata": {},
     "output_type": "execute_result"
    }
   ],
   "source": [
    "[\"Laura\", \"Carlos\", \"Carlos\"][0:1]"
   ]
  },
  {
   "cell_type": "code",
   "execution_count": 152,
   "metadata": {},
   "outputs": [
    {
     "data": {
      "text/plain": [
       "()"
      ]
     },
     "execution_count": 152,
     "metadata": {},
     "output_type": "execute_result"
    }
   ],
   "source": [
    "tup_ = tuple()\n",
    "tup_"
   ]
  },
  {
   "cell_type": "code",
   "execution_count": 159,
   "metadata": {},
   "outputs": [
    {
     "data": {
      "text/plain": [
       "(3,)"
      ]
     },
     "execution_count": 159,
     "metadata": {},
     "output_type": "execute_result"
    }
   ],
   "source": [
    "a = 3\n",
    "tup_ = a,   # int,\n",
    "tup_"
   ]
  },
  {
   "cell_type": "code",
   "execution_count": 160,
   "metadata": {},
   "outputs": [
    {
     "name": "stdout",
     "output_type": "stream",
     "text": [
      "3\n"
     ]
    }
   ],
   "source": [
    "for i in tup_:\n",
    "    print(i)"
   ]
  },
  {
   "cell_type": "code",
   "execution_count": 161,
   "metadata": {},
   "outputs": [
    {
     "data": {
      "text/plain": [
       "['count', 'index']"
      ]
     },
     "execution_count": 161,
     "metadata": {},
     "output_type": "execute_result"
    }
   ],
   "source": [
    "[i for i in dir(()) if \"_\" not in i]"
   ]
  },
  {
   "cell_type": "code",
   "execution_count": 166,
   "metadata": {},
   "outputs": [
    {
     "data": {
      "text/plain": [
       "[1, 2, 3, '4', ['el cinco']]"
      ]
     },
     "execution_count": 166,
     "metadata": {},
     "output_type": "execute_result"
    }
   ],
   "source": [
    "tup_ = (1, 2, 3, \"4\")\n",
    "hola = list(tup_)\n",
    "hola.append([\"el cinco\"])\n",
    "hola"
   ]
  },
  {
   "cell_type": "code",
   "execution_count": 167,
   "metadata": {},
   "outputs": [
    {
     "ename": "AttributeError",
     "evalue": "'tuple' object has no attribute 'append'",
     "output_type": "error",
     "traceback": [
      "\u001b[0;31m---------------------------------------------------------------------------\u001b[0m",
      "\u001b[0;31mAttributeError\u001b[0m                            Traceback (most recent call last)",
      "Cell \u001b[0;32mIn[167], line 3\u001b[0m\n\u001b[1;32m      1\u001b[0m hola \u001b[38;5;241m=\u001b[39m (\u001b[38;5;241m1\u001b[39m, \u001b[38;5;241m2\u001b[39m, \u001b[38;5;241m3\u001b[39m, \u001b[38;5;124m\"\u001b[39m\u001b[38;5;124m4\u001b[39m\u001b[38;5;124m\"\u001b[39m)\n\u001b[1;32m      2\u001b[0m \u001b[38;5;66;03m#hola = list(tup_)\u001b[39;00m\n\u001b[0;32m----> 3\u001b[0m \u001b[43mhola\u001b[49m\u001b[38;5;241;43m.\u001b[39;49m\u001b[43mappend\u001b[49m([\u001b[38;5;124m\"\u001b[39m\u001b[38;5;124mel cinco\u001b[39m\u001b[38;5;124m\"\u001b[39m])\n\u001b[1;32m      4\u001b[0m hola\n",
      "\u001b[0;31mAttributeError\u001b[0m: 'tuple' object has no attribute 'append'"
     ]
    }
   ],
   "source": [
    "hola = (1, 2, 3, \"4\")\n",
    "#hola = list(tup_)\n",
    "hola.append([\"el cinco\"])\n",
    "hola"
   ]
  },
  {
   "cell_type": "markdown",
   "metadata": {
    "lang": "en"
   },
   "source": [
    "Las tuplas en Python son un tipo de datos o estructura que permite almacenar datos de forma muy similar a las listas, excepto que son inmutables. Por lo tanto, no podremos:\n",
    "- cambiar los elementos\n",
    "- agregar nuevos valores"
   ]
  },
  {
   "cell_type": "markdown",
   "metadata": {},
   "source": [
    "- Listas: []\n",
    "- Tuplas: (), contienen diferentes tipos de datos. Tienen menos métodos porque están pensadas para ser un poco más inmutables. Python las utiliza mucho a nivel interno. "
   ]
  },
  {
   "cell_type": "markdown",
   "metadata": {
    "lang": "en"
   },
   "source": [
    "Ventajas de las tuplas\n",
    "* Más rápidas\n",
    "* Los datos no se pueden modificar\n",
    "\n",
    "También es posible que utilicemos tuplas cuando queramos devolver múltiples valores en el `return` de una función"
   ]
  },
  {
   "cell_type": "code",
   "execution_count": 172,
   "metadata": {},
   "outputs": [
    {
     "name": "stdout",
     "output_type": "stream",
     "text": [
      "El resultado de la suma es 13\n"
     ]
    }
   ],
   "source": [
    "def sumar (a, b):\n",
    "    resultado = a + b\n",
    "    print(f\"El resultado de la suma es {resultado}\")\n",
    "    return a*100, b/2\n",
    "\n",
    "primer_elemento, segundo_elemento = sumar(10, 3)"
   ]
  },
  {
   "cell_type": "code",
   "execution_count": 173,
   "metadata": {},
   "outputs": [
    {
     "data": {
      "text/plain": [
       "1000"
      ]
     },
     "execution_count": 173,
     "metadata": {},
     "output_type": "execute_result"
    }
   ],
   "source": [
    "primer_elemento"
   ]
  },
  {
   "cell_type": "code",
   "execution_count": 174,
   "metadata": {},
   "outputs": [
    {
     "data": {
      "text/plain": [
       "1.5"
      ]
     },
     "execution_count": 174,
     "metadata": {},
     "output_type": "execute_result"
    }
   ],
   "source": [
    "segundo_elemento"
   ]
  },
  {
   "cell_type": "code",
   "execution_count": 180,
   "metadata": {
    "scrolled": true
   },
   "outputs": [
    {
     "name": "stdout",
     "output_type": "stream",
     "text": [
      "(10, 234, 1212, 3445)\n",
      "<class 'tuple'>\n"
     ]
    },
    {
     "data": {
      "text/plain": [
       "4901"
      ]
     },
     "execution_count": 180,
     "metadata": {},
     "output_type": "execute_result"
    }
   ],
   "source": [
    "def sumar (*args):\n",
    "    print(args)\n",
    "    print(type(args))\n",
    "    counter = 0\n",
    "    for i in args: \n",
    "        counter += i\n",
    "    return counter\n",
    "    \n",
    "sumar(10, 234, 1212, 3445)\n",
    "\n",
    "# tuplas: son más estáticas\n",
    "# python: \n",
    "   # un caso de uso: para recibir argumentops\n",
    "    # para devolver argumentos"
   ]
  },
  {
   "cell_type": "code",
   "execution_count": 183,
   "metadata": {},
   "outputs": [
    {
     "data": {
      "text/plain": [
       "-7"
      ]
     },
     "execution_count": 183,
     "metadata": {},
     "output_type": "execute_result"
    }
   ],
   "source": [
    "def sumar (a, b, *args, **kwargs):\n",
    "    return a - b\n",
    "\n",
    "sumar(a=3, b=10)\n",
    "sumar(3, 10)\n",
    "\n",
    "# Argumentos que son posicionales: según se pasan, el primero corresponde con el primero\n",
    "    # el 3 corresponderá con el primero\n",
    "    "
   ]
  },
  {
   "cell_type": "code",
   "execution_count": 189,
   "metadata": {},
   "outputs": [
    {
     "name": "stdout",
     "output_type": "stream",
     "text": [
      "10\n",
      "7\n",
      "(2, 3, 90, 90, 98)\n",
      "<class 'tuple'>\n"
     ]
    }
   ],
   "source": [
    "def sumar (a, b, *args):\n",
    "    print(a)\n",
    "    print(b)\n",
    "    print(args) # tupla\n",
    "    print(type(args)) # tupla\n",
    "\n",
    "\n",
    "sumar(10, 7, 2, 3, 90, 90, 98)"
   ]
  },
  {
   "cell_type": "markdown",
   "metadata": {},
   "source": [
    "-----------------------------"
   ]
  },
  {
   "cell_type": "markdown",
   "metadata": {},
   "source": [
    "##### Challenge 1: Tuplas\n",
    "\n",
    "¿Sabías que puedes crear tuplas con un solo elemento?\n",
    "\n",
    "**En la celda a continuación, define una variable `tup` con un solo elemento `\"p\"`.**<br>"
   ]
  },
  {
   "cell_type": "code",
   "execution_count": null,
   "metadata": {},
   "outputs": [],
   "source": []
  },
  {
   "cell_type": "markdown",
   "metadata": {},
   "source": [
    "#### Ahora intenta agregar los siguientes elementos a `tup`. \n",
    "\n",
    "¿Puedes hacerlo? Explícalo.\n",
    "\n",
    "```\n",
    "\"y\", \"t\", \"h\", \"o\", \"n\"\n",
    "```"
   ]
  },
  {
   "cell_type": "code",
   "execution_count": null,
   "metadata": {},
   "outputs": [],
   "source": []
  },
  {
   "cell_type": "markdown",
   "metadata": {},
   "source": [
    "#### Divida `tup` en `tup1` y `tup2` con 4 elementos en cada uno. \n",
    "\n",
    "`tup1` debería ser `(\"p\", \"y\", \"t)` y `tup2` debería ser `(\"h\", \"o\", \"n\")`.\n",
    "\n",
    "*Sugerencia: use números de índice positivos para la asignación de `tup1` y use números de índice negativos para la asignación de `tup2`. Los números de índice positivos cuentan desde el principio, mientras que los números de índice negativos cuentan desde el final de la secuencia.*\n",
    "\n",
    "También imprima `tup1` y `tup2`."
   ]
  },
  {
   "cell_type": "code",
   "execution_count": null,
   "metadata": {},
   "outputs": [],
   "source": []
  },
  {
   "cell_type": "markdown",
   "metadata": {},
   "source": [
    "#### Agregue `tup1` y `tup2` en `tup3` usando el operador `+`.\n",
    "\n",
    "Luego imprima `tup3` y verifique si `tup3` es igual a `tup`."
   ]
  },
  {
   "cell_type": "code",
   "execution_count": null,
   "metadata": {},
   "outputs": [],
   "source": []
  },
  {
   "cell_type": "markdown",
   "metadata": {},
   "source": [
    "#### ¿Cuál es el número de índice de `\"h\"` en `tup3`?"
   ]
  },
  {
   "cell_type": "code",
   "execution_count": null,
   "metadata": {},
   "outputs": [],
   "source": []
  },
  {
   "cell_type": "markdown",
   "metadata": {},
   "source": [
    "#### Ahora, usa un bucle FOR para verificar si cada letra de la siguiente lista está presente en `tup3`:\n",
    "\n",
    "```\n",
    "letters = [\"a\", \"b\", \"c\", \"d\", \"e\"]\n",
    "```\n",
    "\n",
    "Para cada letra que verifiques, imprime `True` si está presente en `tup3`, de lo contrario imprime `False`.\n",
    "\n",
    "*Sugerencia: solo necesitas hacer un bucle en `letters`. No necesitas hacer un bucle en `tup3` porque hay un operador de Python `in` que puedes usar. Consulta la [referencia](https://stackoverflow.com/questions/17920147/how-to-check-if-a-tuple-contains-an-element-in-python).*"
   ]
  },
  {
   "cell_type": "code",
   "execution_count": null,
   "metadata": {},
   "outputs": [],
   "source": []
  },
  {
   "cell_type": "markdown",
   "metadata": {},
   "source": [
    "#### ¿Cuántas veces aparece cada letra de `letters` en `tup3`?\n",
    "\n",
    "Imprime la cantidad de veces que aparece cada letra."
   ]
  },
  {
   "cell_type": "code",
   "execution_count": null,
   "metadata": {},
   "outputs": [],
   "source": []
  },
  {
   "cell_type": "markdown",
   "metadata": {},
   "source": [
    "-----------------------------"
   ]
  },
  {
   "cell_type": "markdown",
   "metadata": {
    "slideshow": {
     "slide_type": "notes"
    }
   },
   "source": [
    "### Sets (conjuntos)\n",
    "Los sets (conjuntos) se utilizan para almacenar varios elementos en una única variable. A diferencia de las listas, contienen elementos individuales y no tienen un orden."
   ]
  },
  {
   "attachments": {
    "image.png": {
     "image/png": "[encoded data removed]"
    }
   },
   "cell_type": "markdown",
   "metadata": {},
   "source": [
    "![image.png](attachment:image.png)"
   ]
  },
  {
   "cell_type": "code",
   "execution_count": null,
   "metadata": {},
   "outputs": [],
   "source": [
    "# []\n",
    "# ()\n",
    "# {} :sets\n",
    "# {:}"
   ]
  },
  {
   "cell_type": "code",
   "execution_count": 191,
   "metadata": {},
   "outputs": [
    {
     "data": {
      "text/plain": [
       "set()"
      ]
     },
     "execution_count": 191,
     "metadata": {},
     "output_type": "execute_result"
    }
   ],
   "source": [
    "ej = set()\n",
    "ej"
   ]
  },
  {
   "cell_type": "code",
   "execution_count": 192,
   "metadata": {},
   "outputs": [
    {
     "data": {
      "text/plain": [
       "{1, 2, 3}"
      ]
     },
     "execution_count": 192,
     "metadata": {},
     "output_type": "execute_result"
    }
   ],
   "source": [
    "set([1, 2, 3])"
   ]
  },
  {
   "cell_type": "code",
   "execution_count": 193,
   "metadata": {},
   "outputs": [
    {
     "data": {
      "text/plain": [
       "{1, 2, 3}"
      ]
     },
     "execution_count": 193,
     "metadata": {},
     "output_type": "execute_result"
    }
   ],
   "source": [
    "set([1, 2, 2, 2, 3])"
   ]
  },
  {
   "cell_type": "code",
   "execution_count": 194,
   "metadata": {},
   "outputs": [],
   "source": [
    "# un set no tiene valores repetidos\n",
    "# para ver los valores únicos de estructuras de datos\n",
    "# tabla: queramos ver valores únicos de fechas"
   ]
  },
  {
   "cell_type": "markdown",
   "metadata": {
    "lang": "en"
   },
   "source": [
    "`add` Agrega un elemento al conjunto"
   ]
  },
  {
   "cell_type": "code",
   "execution_count": 203,
   "metadata": {},
   "outputs": [],
   "source": [
    "set_a = {1, 2, 3, 4, 5}"
   ]
  },
  {
   "cell_type": "code",
   "execution_count": 204,
   "metadata": {},
   "outputs": [],
   "source": [
    "set_b = {6, 7, 8, 9, 10}"
   ]
  },
  {
   "cell_type": "code",
   "execution_count": 205,
   "metadata": {},
   "outputs": [],
   "source": [
    "set_a.add(6)"
   ]
  },
  {
   "cell_type": "code",
   "execution_count": 206,
   "metadata": {},
   "outputs": [
    {
     "data": {
      "text/plain": [
       "{1, 2, 3, 4, 5, 6}"
      ]
     },
     "execution_count": 206,
     "metadata": {},
     "output_type": "execute_result"
    }
   ],
   "source": [
    "set_a"
   ]
  },
  {
   "cell_type": "markdown",
   "metadata": {
    "lang": "en"
   },
   "source": [
    "`clear` Borra todos los elementos del conjunto"
   ]
  },
  {
   "cell_type": "code",
   "execution_count": null,
   "metadata": {},
   "outputs": [],
   "source": []
  },
  {
   "cell_type": "markdown",
   "metadata": {
    "lang": "en"
   },
   "source": [
    "`copy` Devuelve una copia del conjunto"
   ]
  },
  {
   "cell_type": "code",
   "execution_count": null,
   "metadata": {},
   "outputs": [],
   "source": []
  },
  {
   "cell_type": "markdown",
   "metadata": {
    "lang": "en"
   },
   "source": [
    "`difference()` Devuelve un conjunto que contiene la diferencia entre dos o más conjuntos. Lo que realmente devuelve son los elementos que están SÓLO en el primer conjunto."
   ]
  },
  {
   "cell_type": "code",
   "execution_count": 208,
   "metadata": {},
   "outputs": [
    {
     "data": {
      "text/plain": [
       "{1, 2, 3, 4, 5, 6}"
      ]
     },
     "execution_count": 208,
     "metadata": {},
     "output_type": "execute_result"
    }
   ],
   "source": [
    "set_a"
   ]
  },
  {
   "cell_type": "code",
   "execution_count": 209,
   "metadata": {},
   "outputs": [
    {
     "data": {
      "text/plain": [
       "{6, 7, 8, 9, 10}"
      ]
     },
     "execution_count": 209,
     "metadata": {},
     "output_type": "execute_result"
    }
   ],
   "source": [
    "set_b"
   ]
  },
  {
   "cell_type": "code",
   "execution_count": 211,
   "metadata": {},
   "outputs": [
    {
     "data": {
      "text/plain": [
       "{1, 2, 3, 4, 5}"
      ]
     },
     "execution_count": 211,
     "metadata": {},
     "output_type": "execute_result"
    }
   ],
   "source": [
    "set_a.difference(set_b)"
   ]
  },
  {
   "cell_type": "markdown",
   "metadata": {},
   "source": [
    "`discard` y `remove`: el método incorporado discard() en Python elimina el elemento del conjunto solo si el elemento está presente en el conjunto. Si el elemento no está presente en el conjunto, no se genera ningún error ni excepción y se imprime el conjunto original."
   ]
  },
  {
   "cell_type": "markdown",
   "metadata": {
    "lang": "en"
   },
   "source": [
    "`discard` Elimina el elemento especificado"
   ]
  },
  {
   "cell_type": "code",
   "execution_count": null,
   "metadata": {},
   "outputs": [],
   "source": []
  },
  {
   "cell_type": "markdown",
   "metadata": {
    "lang": "en"
   },
   "source": [
    "`remove` Elimina el elemento especificado"
   ]
  },
  {
   "cell_type": "code",
   "execution_count": null,
   "metadata": {},
   "outputs": [],
   "source": []
  },
  {
   "cell_type": "markdown",
   "metadata": {
    "lang": "en"
   },
   "source": [
    "`intersection()` Devuelve un conjunto que es la intersección de dos o más conjuntos"
   ]
  },
  {
   "cell_type": "code",
   "execution_count": 212,
   "metadata": {},
   "outputs": [
    {
     "data": {
      "text/plain": [
       "{6}"
      ]
     },
     "execution_count": 212,
     "metadata": {},
     "output_type": "execute_result"
    }
   ],
   "source": [
    "set_a.intersection(set_b)"
   ]
  },
  {
   "cell_type": "markdown",
   "metadata": {
    "lang": "en"
   },
   "source": [
    "`issubset` Devuelve si otro conjunto contiene o no este conjunto"
   ]
  },
  {
   "cell_type": "code",
   "execution_count": 214,
   "metadata": {},
   "outputs": [
    {
     "data": {
      "text/plain": [
       "True"
      ]
     },
     "execution_count": 214,
     "metadata": {},
     "output_type": "execute_result"
    }
   ],
   "source": [
    "set_c = {1, 2, 3, 4, 5}\n",
    "set_d =  {1, 2, 3, 4, 5, 6, 7, 8, 9, 10, 11}\n",
    "\n",
    "set_c.issubset(set_d) # boolean (is...)"
   ]
  },
  {
   "cell_type": "code",
   "execution_count": 220,
   "metadata": {},
   "outputs": [
    {
     "data": {
      "text/plain": [
       "False"
      ]
     },
     "execution_count": 220,
     "metadata": {},
     "output_type": "execute_result"
    }
   ],
   "source": [
    "set_c = {1, 2, 3, 4, 5, 11}\n",
    "set_d =  {1, 2, 3, 4, 6, 7, 8, 9, 11}\n",
    "\n",
    "set_c.issubset(set_d) # boolean (is...)"
   ]
  },
  {
   "cell_type": "code",
   "execution_count": 215,
   "metadata": {},
   "outputs": [],
   "source": [
    "# grupos / id_cliente / transacciones\n",
    "\n",
    "# entender relaciones\n",
    "# evaluar pertenencia\n",
    "# valores únicpos\n",
    "\n",
    "# SATISFACCIÓN: muy satisfecho, regular, regular, regular, no muy bien, muy satisfecho, estupendo, maravilloso...."
   ]
  },
  {
   "cell_type": "markdown",
   "metadata": {
    "lang": "en"
   },
   "source": [
    "`issuperset` Devuelve si este conjunto contiene otro conjunto o no"
   ]
  },
  {
   "cell_type": "code",
   "execution_count": 223,
   "metadata": {},
   "outputs": [
    {
     "data": {
      "text/plain": [
       "False"
      ]
     },
     "execution_count": 223,
     "metadata": {},
     "output_type": "execute_result"
    }
   ],
   "source": [
    "set_c = {1, 2, 3, 4, 5}\n",
    "set_d =  {1, 2, 3, 4, 5, 6, 7, 8, 9, 10, 11}\n",
    "\n",
    "set_c.issuperset(set_d) # boolean (is...)"
   ]
  },
  {
   "cell_type": "markdown",
   "metadata": {
    "lang": "en"
   },
   "source": [
    "`pop` Elimina un elemento del conjunto. Elimina el primer elemento de un conjunto y, además, nos lo devuelve. Se diferencia de las listas que no tienen parámetros a los que pasar un índice."
   ]
  },
  {
   "cell_type": "code",
   "execution_count": null,
   "metadata": {},
   "outputs": [],
   "source": []
  },
  {
   "cell_type": "markdown",
   "metadata": {
    "lang": "en"
   },
   "source": [
    "`union` Devuelve un conjunto que contiene la unión de conjuntos"
   ]
  },
  {
   "cell_type": "code",
   "execution_count": 224,
   "metadata": {},
   "outputs": [
    {
     "data": {
      "text/plain": [
       "{1, 2, 3, 4, 5, 6}"
      ]
     },
     "execution_count": 224,
     "metadata": {},
     "output_type": "execute_result"
    }
   ],
   "source": [
    "set_a"
   ]
  },
  {
   "cell_type": "code",
   "execution_count": 225,
   "metadata": {},
   "outputs": [
    {
     "data": {
      "text/plain": [
       "{6, 7, 8, 9, 10}"
      ]
     },
     "execution_count": 225,
     "metadata": {},
     "output_type": "execute_result"
    }
   ],
   "source": [
    "set_b"
   ]
  },
  {
   "cell_type": "code",
   "execution_count": 226,
   "metadata": {},
   "outputs": [
    {
     "data": {
      "text/plain": [
       "{1, 2, 3, 4, 5, 6, 7, 8, 9, 10}"
      ]
     },
     "execution_count": 226,
     "metadata": {},
     "output_type": "execute_result"
    }
   ],
   "source": [
    "set_a.union(set_b)"
   ]
  },
  {
   "cell_type": "markdown",
   "metadata": {
    "lang": "en"
   },
   "source": [
    "`update` Actualiza el conjunto con otro conjunto o cualquier otro iterable. No devuelve uno nuevo, solo actualiza el anterior."
   ]
  },
  {
   "cell_type": "code",
   "execution_count": null,
   "metadata": {},
   "outputs": [],
   "source": []
  },
  {
   "cell_type": "markdown",
   "metadata": {},
   "source": [
    "### 💪 Hands-on "
   ]
  },
  {
   "cell_type": "code",
   "execution_count": null,
   "metadata": {},
   "outputs": [],
   "source": [
    "import random"
   ]
  },
  {
   "cell_type": "markdown",
   "metadata": {},
   "source": [
    "⚠️ ¿Te salió el mensaje: módulo no encontrado? Prueba en una celda: <br>\n",
    "`!pip install random`<br>\n",
    "`import random`"
   ]
  },
  {
   "cell_type": "markdown",
   "metadata": {},
   "source": [
    "#### En la celda siguiente, crea una lista llamada `sample_list_1` con 80 valores aleatorios. \n",
    "\n",
    "Requisitos:\n",
    "\n",
    "* Cada valor es un número entero comprendido entre 0 y 100.\n",
    "* Cada valor de la lista es único.\n",
    "\n",
    "Imprime `sample_list_1` para revisar sus valores\n",
    "\n",
    "*Sugerencia: usa `random.sample` ([referencia](https://docs.python.org/3/library/random.html#random.sample)).*"
   ]
  },
  {
   "cell_type": "code",
   "execution_count": null,
   "metadata": {},
   "outputs": [],
   "source": []
  },
  {
   "cell_type": "markdown",
   "metadata": {},
   "source": [
    "#### Convierte `sample_list_1` en un conjunto llamado `set1`. Imprime la longitud del conjunto. ¿Su longitud sigue siendo 80?"
   ]
  },
  {
   "cell_type": "code",
   "execution_count": null,
   "metadata": {},
   "outputs": [],
   "source": []
  },
  {
   "cell_type": "markdown",
   "metadata": {},
   "source": [
    "#### Crea otra lista llamada `sample_list_2` con 80 valores aleatorios.\n",
    "\n",
    "Requisitos:\n",
    "\n",
    "* Cada valor es un número entero comprendido entre 0 y 100.\n",
    "* Los valores de la lista no tienen que ser únicos.\n",
    "\n",
    "*Sugerencia: usa un bucle FOR.*"
   ]
  },
  {
   "cell_type": "code",
   "execution_count": null,
   "metadata": {},
   "outputs": [],
   "source": []
  },
  {
   "cell_type": "markdown",
   "metadata": {},
   "source": [
    "#### Convierte `sample_list_2` en un conjunto llamado `set2`. Imprime la longitud del conjunto. ¿Su longitud sigue siendo 80?"
   ]
  },
  {
   "cell_type": "code",
   "execution_count": null,
   "metadata": {},
   "outputs": [],
   "source": []
  },
  {
   "cell_type": "markdown",
   "metadata": {},
   "source": [
    "#### Identifica los elementos presentes en `set1` pero no en `set2`. Asigna los elementos a un nuevo conjunto llamado `set3`."
   ]
  },
  {
   "cell_type": "code",
   "execution_count": null,
   "metadata": {},
   "outputs": [],
   "source": []
  },
  {
   "cell_type": "markdown",
   "metadata": {},
   "source": [
    "#### Identifica los elementos presentes en `set2` pero no en `set1`. Asigna los elementos a un nuevo conjunto llamado `set4`."
   ]
  },
  {
   "cell_type": "code",
   "execution_count": null,
   "metadata": {},
   "outputs": [],
   "source": []
  },
  {
   "cell_type": "markdown",
   "metadata": {},
   "source": [
    "#### Ahora, identifica los elementos compartidos entre `set1` y `set2`. Asigna los elementos a un nuevo conjunto llamado `set5`."
   ]
  },
  {
   "cell_type": "code",
   "execution_count": null,
   "metadata": {},
   "outputs": [],
   "source": []
  },
  {
   "cell_type": "markdown",
   "metadata": {},
   "source": [
    "#### ¿Cuál es la relación entre los siguientes valores:\n",
    "\n",
    "* len(set1)\n",
    "* len(set2)\n",
    "* len(set3)\n",
    "* len(set4)\n",
    "* len(set5)\n",
    "\n",
    "Use una fórmula matemática para representar esa relación. Pruebe su fórmula con código Python. "
   ]
  },
  {
   "cell_type": "markdown",
   "metadata": {},
   "source": [
    "#### Elimina todos los elementos de la siguiente lista de `set1` si están presentes en el conjunto. Imprime los elementos restantes.\n",
    "\n",
    "```\n",
    "list_to_remove = [1, 9, 11, 19, 21, 29, 31, 39, 41, 49, 51, 59, 61, 69, 71, 79, 81, 89, 91, 99]\n",
    "```"
   ]
  },
  {
   "cell_type": "markdown",
   "metadata": {
    "lang": "en"
   },
   "source": [
    "### Diccionarios"
   ]
  },
  {
   "cell_type": "code",
   "execution_count": null,
   "metadata": {},
   "outputs": [],
   "source": [
    "# []: iterable, orden, índice\n",
    "# (): iterable, orden, índice\n",
    "# {}: iterable, ni orden, ni índice\n",
    "# {:}"
   ]
  },
  {
   "cell_type": "code",
   "execution_count": 233,
   "metadata": {},
   "outputs": [],
   "source": [
    "# {\"hola\", 1, 2, 90, 3, \"aaaa\"}[0], no tiene índice"
   ]
  },
  {
   "cell_type": "code",
   "execution_count": 231,
   "metadata": {},
   "outputs": [
    {
     "name": "stdout",
     "output_type": "stream",
     "text": [
      "1\n",
      "2\n",
      "3\n",
      "aaaa\n",
      "90\n",
      "hola\n"
     ]
    }
   ],
   "source": [
    "for i in {\"hola\", 1, 2, 90, 3, \"aaaa\"}:\n",
    "    print(i)\n",
    "\n",
    "# No tiene orden\n",
    "# Aunque sea iterable"
   ]
  },
  {
   "cell_type": "code",
   "execution_count": 234,
   "metadata": {},
   "outputs": [
    {
     "data": {
      "text/plain": [
       "{'Nombre': 'Laura'}"
      ]
     },
     "execution_count": 234,
     "metadata": {},
     "output_type": "execute_result"
    }
   ],
   "source": [
    "{\"Nombre\": \"Laura\"}"
   ]
  },
  {
   "cell_type": "code",
   "execution_count": 235,
   "metadata": {},
   "outputs": [
    {
     "data": {
      "text/plain": [
       "{'Nombre': 'Laura', 'Edad': 30}"
      ]
     },
     "execution_count": 235,
     "metadata": {},
     "output_type": "execute_result"
    }
   ],
   "source": [
    "{\"Nombre\": \"Laura\", \"Edad\": 30}"
   ]
  },
  {
   "cell_type": "code",
   "execution_count": 243,
   "metadata": {},
   "outputs": [
    {
     "data": {
      "text/plain": [
       "{'Nombre': 'Laura', 'Edad': 30}"
      ]
     },
     "execution_count": 243,
     "metadata": {},
     "output_type": "execute_result"
    }
   ],
   "source": [
    "{\"Nombre\": \"Laura\",\n",
    "\"Edad\": 30}\n",
    "\n",
    "# Los valores de los dicccionarios son únicos EN LAS KEYS"
   ]
  },
  {
   "cell_type": "code",
   "execution_count": 254,
   "metadata": {},
   "outputs": [
    {
     "data": {
      "text/plain": [
       "30"
      ]
     },
     "execution_count": 254,
     "metadata": {},
     "output_type": "execute_result"
    }
   ],
   "source": [
    "info_persona = {\"Nombre\": \"Laura\",\n",
    "\"Edad\": 30,\n",
    "\"Ciudad\": [\"Valencia\", \"Teruel\"]}\n",
    "\n",
    "info_persona[\"Edad\"]\n",
    "\n",
    "# mapear / match / asignar un valor a una key"
   ]
  },
  {
   "cell_type": "code",
   "execution_count": 248,
   "metadata": {},
   "outputs": [
    {
     "data": {
      "text/plain": [
       "dict_keys(['Nombre', 'Edad', 'Ciudad'])"
      ]
     },
     "execution_count": 248,
     "metadata": {},
     "output_type": "execute_result"
    }
   ],
   "source": [
    "info_persona.keys()"
   ]
  },
  {
   "cell_type": "code",
   "execution_count": 249,
   "metadata": {},
   "outputs": [
    {
     "data": {
      "text/plain": [
       "dict_values(['Laura', 30, 'Valencia'])"
      ]
     },
     "execution_count": 249,
     "metadata": {},
     "output_type": "execute_result"
    }
   ],
   "source": [
    "info_persona.values()"
   ]
  },
  {
   "cell_type": "code",
   "execution_count": 255,
   "metadata": {},
   "outputs": [
    {
     "data": {
      "text/plain": [
       "dict_items([('Nombre', 'Laura'), ('Edad', 30), ('Ciudad', ['Valencia', 'Teruel'])])"
      ]
     },
     "execution_count": 255,
     "metadata": {},
     "output_type": "execute_result"
    }
   ],
   "source": [
    "info_persona.items()"
   ]
  },
  {
   "cell_type": "code",
   "execution_count": 252,
   "metadata": {},
   "outputs": [
    {
     "data": {
      "text/plain": [
       "['__class__',\n",
       " '__class_getitem__',\n",
       " '__contains__',\n",
       " '__delattr__',\n",
       " '__delitem__',\n",
       " '__dir__',\n",
       " '__doc__',\n",
       " '__eq__',\n",
       " '__format__',\n",
       " '__ge__',\n",
       " '__getattribute__',\n",
       " '__getitem__',\n",
       " '__gt__',\n",
       " '__hash__',\n",
       " '__init__',\n",
       " '__init_subclass__',\n",
       " '__ior__',\n",
       " '__iter__',\n",
       " '__le__',\n",
       " '__len__',\n",
       " '__lt__',\n",
       " '__ne__',\n",
       " '__new__',\n",
       " '__or__',\n",
       " '__reduce__',\n",
       " '__reduce_ex__',\n",
       " '__repr__',\n",
       " '__reversed__',\n",
       " '__ror__',\n",
       " '__setattr__',\n",
       " '__setitem__',\n",
       " '__sizeof__',\n",
       " '__str__',\n",
       " '__subclasshook__',\n",
       " 'clear',\n",
       " 'copy',\n",
       " 'fromkeys',\n",
       " 'get',\n",
       " 'items',\n",
       " 'keys',\n",
       " 'pop',\n",
       " 'popitem',\n",
       " 'setdefault',\n",
       " 'update',\n",
       " 'values']"
      ]
     },
     "execution_count": 252,
     "metadata": {},
     "output_type": "execute_result"
    }
   ],
   "source": [
    "[i for i in dir({\"a\":\"b\"})]"
   ]
  },
  {
   "cell_type": "code",
   "execution_count": 241,
   "metadata": {},
   "outputs": [
    {
     "data": {
      "text/plain": [
       "['Laura', 30]"
      ]
     },
     "execution_count": 241,
     "metadata": {},
     "output_type": "execute_result"
    }
   ],
   "source": [
    "nombre_edad = [\"Laura\", 30]\n",
    "nombre_edad"
   ]
  },
  {
   "cell_type": "code",
   "execution_count": 242,
   "metadata": {},
   "outputs": [
    {
     "data": {
      "text/plain": [
       "[30]"
      ]
     },
     "execution_count": 242,
     "metadata": {},
     "output_type": "execute_result"
    }
   ],
   "source": [
    "[30]"
   ]
  },
  {
   "cell_type": "markdown",
   "metadata": {
    "lang": "en"
   },
   "source": [
    "`clear` Elimina todos los elementos del diccionario"
   ]
  },
  {
   "cell_type": "code",
   "execution_count": null,
   "metadata": {},
   "outputs": [],
   "source": []
  },
  {
   "cell_type": "markdown",
   "metadata": {
    "lang": "en"
   },
   "source": [
    "`items()` Devuelve una lista que contiene una tupla para cada par clave-valor"
   ]
  },
  {
   "cell_type": "code",
   "execution_count": null,
   "metadata": {},
   "outputs": [],
   "source": []
  },
  {
   "cell_type": "markdown",
   "metadata": {
    "lang": "en"
   },
   "source": [
    "`keys` Devuelve una lista de las claves en el diccionario"
   ]
  },
  {
   "cell_type": "code",
   "execution_count": null,
   "metadata": {},
   "outputs": [],
   "source": []
  },
  {
   "cell_type": "markdown",
   "metadata": {
    "lang": "en"
   },
   "source": [
    "`values` Devuelve una lista de todos los valores del diccionario"
   ]
  },
  {
   "cell_type": "code",
   "execution_count": null,
   "metadata": {},
   "outputs": [],
   "source": []
  },
  {
   "cell_type": "markdown",
   "metadata": {
    "lang": "en"
   },
   "source": [
    "`pop()` Elimina el elemento con la clave especificada. Me devuelve el valor."
   ]
  },
  {
   "cell_type": "code",
   "execution_count": 272,
   "metadata": {},
   "outputs": [
    {
     "data": {
      "text/plain": [
       "{'Nombre': 'LAURA',\n",
       " 'Edad': 40,\n",
       " 'Ciudad': ['Valencia', 'Teruel'],\n",
       " 'edad': 31,\n",
       " 'hobby': 'pádel'}"
      ]
     },
     "execution_count": 272,
     "metadata": {},
     "output_type": "execute_result"
    }
   ],
   "source": [
    "info_persona"
   ]
  },
  {
   "cell_type": "code",
   "execution_count": 273,
   "metadata": {},
   "outputs": [
    {
     "data": {
      "text/plain": [
       "'LAURA'"
      ]
     },
     "execution_count": 273,
     "metadata": {},
     "output_type": "execute_result"
    }
   ],
   "source": [
    "nombre_eliminado = info_persona.pop(\"Nombre\")\n",
    "nombre_eliminado"
   ]
  },
  {
   "cell_type": "code",
   "execution_count": 277,
   "metadata": {},
   "outputs": [
    {
     "data": {
      "text/plain": [
       "'LAURA'"
      ]
     },
     "execution_count": 277,
     "metadata": {},
     "output_type": "execute_result"
    }
   ],
   "source": [
    "#'Nombre': 'Lauraaaa',\n",
    " {'Edad': 40,\n",
    " 'Ciudad': ['Valencia', 'Teruel'],\n",
    " 'edad': 31,\n",
    " 'hobby': 'pádel',\n",
    "\"Nombre\": \"LAURA\"}.pop(\"Nombre\")"
   ]
  },
  {
   "cell_type": "code",
   "execution_count": 274,
   "metadata": {},
   "outputs": [
    {
     "data": {
      "text/plain": [
       "{'Edad': 40, 'Ciudad': ['Valencia', 'Teruel'], 'edad': 31, 'hobby': 'pádel'}"
      ]
     },
     "execution_count": 274,
     "metadata": {},
     "output_type": "execute_result"
    }
   ],
   "source": [
    "info_personaq"
   ]
  },
  {
   "cell_type": "markdown",
   "metadata": {
    "lang": "en"
   },
   "source": [
    "`popitem` Elimina el último par clave-valor insertado"
   ]
  },
  {
   "cell_type": "code",
   "execution_count": null,
   "metadata": {},
   "outputs": [],
   "source": []
  },
  {
   "cell_type": "markdown",
   "metadata": {
    "lang": "en"
   },
   "source": [
    "`update` Actualiza el diccionario con los pares clave-valor especificados"
   ]
  },
  {
   "cell_type": "code",
   "execution_count": 256,
   "metadata": {},
   "outputs": [
    {
     "data": {
      "text/plain": [
       "{'Nombre': 'Laura', 'Edad': 30, 'Ciudad': ['Valencia', 'Teruel']}"
      ]
     },
     "execution_count": 256,
     "metadata": {},
     "output_type": "execute_result"
    }
   ],
   "source": [
    "info_persona"
   ]
  },
  {
   "cell_type": "code",
   "execution_count": 257,
   "metadata": {},
   "outputs": [],
   "source": [
    "info_persona.update({\"Edad\": 31})"
   ]
  },
  {
   "cell_type": "code",
   "execution_count": 258,
   "metadata": {},
   "outputs": [
    {
     "data": {
      "text/plain": [
       "{'Nombre': 'Laura', 'Edad': 31, 'Ciudad': ['Valencia', 'Teruel']}"
      ]
     },
     "execution_count": 258,
     "metadata": {},
     "output_type": "execute_result"
    }
   ],
   "source": [
    "info_persona"
   ]
  },
  {
   "cell_type": "code",
   "execution_count": 259,
   "metadata": {},
   "outputs": [],
   "source": [
    "info_persona.update({\"edad\": 31})"
   ]
  },
  {
   "cell_type": "code",
   "execution_count": 260,
   "metadata": {},
   "outputs": [
    {
     "data": {
      "text/plain": [
       "{'Nombre': 'Laura', 'Edad': 31, 'Ciudad': ['Valencia', 'Teruel'], 'edad': 31}"
      ]
     },
     "execution_count": 260,
     "metadata": {},
     "output_type": "execute_result"
    }
   ],
   "source": [
    "info_persona # case-sensitive"
   ]
  },
  {
   "cell_type": "code",
   "execution_count": 261,
   "metadata": {},
   "outputs": [],
   "source": [
    "info_persona.update({\"Edad\": 32, \"Nombre\": \"LAURA\"})"
   ]
  },
  {
   "cell_type": "code",
   "execution_count": 262,
   "metadata": {},
   "outputs": [
    {
     "data": {
      "text/plain": [
       "{'Nombre': 'LAURA', 'Edad': 32, 'Ciudad': ['Valencia', 'Teruel'], 'edad': 31}"
      ]
     },
     "execution_count": 262,
     "metadata": {},
     "output_type": "execute_result"
    }
   ],
   "source": [
    "info_persona"
   ]
  },
  {
   "cell_type": "code",
   "execution_count": null,
   "metadata": {},
   "outputs": [],
   "source": [
    "info_persona.update({\"hobby\":\"pádel\"})"
   ]
  },
  {
   "cell_type": "code",
   "execution_count": 263,
   "metadata": {},
   "outputs": [],
   "source": [
    "info_persona[\"hobby\"] = \"pádel\""
   ]
  },
  {
   "cell_type": "code",
   "execution_count": 264,
   "metadata": {},
   "outputs": [
    {
     "data": {
      "text/plain": [
       "{'Nombre': 'LAURA',\n",
       " 'Edad': 32,\n",
       " 'Ciudad': ['Valencia', 'Teruel'],\n",
       " 'edad': 31,\n",
       " 'hobby': 'pádel'}"
      ]
     },
     "execution_count": 264,
     "metadata": {},
     "output_type": "execute_result"
    }
   ],
   "source": [
    "info_persona"
   ]
  },
  {
   "cell_type": "code",
   "execution_count": 265,
   "metadata": {},
   "outputs": [
    {
     "data": {
      "text/plain": [
       "['Valencia', 'Teruel']"
      ]
     },
     "execution_count": 265,
     "metadata": {},
     "output_type": "execute_result"
    }
   ],
   "source": [
    "info_persona[\"Ciudad\"]"
   ]
  },
  {
   "cell_type": "code",
   "execution_count": 266,
   "metadata": {},
   "outputs": [
    {
     "data": {
      "text/plain": [
       "32"
      ]
     },
     "execution_count": 266,
     "metadata": {},
     "output_type": "execute_result"
    }
   ],
   "source": [
    "info_persona[\"Edad\"]"
   ]
  },
  {
   "cell_type": "code",
   "execution_count": 267,
   "metadata": {},
   "outputs": [],
   "source": [
    "info_persona[\"Edad\"] = 40"
   ]
  },
  {
   "cell_type": "code",
   "execution_count": 268,
   "metadata": {},
   "outputs": [
    {
     "data": {
      "text/plain": [
       "{'Nombre': 'LAURA',\n",
       " 'Edad': 40,\n",
       " 'Ciudad': ['Valencia', 'Teruel'],\n",
       " 'edad': 31,\n",
       " 'hobby': 'pádel'}"
      ]
     },
     "execution_count": 268,
     "metadata": {},
     "output_type": "execute_result"
    }
   ],
   "source": [
    "info_persona"
   ]
  },
  {
   "cell_type": "markdown",
   "metadata": {},
   "source": [
    "### 💪 Hands-on "
   ]
  },
  {
   "cell_type": "code",
   "execution_count": 7,
   "metadata": {},
   "outputs": [
    {
     "data": {
      "text/plain": [
       "{'María': {'Mates': 8, 'Bio': 7}, 'Carlos': {'Mates': 6.5, 'Inglés': 7.7}}"
      ]
     },
     "execution_count": 7,
     "metadata": {},
     "output_type": "execute_result"
    }
   ],
   "source": [
    "# Crear un diccionario de estudiantes\n",
    "    # {:}\n",
    "\n",
    "import numpy as np\n",
    "\n",
    "estudiantes = {\"María\": {\"Mates\": 8, \"Bio\":7},\n",
    "              \"Carlos\": {\"Mates\": 6.5, \"Inglés\":7.7}}\n",
    "estudiantes"
   ]
  },
  {
   "cell_type": "code",
   "execution_count": 15,
   "metadata": {},
   "outputs": [
    {
     "name": "stdout",
     "output_type": "stream",
     "text": [
      "María tiene un\n",
      "dict_items([('Mates', 8), ('Bio', 7)])\n",
      "Carlos tiene un\n",
      "dict_items([('Mates', 6.5), ('Inglés', 7.7)])\n"
     ]
    }
   ],
   "source": [
    "# Muestra todos los estudiantes y sus calificaciones: usando print & format\n",
    "\n",
    "estudiantes\n",
    "\n",
    "# print(f\"María tiene un 8 en Mates y un 7 en Bio\")\n",
    "# print(f\"María tiene un {} en {} y un {} en {}\")\n",
    "\n",
    "# Carlos tiene un 6.5 en Mates y un 7.7 en Inglés\n",
    "\n",
    "for estudiante in estudiantes.items():\n",
    "    #print(estudiante)\n",
    "    nombre = estudiante[0]\n",
    "    asignaturas = estudiante[1]\n",
    "    print(f\"{nombre} tiene un\")\n",
    "    print(asignaturas.items())"
   ]
  },
  {
   "cell_type": "code",
   "execution_count": 22,
   "metadata": {},
   "outputs": [
    {
     "name": "stdout",
     "output_type": "stream",
     "text": [
      "María tiene un 8 in Mates\n",
      "María tiene un 7 in Bio\n",
      "Carlos tiene un 6.5 in Mates\n",
      "Carlos tiene un 7.7 in Inglés\n"
     ]
    }
   ],
   "source": [
    "# Muestra todos los estudiantes y sus calificaciones: usando print & format\n",
    "\n",
    "# Bucle doble:\n",
    "    # 1. Iteraciones por los elementos del diccionario\n",
    "    # 2. Los elementos de los values de cada alumno\n",
    "        # 2.1. Values: asignatura & nota\n",
    "\n",
    "for estudiante in estudiantes.items():\n",
    "    asignaturas = estudiante[1]\n",
    "    nombre = estudiante[0]\n",
    "    for asig in asignaturas.items():\n",
    "        a = asig[0]\n",
    "        nota = asig[1]\n",
    "        print(f\"{nombre} tiene un {nota} in {a}\")"
   ]
  },
  {
   "cell_type": "code",
   "execution_count": 26,
   "metadata": {},
   "outputs": [
    {
     "name": "stdout",
     "output_type": "stream",
     "text": [
      "María\n",
      "{'Mates': 8, 'Bio': 7}\n",
      "Carlos\n",
      "{'Mates': 6.5, 'Inglés': 7.7}\n"
     ]
    }
   ],
   "source": [
    "for nombre, informacion_expediente in estudiantes.items():\n",
    "    print(nombre)\n",
    "    print(informacion_expediente)"
   ]
  },
  {
   "cell_type": "code",
   "execution_count": 29,
   "metadata": {},
   "outputs": [
    {
     "name": "stdout",
     "output_type": "stream",
     "text": [
      "María ha sacado en Mates un 8\n",
      "María ha sacado en Bio un 7\n",
      "Carlos ha sacado en Mates un 6.5\n",
      "Carlos ha sacado en Inglés un 7.7\n"
     ]
    }
   ],
   "source": [
    "for nombre, notas in estudiantes.items():\n",
    "    for asignaturas, nota in notas.items():\n",
    "        print(f\"{nombre} ha sacado en {asignaturas} un {nota}\")"
   ]
  },
  {
   "cell_type": "code",
   "execution_count": 27,
   "metadata": {},
   "outputs": [
    {
     "name": "stdout",
     "output_type": "stream",
     "text": [
      "7\n"
     ]
    },
    {
     "data": {
      "text/plain": [
       "3"
      ]
     },
     "execution_count": 27,
     "metadata": {},
     "output_type": "execute_result"
    }
   ],
   "source": [
    "def suma (a, b):\n",
    "    print(a + b)\n",
    "    return a, b\n",
    "elemnto1, elemento2 = suma(3,4)\n",
    "elemnto1"
   ]
  },
  {
   "cell_type": "code",
   "execution_count": 39,
   "metadata": {},
   "outputs": [],
   "source": [
    "# Calcular el promedio de un estudiante\n",
    "\n",
    "maria = estudiantes[\"María\"]\n",
    "maria\n",
    "\n",
    "# acceder al 8, al 7\n",
    "# dividir por la longitud de 2\n",
    "\n",
    "n_asig = len(maria.values())\n",
    "total_notas = sum(maria.values())\n",
    "media = total_notas / n_asig"
   ]
  },
  {
   "cell_type": "code",
   "execution_count": 40,
   "metadata": {},
   "outputs": [
    {
     "data": {
      "text/plain": [
       "7.5"
      ]
     },
     "execution_count": 40,
     "metadata": {},
     "output_type": "execute_result"
    }
   ],
   "source": [
    "counter_iteraciones = 0\n",
    "counter_suma_notas = 0\n",
    "\n",
    "for i in maria.values():\n",
    "    counter_suma_notas += i # 8, 7\n",
    "    counter_iteraciones += 1\n",
    "\n",
    "media = counter_suma_notas / counter_iteraciones\n",
    "media"
   ]
  },
  {
   "cell_type": "code",
   "execution_count": 41,
   "metadata": {},
   "outputs": [
    {
     "name": "stdout",
     "output_type": "stream",
     "text": [
      "María\n",
      "Carlos\n"
     ]
    }
   ],
   "source": [
    "for est in estudiantes:\n",
    "    print(est)"
   ]
  },
  {
   "cell_type": "code",
   "execution_count": null,
   "metadata": {},
   "outputs": [],
   "source": [
    " counter_iteraciones = 0\n",
    "    counter_suma_notas = 0\n",
    "    \n",
    "    for i in estudiantes[est].values():\n",
    "        counter_suma_notas += i # 8, 7\n",
    "        counter_iteraciones += 1\n",
    "    \n",
    "    media = counter_suma_notas / counter_iteraciones\n",
    "    print(media)"
   ]
  },
  {
   "cell_type": "code",
   "execution_count": 44,
   "metadata": {},
   "outputs": [
    {
     "name": "stdout",
     "output_type": "stream",
     "text": [
      "7.5\n",
      "7.1\n"
     ]
    }
   ],
   "source": [
    "estudiantes = {\"María\": {\"Mates\": 8, \"Bio\":7},\n",
    "              \"Carlos\": {\"Mates\": 6.5, \"Inglés\":7.7}}\n",
    "\n",
    "for nombre in estudiantes: # María, Carlos\n",
    "    counter_iteraciones = 0\n",
    "    counter_suma_notas = 0\n",
    "    \n",
    "    for i in estudiantes[nombre].values():\n",
    "        counter_suma_notas += i # 8, 7\n",
    "        counter_iteraciones += 1\n",
    "    \n",
    "    media = counter_suma_notas / counter_iteraciones\n",
    "    print(media)"
   ]
  },
  {
   "cell_type": "code",
   "execution_count": 49,
   "metadata": {},
   "outputs": [
    {
     "data": {
      "text/plain": [
       "{'Mates': 8, 'Bio': 7}"
      ]
     },
     "execution_count": 49,
     "metadata": {},
     "output_type": "execute_result"
    }
   ],
   "source": [
    "estudiantes[\"María\"]"
   ]
  },
  {
   "cell_type": "code",
   "execution_count": 47,
   "metadata": {},
   "outputs": [
    {
     "data": {
      "text/plain": [
       "{'Mates': 6.5, 'Inglés': 7.7}"
      ]
     },
     "execution_count": 47,
     "metadata": {},
     "output_type": "execute_result"
    }
   ],
   "source": [
    "estudiantes[\"Carlos\"]"
   ]
  },
  {
   "cell_type": "code",
   "execution_count": null,
   "metadata": {},
   "outputs": [],
   "source": [
    "estudiante1 = {\"Info\": \n",
    "                   {\"Nombre\": \"Laura\"}, \n",
    "               \"Notas\": \n",
    "               {\"Matematicas\": 7, \"Biologia\": 9}\n",
    "        }\n",
    "estudiante2 = {\"Nombre\": \"Adrián\", \"Física\": 8, \"Literatura\": 6}\n",
    "estudiante3 = {\"Nombre\": \"Víctor\", \"Tecnología\": 5, \"Historia\": 7}\n",
    "\n",
    "estudiantes = [estudiante1, estudiante2, estudiante3]"
   ]
  },
  {
   "cell_type": "code",
   "execution_count": 53,
   "metadata": {},
   "outputs": [],
   "source": [
    "# Actualizar la calificación de un estudiante: Carlos va a revisión y le bajan la nota de Física a un\n",
    "# 5\n",
    "\n",
    "estudiantes[\"Carlos\"][\"Física\"] = 5"
   ]
  },
  {
   "cell_type": "code",
   "execution_count": 54,
   "metadata": {},
   "outputs": [
    {
     "data": {
      "text/plain": [
       "{'Mates': 6.5, 'Inglés': 7.7, 'Física': 5}"
      ]
     },
     "execution_count": 54,
     "metadata": {},
     "output_type": "execute_result"
    }
   ],
   "source": [
    "estudiantes[\"Carlos\"]"
   ]
  },
  {
   "cell_type": "code",
   "execution_count": 55,
   "metadata": {},
   "outputs": [],
   "source": [
    "estudiantes[\"Carlos\"][\"Física\"] = 4.99"
   ]
  },
  {
   "cell_type": "code",
   "execution_count": 56,
   "metadata": {},
   "outputs": [
    {
     "data": {
      "text/plain": [
       "{'Mates': 6.5, 'Inglés': 7.7, 'Física': 4.99}"
      ]
     },
     "execution_count": 56,
     "metadata": {},
     "output_type": "execute_result"
    }
   ],
   "source": [
    "estudiantes[\"Carlos\"]"
   ]
  },
  {
   "cell_type": "code",
   "execution_count": 57,
   "metadata": {},
   "outputs": [],
   "source": [
    "estudiantes[\"Carlos\"].update({\"Física\":5})"
   ]
  },
  {
   "cell_type": "code",
   "execution_count": 59,
   "metadata": {},
   "outputs": [],
   "source": [
    "#estudiantes[\"Carlos\"].update(dict_largo)"
   ]
  },
  {
   "cell_type": "code",
   "execution_count": 58,
   "metadata": {},
   "outputs": [
    {
     "data": {
      "text/plain": [
       "{'Mates': 6.5, 'Inglés': 7.7, 'Física': 5}"
      ]
     },
     "execution_count": 58,
     "metadata": {},
     "output_type": "execute_result"
    }
   ],
   "source": [
    "estudiantes[\"Carlos\"]"
   ]
  },
  {
   "cell_type": "code",
   "execution_count": null,
   "metadata": {},
   "outputs": [],
   "source": [
    "# Calcula la media de Carlos"
   ]
  },
  {
   "cell_type": "code",
   "execution_count": 61,
   "metadata": {},
   "outputs": [
    {
     "data": {
      "text/plain": [
       "[{'María': {'Mates': 8, 'Bio': 7},\n",
       "  'Carlos': {'Mates': 6.5, 'Inglés': 7.7, 'Física': 5}}]"
      ]
     },
     "execution_count": 61,
     "metadata": {},
     "output_type": "execute_result"
    }
   ],
   "source": [
    "# Calcula la media la clase\n",
    "estudiantes\n",
    "b\n",
    "[{'María': {'Mates': 8, 'Bio': 7},\n",
    " 'Carlos': {'Mates': 6.5, 'Inglés': 7.7, 'Física': 5}}]"
   ]
  },
  {
   "cell_type": "code",
   "execution_count": null,
   "metadata": {},
   "outputs": [],
   "source": [
    "# Si es lista de diccionarios: bucle + evaluar condición -> cambiar/print"
   ]
  },
  {
   "cell_type": "code",
   "execution_count": 65,
   "metadata": {},
   "outputs": [
    {
     "name": "stdout",
     "output_type": "stream",
     "text": [
      "María ha sacado en Mates un 8\n",
      "María ha sacado en Bio un 7\n",
      "Carlos ha sacado en Inglés un 7.7\n"
     ]
    }
   ],
   "source": [
    "# ¿Qué alumnos han aprobado?\n",
    "\n",
    "for nombre, notas in estudiantes.items():\n",
    "    for asignaturas, nota in notas.items():\n",
    "        if nota >= 7:\n",
    "            print(f\"{nombre} ha sacado en {asignaturas} un {nota}\")"
   ]
  },
  {
   "cell_type": "code",
   "execution_count": 75,
   "metadata": {},
   "outputs": [
    {
     "name": "stdout",
     "output_type": "stream",
     "text": [
      "María\n",
      "{'Mates': 8, 'Bio': 7}\n",
      "Carlos\n",
      "{'Mates': 6.5, 'Inglés': 7.7, 'Física': 5}\n"
     ]
    }
   ],
   "source": [
    "for alumno, asignaturas in estudiantes.items():\n",
    "    print(alumno)\n",
    "    print(asignaturas)"
   ]
  },
  {
   "cell_type": "code",
   "execution_count": 76,
   "metadata": {},
   "outputs": [
    {
     "name": "stdout",
     "output_type": "stream",
     "text": [
      "María\n",
      "{'Mates': 8, 'Bio': 7}\n",
      "Carlos\n",
      "{'Mates': 6.5, 'Inglés': 7.7, 'Física': 5}\n"
     ]
    }
   ],
   "source": [
    "for alumno in estudiantes.items():\n",
    "    for i in alumno:\n",
    "        print(i)"
   ]
  },
  {
   "cell_type": "code",
   "execution_count": 78,
   "metadata": {},
   "outputs": [
    {
     "data": {
      "text/plain": [
       "{'María': {'Mates': [8, 7, 9], 'Bio': [10, 4, 5]},\n",
       " 'Carlos': {'Mates': [10, 4, 5], 'Inglés': [10, 4, 5], 'Física': [10, 4, 5]}}"
      ]
     },
     "execution_count": 78,
     "metadata": {},
     "output_type": "execute_result"
    }
   ],
   "source": [
    "estudiantes = {'María': {'Mates': [8, 7, 9], 'Bio': [10, 4, 5]},\n",
    " 'Carlos': {'Mates':  [10, 4, 5], 'Inglés':  [10, 4, 5], 'Física':  [10, 4, 5]}}\n",
    "estudiantes"
   ]
  },
  {
   "cell_type": "code",
   "execution_count": 88,
   "metadata": {},
   "outputs": [
    {
     "data": {
      "text/plain": [
       "5"
      ]
     },
     "execution_count": 88,
     "metadata": {},
     "output_type": "execute_result"
    }
   ],
   "source": [
    "estudiantes[\"María\"][\"Bio\"][-1]"
   ]
  },
  {
   "cell_type": "code",
   "execution_count": 84,
   "metadata": {},
   "outputs": [
    {
     "name": "stdout",
     "output_type": "stream",
     "text": [
      "43\n",
      "57\n"
     ]
    }
   ],
   "source": [
    "for nombre, notas in estudiantes.items(): # estudiantes[\"María\"]\n",
    "    total = 0\n",
    "    for elem in notas.values(): # estudiantes[\"María\"][\"Bio\"]\n",
    "        for nota_individual in elem:  # estudiantes[\"María\"][\"Bio\"][-1]\n",
    "            total += nota_individual\n",
    "    print(total)"
   ]
  },
  {
   "cell_type": "markdown",
   "metadata": {
    "lang": "en"
   },
   "source": [
    "## Resumen\n",
    "Ahora te toca a ti, ¿qué hemos aprendido hoy?"
   ]
  },
  {
   "cell_type": "code",
   "execution_count": 278,
   "metadata": {},
   "outputs": [],
   "source": [
    "# []\n",
    "# () menos modificables, python\n",
    "# {} conjuntos: pertenencia: identificar grupos y ver valores únicos\n",
    "# {:}: nos mapean información teniendo un valor y su significado\n",
    "    # palabra & definición\n",
    "    # 30, Valencia, Laura"
   ]
  },
  {
   "cell_type": "code",
   "execution_count": 282,
   "metadata": {},
   "outputs": [
    {
     "data": {
      "text/plain": [
       "[{'Nombre': 'Carlos', 'Ciudad': 'Tarragona'},\n",
       " {'Nombre': 'David', 'Ciudad': 'Murcia'}]"
      ]
     },
     "execution_count": 282,
     "metadata": {},
     "output_type": "execute_result"
    }
   ],
   "source": [
    "import pandas as pd\n",
    "alumno_1 = {\"Nombre\":\"Carlos\", \"Ciudad\":\"Tarragona\"}\n",
    "alumno_2 = {\"Nombre\":\"David\", \"Ciudad\":\"Murcia\"}\n",
    "alumnos = [alumno_1, alumno_2]\n",
    "alumnos"
   ]
  },
  {
   "cell_type": "code",
   "execution_count": 289,
   "metadata": {},
   "outputs": [
    {
     "data": {
      "text/html": [
       "<div>\n",
       "<style scoped>\n",
       "    .dataframe tbody tr th:only-of-type {\n",
       "        vertical-align: middle;\n",
       "    }\n",
       "\n",
       "    .dataframe tbody tr th {\n",
       "        vertical-align: top;\n",
       "    }\n",
       "\n",
       "    .dataframe thead th {\n",
       "        text-align: right;\n",
       "    }\n",
       "</style>\n",
       "<table border=\"1\" class=\"dataframe\">\n",
       "  <thead>\n",
       "    <tr style=\"text-align: right;\">\n",
       "      <th></th>\n",
       "      <th>Nombre</th>\n",
       "      <th>Ciudad</th>\n",
       "    </tr>\n",
       "  </thead>\n",
       "  <tbody>\n",
       "    <tr>\n",
       "      <th>0</th>\n",
       "      <td>Carlos</td>\n",
       "      <td>Tarragona</td>\n",
       "    </tr>\n",
       "    <tr>\n",
       "      <th>1</th>\n",
       "      <td>David</td>\n",
       "      <td>Murcia</td>\n",
       "    </tr>\n",
       "  </tbody>\n",
       "</table>\n",
       "</div>"
      ],
      "text/plain": [
       "   Nombre     Ciudad\n",
       "0  Carlos  Tarragona\n",
       "1   David     Murcia"
      ]
     },
     "execution_count": 289,
     "metadata": {},
     "output_type": "execute_result"
    }
   ],
   "source": [
    "df = pd.DataFrame(alumnos)\n",
    "# estructura tabular -> una lista de diccionarios\n",
    "df"
   ]
  },
  {
   "cell_type": "code",
   "execution_count": 286,
   "metadata": {},
   "outputs": [],
   "source": [
    "df_2 = df.copy()"
   ]
  },
  {
   "cell_type": "code",
   "execution_count": 295,
   "metadata": {},
   "outputs": [
    {
     "data": {
      "text/html": [
       "<div>\n",
       "<style scoped>\n",
       "    .dataframe tbody tr th:only-of-type {\n",
       "        vertical-align: middle;\n",
       "    }\n",
       "\n",
       "    .dataframe tbody tr th {\n",
       "        vertical-align: top;\n",
       "    }\n",
       "\n",
       "    .dataframe thead th {\n",
       "        text-align: right;\n",
       "    }\n",
       "</style>\n",
       "<table border=\"1\" class=\"dataframe\">\n",
       "  <thead>\n",
       "    <tr style=\"text-align: right;\">\n",
       "      <th></th>\n",
       "      <th>Nombre</th>\n",
       "      <th>Ciudad</th>\n",
       "    </tr>\n",
       "  </thead>\n",
       "  <tbody>\n",
       "    <tr>\n",
       "      <th>0</th>\n",
       "      <td>Carlos</td>\n",
       "      <td>Tarragona</td>\n",
       "    </tr>\n",
       "    <tr>\n",
       "      <th>1</th>\n",
       "      <td>David</td>\n",
       "      <td>Murcia</td>\n",
       "    </tr>\n",
       "    <tr>\n",
       "      <th>0</th>\n",
       "      <td>Carlos</td>\n",
       "      <td>Tarragona</td>\n",
       "    </tr>\n",
       "    <tr>\n",
       "      <th>1</th>\n",
       "      <td>David</td>\n",
       "      <td>Murcia</td>\n",
       "    </tr>\n",
       "  </tbody>\n",
       "</table>\n",
       "</div>"
      ],
      "text/plain": [
       "   Nombre     Ciudad\n",
       "0  Carlos  Tarragona\n",
       "1   David     Murcia\n",
       "0  Carlos  Tarragona\n",
       "1   David     Murcia"
      ]
     },
     "execution_count": 295,
     "metadata": {},
     "output_type": "execute_result"
    }
   ],
   "source": [
    "df_3 = pd.concat([df, df_2])\n",
    "df_3"
   ]
  },
  {
   "cell_type": "code",
   "execution_count": 293,
   "metadata": {},
   "outputs": [
    {
     "data": {
      "text/html": [
       "<div>\n",
       "<style scoped>\n",
       "    .dataframe tbody tr th:only-of-type {\n",
       "        vertical-align: middle;\n",
       "    }\n",
       "\n",
       "    .dataframe tbody tr th {\n",
       "        vertical-align: top;\n",
       "    }\n",
       "\n",
       "    .dataframe thead th {\n",
       "        text-align: right;\n",
       "    }\n",
       "</style>\n",
       "<table border=\"1\" class=\"dataframe\">\n",
       "  <thead>\n",
       "    <tr style=\"text-align: right;\">\n",
       "      <th></th>\n",
       "      <th>Nombre</th>\n",
       "      <th>Ciudad</th>\n",
       "    </tr>\n",
       "  </thead>\n",
       "  <tbody>\n",
       "    <tr>\n",
       "      <th>0</th>\n",
       "      <td>Carlos</td>\n",
       "      <td>Tarragona</td>\n",
       "    </tr>\n",
       "    <tr>\n",
       "      <th>1</th>\n",
       "      <td>David</td>\n",
       "      <td>Murcia</td>\n",
       "    </tr>\n",
       "  </tbody>\n",
       "</table>\n",
       "</div>"
      ],
      "text/plain": [
       "   Nombre     Ciudad\n",
       "0  Carlos  Tarragona\n",
       "1   David     Murcia"
      ]
     },
     "execution_count": 293,
     "metadata": {},
     "output_type": "execute_result"
    }
   ],
   "source": [
    "df.copy() # método - HAGO - verbo"
   ]
  },
  {
   "cell_type": "code",
   "execution_count": 297,
   "metadata": {},
   "outputs": [
    {
     "data": {
      "text/plain": [
       "(4, 2)"
      ]
     },
     "execution_count": 297,
     "metadata": {},
     "output_type": "execute_result"
    }
   ],
   "source": [
    "df_3.shape # atributos - cosas - sustantivos"
   ]
  }
 ],
 "metadata": {
  "author": "https://github.com/breogann",
  "created": "2021",
  "kernelspec": {
   "display_name": "Python 3 (ipykernel)",
   "language": "python",
   "name": "python3"
  },
  "language_info": {
   "codemirror_mode": {
    "name": "ipython",
    "version": 3
   },
   "file_extension": ".py",
   "mimetype": "text/x-python",
   "name": "python",
   "nbconvert_exporter": "python",
   "pygments_lexer": "ipython3",
   "version": "3.9.24"
  },
  "nbTranslate": {
   "displayLangs": [
    "en",
    "es"
   ],
   "hotkey": "alt-a",
   "langInMainMenu": true,
   "sourceLang": "es",
   "targetLang": "en",
   "useGoogleTranslate": true
  },
  "toc": {
   "base_numbering": 1,
   "nav_menu": {},
   "number_sections": true,
   "sideBar": true,
   "skip_h1_title": true,
   "title_cell": "Table of Contents",
   "title_sidebar": "Contents",
   "toc_cell": true,
   "toc_position": {
    "height": "calc(100% - 180px)",
    "left": "10px",
    "top": "150px",
    "width": "222.891px"
   },
   "toc_section_display": true,
   "toc_window_display": false
  },
  "varInspector": {
   "cols": {
    "lenName": 16,
    "lenType": 16,
    "lenVar": 40
   },
   "kernels_config": {
    "python": {
     "delete_cmd_postfix": "",
     "delete_cmd_prefix": "del ",
     "library": "var_list.py",
     "varRefreshCmd": "print(var_dic_list())"
    },
    "r": {
     "delete_cmd_postfix": ") ",
     "delete_cmd_prefix": "rm(",
     "library": "var_list.r",
     "varRefreshCmd": "cat(var_dic_list()) "
    }
   },
   "types_to_exclude": [
    "module",
    "function",
    "builtin_function_or_method",
    "instance",
    "_Feature"
   ],
   "window_display": false
  }
 },
 "nbformat": 4,
 "nbformat_minor": 4
}
