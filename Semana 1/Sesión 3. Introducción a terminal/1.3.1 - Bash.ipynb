{
 "cells": [
  {
   "cell_type": "markdown",
   "metadata": {
    "toc": true
   },
   "source": [
    "<h1>Índice<span class=\"tocSkip\"></span></h1>\n",
    "<div class=\"toc\"><ul class=\"toc-item\"><li><span><a href=\"#¿Qué-es-la-terminal?\" data-toc-modified-id=\"¿Qué-es-la-Terminal?-1\"><span class=\"toc-item-num\">1&nbsp;&nbsp;</span>¿Qué es la Terminal?</a></span></li><li><span><a href=\"#Bash\" data-toc-modified-id=\"Bash-2\"><span class=\"toc-item-num\">2&nbsp;&nbsp;</span>Bash</a></span></li><li><span><a href=\"#Introducción\" data-toc-modified-id=\"Introducción-3\"><span class=\"toc-item-num\">3&nbsp;&nbsp;</span>Introducción</a></span></li><li><span><a href=\"#Comandos-básicos\" data-toc-modified-id=\"Comandos-básicos-4\"><span class=\"toc-item-num\">4&nbsp;&nbsp;</span>Comandos básicos</a></span><ul class=\"toc-item\"><li><span><a href=\"#Obtención-de-información\" data-toc-modified-id=\"Obtención-de-información-4.1\"><span class=\"toc-item-num\">4.1&nbsp;&nbsp;</span>Obtención de información</a></span></li><li><span><a href=\"#Navegación-en-su-propio-sistema\" data-toc-modified-id=\"Navegación-en-su-propio-sistema-4.2\"><span class=\"toc-item-num\">4.2&nbsp;&nbsp;</span>Navegación en su propio sistema</a></span></li><li><span><a href=\"#Creación-de-archivos\" data-toc-modified-id=\"Creación-de-archivos-4.3\"><span class=\"toc-item-num\">4.3&nbsp;&nbsp;</span>Creación de archivos</a></span></li><li><span><a href=\"#Vista previa-de-archivos\" data-toc-modified-id=\"Vista previa-de-archivos-4.4\"><span class=\"toc-item-num\">4.4&nbsp;&nbsp;</span>Vista previa de archivos</a></span></li><li><span><a href=\"#Editar-archivos\" data-toc-modified-id=\"Editar-archivos-4.5\"><span class=\"toc-item-num\">4.5&nbsp;&nbsp;</span>Editar archivos</a></span></li><li><span><a href=\"#Alias\" data-toc-modified-id=\"Alias-4.6\"><span class=\"toc-item-num\">4.6&nbsp;&nbsp;</span>Alias</a></span><ul class=\"toc-item\"><li><span><a href=\"#En-macOS\" data-toc-modified-id=\"En-macOS-4.6.1\"><span class=\"toc-item-num\">4.6.1&nbsp;&nbsp;</span>En macOS</a></span></li><li><span><a href=\"#En-windows\" data-toc-modified-id=\"En-windows-4.6.2\"><span class=\"toc-item-num\">4.6.2&nbsp;&nbsp;</span>En windows</a></span></li></ul></li><li><span><a href=\"#Scripting\" data-toc-modified-id=\"Scripting-4.7\"><span class=\"toc-item-num\">4.7&nbsp;&nbsp;</span>Scripting</a></span><ul class=\"toc-item\"><li><span><a href=\"#Lógica\" data-toc-modified-id=\"Lógica-4.7.1\"><span class=\"toc-item-num\">4.7.1&nbsp;&nbsp;</span>Lógica</a></span></li><li><span><a href=\"#Para\" data-toc-modified-id=\"Para-4.7.2\"><span class=\"toc-item-num\">4.7.2&nbsp;&nbsp;</span>Para</a></span></li><li><span><a href=\"#start-stop-step\" data-toc-modified-id=\"inicio-parada-paso-4.7.3\"><span class=\"toc-item-num\">4.7.3&nbsp;&nbsp;</span>inicio-parada-paso</a></span></li><li><span><a href=\"#bucle-infinito\" data-toc-modified-id=\"infinito-bucle-4.7.4\"><span class=\"toc-item-num\">4.7.4&nbsp;&nbsp;</span>bucle infinito</a></span></li><li><span><a href=\"#while\" data-toc-modified-id=\"while-4.7.5\"><span class=\"toc-item-num\">4.7.5&nbsp;&nbsp;</span>while</a></span></li><li><span><a href=\"#condicional\" data-toc-modified-id=\"condicional-4.7.6\"><span class=\"toc-item-num\">4.7.6&nbsp;&nbsp;</span>condicional</a></span></li><li><span><a href=\"#función\" data-toc-modified-id=\"función-4.7.7\"><span class=\"toc-item-num\">4.7.7&nbsp;&nbsp;</span>función</a></span></li></ul></li><li><span><a href=\"#scripts-de-Bash\" data-toc-modified-id=\"scripts-de-Bash-4.8\"><span class=\"toc-item-num\">4.8&nbsp;&nbsp;</span>Scripts de Bash</a></span></li></ul></li></ul></div>"
   ]
  },
  {
   "cell_type": "markdown",
   "metadata": {},
   "source": [
    "# Instalación"
   ]
  },
  {
   "cell_type": "markdown",
   "metadata": {},
   "source": [
    "- Git-bash (windows): https://gitforwindows.\n",
    "- MacOS: no necesario. Se puede isntalar combinación iterm2 + zsh para tener más personalización, aunque no es necesario: https://moister.net/instalar-y-configurar-iterm2-en-macos/;https://iterm2.com/"
   ]
  },
  {
   "cell_type": "code",
   "execution_count": null,
   "metadata": {},
   "outputs": [],
   "source": [
    "# git-bash: terminal con git instalado ()\n",
    "# git: VCSystem\n",
    "# github: la web\n",
    "\n",
    "\n",
    "# cmd / powershell "
   ]
  },
  {
   "cell_type": "markdown",
   "metadata": {},
   "source": [
    "## ¿Qué es la Terminal?"
   ]
  },
  {
   "cell_type": "markdown",
   "metadata": {},
   "source": [
    "La terminal es una forma de interactuar con nuestro ordenador, pero en lugar de hacerlo a través de iconos y movimientos del ratón, como estás acostumbrado a hacer (y es lo que conocemos como GUI (Graphical User Interface)), esas interacciones se llevan a cabo con líneas de comandos. Y por eso la terminal es una CLI (Command Line Interface).\n",
    "\n",
    "En el caso de terminal, se utilizan muchos términos indistintamente: bash, shell, zsh, iTerm, etc. Es decir, todos estos son \"programas\". Aunque no vamos a profundizar en ello.\n",
    "\n",
    "Tanto si eres usuario de macOS 🍎 como de Linux 🐧, la terminal que vayas a utilizar utilizará el lenguaje Bash.\n",
    "\n",
    "En Windows 🪟, sin embargo, la cosa es un poco diferente. La CLI de Windows, también conocida como cmd.exe o Símbolo del sistema es diferente, aunque comparte muchas similitudes en la sintaxis, también hay muchas incompatibilidades.\n",
    "\n",
    "Por ejemplo, el comando `ls` que se usa tanto en mac como en Linux es equivalente al `dir` de cmd.exe\n",
    "\n",
    "Pero no temas, los usuarios de Windows pueden tener el mismo programa con algunas opciones diferentes como Git BASH, o instalar WSL (Windows Subsystem for Linux) con el programa Hyper como terminal.\n",
    "\n",
    "No nos dejemos engañar por su antigüedad y su estética simple. Aunque te parezca sacado del mundo de Matrix... el terminal es una tecnología muy escueta que se mantiene muy actualizada."
   ]
  },
  {
   "cell_type": "markdown",
   "metadata": {},
   "source": [
    "## Bash\n",
    "\n",
    "¿Qué es bash? Bash es un intérprete de comandos que ejecuta, una a una, las instrucciones introducidas por el usuario o contenidas en un script y devuelve los resultados.\n",
    "\n",
    "Por otro lado, Bash no es un terminal. Tampoco es el único shell disponible. De hecho, podemos ver los shells disponibles en nuestra máquina mirando el contenido del archivo /etc/shells. Si lo consideramos necesario, podemos asignar a los usuarios comunes algo más (que no sea Bash). De esta forma podemos restringir el alcance de lo que pueden hacer utilizando la línea de comandos. Por supuesto, es el administrador quien decide esto. También existe ZSH, otra forma de terminal:\n",
    "\n",
    "ZSH, también llamado Z shell, es una versión extendida de Bourne Shell (sh), con muchas características nuevas y soporte para plugins y temas. Dado que se basa en el mismo shell que Bash, ZSH tiene muchas de las mismas características. Comenzar a usarlo es muy sencillo.\n",
    "\n",
    "https://github.com/ohmyzsh/ohmyzsh/wiki/Installing-ZSH"
   ]
  },
  {
   "cell_type": "markdown",
   "metadata": {},
   "source": [
    "## Introducción\n",
    "- GUI: Interfaz gráfica de usuario: interacción usuario-máquina a través de gráficos, iconos, imágenes, textos.\n",
    "- CLI: Interfaz de línea de comandos: interacción usuario-máquina a través de comandos de texto.\n",
    "\n",
    "CLI:\n",
    "\n",
    "- Mac, Linux: shell de UNIX\n",
    "- Windows: Git-Bash\n",
    "\n",
    "Sinónimos de CLI:\n",
    "\n",
    "- shell\n",
    "- consola\n",
    "- terminal\n",
    "\n",
    "Una terminal es útil para:\n",
    "\n",
    "- Conexiones SSH (Secure Shell): SSH es un protocolo criptográfico para operar de forma segura en redes inseguras\n",
    "- Crear pequeños programas\n",
    "- Administrar servidores\n",
    "- Simular que eres un programador genial\n",
    "- Disfrutar de permisos de administrador. (¡Con cuidado!)\n",
    "- Administrar tu computadora en general más rápido"
   ]
  },
  {
   "cell_type": "markdown",
   "metadata": {},
   "source": [
    "## Comandos básicos"
   ]
  },
  {
   "cell_type": "markdown",
   "metadata": {},
   "source": [
    "### Obtener información"
   ]
  },
  {
   "cell_type": "markdown",
   "metadata": {
    "lang": "en"
   },
   "source": [
    "La sintaxis general de los comandos bash es: `comando [opciones] [argumentos]` <br>\n",
    "¡Algunos comandos REQUIEREN opciones y/o argumentos!<br>\n",
    "Además...<br>\n",
    "Puede utilizar la tecla `<TAB>` para completar automáticamente.<br>"
   ]
  },
  {
   "cell_type": "markdown",
   "metadata": {},
   "source": [
    "`bash --version`: versión de bash"
   ]
  },
  {
   "cell_type": "markdown",
   "metadata": {},
   "source": [
    "- `man`: manual # macOS\n",
    "- `ls --help`: manual #windows"
   ]
  },
  {
   "cell_type": "markdown",
   "metadata": {},
   "source": [
    "Consejo: para salir del comando man: presione q"
   ]
  },
  {
   "cell_type": "code",
   "execution_count": null,
   "metadata": {},
   "outputs": [],
   "source": [
    "# def saludar (nombre): ....\n",
    "# saludar (nombre)\n",
    "\n",
    "# conda create env --name mi_entorno\n",
    "\n",
    "# conda / miniconda (.venv)\n",
    "# terminal\n",
    "# git\n",
    "# jupyter /visual"
   ]
  },
  {
   "cell_type": "code",
   "execution_count": null,
   "metadata": {},
   "outputs": [],
   "source": [
    "# q ->  quit\n",
    "# ctrl + c"
   ]
  },
  {
   "cell_type": "markdown",
   "metadata": {},
   "source": [
    "`.git`\n",
    "`.cached`\n"
   ]
  },
  {
   "cell_type": "markdown",
   "metadata": {},
   "source": [
    "para git bash: `ls --help`"
   ]
  },
  {
   "cell_type": "markdown",
   "metadata": {},
   "source": [
    "`date`: fecha"
   ]
  },
  {
   "cell_type": "markdown",
   "metadata": {},
   "source": [
    "`cal`: calendario\n",
    "`?`: # windows"
   ]
  },
  {
   "cell_type": "markdown",
   "metadata": {},
   "source": [
    "`-help`: obtienes más información útil"
   ]
  },
  {
   "cell_type": "markdown",
   "metadata": {},
   "source": [
    "`whoami`: usuario actual"
   ]
  },
  {
   "cell_type": "markdown",
   "metadata": {},
   "source": [
    "### Navegando por tu propio sistema"
   ]
  },
  {
   "cell_type": "markdown",
   "metadata": {},
   "source": [
    "`pwd`: imprime el directorio actual"
   ]
  },
  {
   "cell_type": "markdown",
   "metadata": {
    "lang": "en"
   },
   "source": [
    "`clear`: limpia la terminal"
   ]
  },
  {
   "cell_type": "markdown",
   "metadata": {
    "lang": "en"
   },
   "source": [
    "`echo`: imprimir en pantalla"
   ]
  },
  {
   "cell_type": "markdown",
   "metadata": {},
   "source": [
    "`echo -n`: misma línea (evita nueva línea)"
   ]
  },
  {
   "cell_type": "markdown",
   "metadata": {},
   "source": [
    "`cd`: cambia de directorio (a raíz)\n",
    "\n",
    "`cd [argumento]`: cambia a otro directorio\n",
    "\n",
    "`cd ..`: sube un nivel"
   ]
  },
  {
   "cell_type": "markdown",
   "metadata": {},
   "source": [
    "`ls`: lista de archivos dentro de esa ubicación\n",
    "\n",
    "`ls -a`: todos los archivos, incluidos los ocultos\n",
    "\n",
    "`ls -l`: lista larga\n",
    "\n",
    "`ls -al`: ambos\n",
    "\n",
    "`ls -als`: ambos con base de conocimiento"
   ]
  },
  {
   "cell_type": "markdown",
   "metadata": {},
   "source": [
    "### Creando archivos"
   ]
  },
  {
   "cell_type": "markdown",
   "metadata": {
    "lang": "en"
   },
   "source": [
    "#### Crear, editar, explorar"
   ]
  },
  {
   "cell_type": "markdown",
   "metadata": {},
   "source": [
    "`mkdir`: crea directorio"
   ]
  },
  {
   "cell_type": "markdown",
   "metadata": {},
   "source": [
    "`touch`: crea un archivo en blanco"
   ]
  },
  {
   "cell_type": "markdown",
   "metadata": {},
   "source": [
    "`echo \"algo\" >> archivo`: agrega a un archivo o crea el archivo si no existe."
   ]
  },
  {
   "cell_type": "markdown",
   "metadata": {},
   "source": []
  },
  {
   "cell_type": "markdown",
   "metadata": {},
   "source": [
    "`echo \"something\" > file`: sobrescribe el archivo si existe o lo crea si no existe."
   ]
  },
  {
   "cell_type": "markdown",
   "metadata": {},
   "source": [
    "salto de línea: `\\n` #macOs \\n\n",
    "salto de línea: `-e 'linea1\\nlinea2'` #windows"
   ]
  },
  {
   "cell_type": "markdown",
   "metadata": {},
   "source": [
    "- Abrir el explorador de archivos\n",
    "- `open .`: en MacOS; donde el punto significa \"ESTA\" ubicación\n",
    "- `start .`: en Windows"
   ]
  },
  {
   "cell_type": "markdown",
   "metadata": {},
   "source": [
    "### Vista previa de archivos"
   ]
  },
  {
   "cell_type": "markdown",
   "metadata": {},
   "source": [
    "`cat`: muestra el contenido del archivo"
   ]
  },
  {
   "cell_type": "markdown",
   "metadata": {},
   "source": [
    "`head`: muestra el comienzo del archivo"
   ]
  },
  {
   "cell_type": "markdown",
   "metadata": {},
   "source": [
    "`tail`: muestra el final del archivo"
   ]
  },
  {
   "cell_type": "markdown",
   "metadata": {},
   "source": [
    "`wc`: cuenta líneas/palabras/caracteres"
   ]
  },
  {
   "cell_type": "markdown",
   "metadata": {},
   "source": [
    "### Edición de archivos"
   ]
  },
  {
   "cell_type": "code",
   "execution_count": null,
   "metadata": {},
   "outputs": [],
   "source": []
  },
  {
   "cell_type": "markdown",
   "metadata": {},
   "source": [
    "Otra forma de editar archivos es mediante el editor \"nano\". Aquí se incluyen algunos comandos [commands](https://www.nano-editor.org/dist/latest/cheatsheet.html)."
   ]
  },
  {
   "cell_type": "markdown",
   "metadata": {},
   "source": [
    "`nano`: edita el contenido del archivo y luego \n",
    "--> Ctrl + x: sale del editor"
   ]
  },
  {
   "cell_type": "code",
   "execution_count": 1,
   "metadata": {},
   "outputs": [
    {
     "data": {
      "text/plain": [
       "'\\n: -> q\\ndquote > ctrl + c\\nnano editor -> ctrl + x\\n'"
      ]
     },
     "execution_count": 1,
     "metadata": {},
     "output_type": "execute_result"
    }
   ],
   "source": [
    "\"\"\"\n",
    ": -> q\n",
    "dquote > ctrl + c\n",
    "nano editor -> ctrl + x\n",
    "\"\"\""
   ]
  },
  {
   "cell_type": "markdown",
   "metadata": {},
   "source": [
    "`mv`: mueve el archivo\n",
    "\n",
    "`ubicación del archivo mv`"
   ]
  },
  {
   "cell_type": "markdown",
   "metadata": {},
   "source": [
    "`cp`: copia el archivo"
   ]
  },
  {
   "cell_type": "markdown",
   "metadata": {},
   "source": [
    "`rm`: elimina el archivo"
   ]
  },
  {
   "cell_type": "markdown",
   "metadata": {},
   "source": [
    "`rm -r`: elimina el directorio"
   ]
  },
  {
   "cell_type": "markdown",
   "metadata": {
    "lang": "en"
   },
   "source": [
    "`find`: buscar archivos <br>\n",
    "El comando find tiene muchas opciones y parámetros...[ver aquí](https://www.diskinternals.com/linux-reader/bash-find-command/)\n",
    "\n",
    "```bash\n",
    "find . -name hello.txt\n",
    "```"
   ]
  },
  {
   "cell_type": "markdown",
   "metadata": {},
   "source": [
    "`grep`: buscar en el texto\n",
    "\n",
    "```bash\n",
    "grep \"hey\" hola.txt\n",
    "```"
   ]
  },
  {
   "cell_type": "markdown",
   "metadata": {},
   "source": [
    "[Comandos Grep](https://docs.oracle.com/cd/E19253-01/806-7612/filesearch-96061/index.html)"
   ]
  },
  {
   "cell_type": "markdown",
   "metadata": {},
   "source": [
    "`|`: pipeline (cuidado con copiar y pegar este símbolo)\n",
    "\n",
    "# cat ../hello.txt | grep h\n",
    "\n",
    "```bash\n",
    "ls | wc -l\n",
    "````\n",
    "\n",
    "```bash\n",
    "cat hello.txt | grep h\n",
    "```"
   ]
  },
  {
   "cell_type": "code",
   "execution_count": 2,
   "metadata": {},
   "outputs": [
    {
     "data": {
      "text/plain": [
       "'\\n& AND\\n| OR \\n| -> opción 1\\n#\\xa0concatenación de procesos donde \\n#\\xa0\\n'"
      ]
     },
     "execution_count": 2,
     "metadata": {},
     "output_type": "execute_result"
    }
   ],
   "source": [
    "\"\"\"\n",
    "& AND\n",
    "| OR \n",
    "| -> opción 1\n",
    "# concatenación de procesos donde \n",
    "# \n",
    "\"\"\""
   ]
  },
  {
   "cell_type": "markdown",
   "metadata": {},
   "source": [
    "`history`: muestra el historial de comandos ejecutados"
   ]
  },
  {
   "cell_type": "markdown",
   "metadata": {
    "lang": "en"
   },
   "source": [
    "- `top` y `htop`: muestran el uso de RAM y CPU\n",
    "- `tasklist`: lo mismo para Windows"
   ]
  },
  {
   "cell_type": "markdown",
   "metadata": {},
   "source": [
    "`Ctrl+R`: para buscar comandos anteriores"
   ]
  },
  {
   "cell_type": "code",
   "execution_count": 3,
   "metadata": {},
   "outputs": [],
   "source": [
    "# find . -name '*.txt' -type f -exec cat {} + | wc -l\n",
    "# https://unix.stackexchange.com/questions/651035/how-to-count-total-number-of-lines-of-all-txt-files\n",
    "\n",
    "# devuelve 1"
   ]
  },
  {
   "cell_type": "markdown",
   "metadata": {},
   "source": [
    "### Alias"
   ]
  },
  {
   "cell_type": "markdown",
   "metadata": {},
   "source": [
    "#### En macOS\n",
    "```bash\n",
    "# en tu .bash_profile o .zshrc en tu raíz\n",
    "cd \n",
    "ls -a\n",
    "\n",
    "\n",
    "alias new_name=\"command\"\n",
    "```"
   ]
  },
  {
   "cell_type": "markdown",
   "metadata": {},
   "source": [
    "```bash\n",
    "alias k=\"clear\"\n",
    "```"
   ]
  },
  {
   "cell_type": "code",
   "execution_count": 5,
   "metadata": {},
   "outputs": [],
   "source": [
    "#alias musica=\"open https://www.google.es/\""
   ]
  },
  {
   "cell_type": "markdown",
   "metadata": {},
   "source": [
    "#### En Windows\n",
    "\n",
    "0. En la raíz:\n",
    "1. `touch .bash_profile`\n",
    "2. Quizás: `source ~/.bash_profile` - puede ser opcional\n",
    "3. Edite el archivo y agregue un alias: `alias k='clear`\"\n",
    "4. Guarde, salga y reinicie git-bash"
   ]
  },
  {
   "cell_type": "markdown",
   "metadata": {},
   "source": [
    "### Scripting"
   ]
  },
  {
   "cell_type": "markdown",
   "metadata": {},
   "source": [
    "`age=31`: crea una variable"
   ]
  },
  {
   "cell_type": "markdown",
   "metadata": {},
   "source": [
    "`$age`: accede a la variable"
   ]
  },
  {
   "cell_type": "markdown",
   "metadata": {},
   "source": [
    "`echo $age`: imprimiendo el valor"
   ]
  },
  {
   "cell_type": "code",
   "execution_count": null,
   "metadata": {},
   "outputs": [],
   "source": [
    "# sudo -> super user do"
   ]
  },
  {
   "cell_type": "code",
   "execution_count": null,
   "metadata": {},
   "outputs": [],
   "source": [
    "# acceder al achivo: ruta absoluta\n",
    "# echo \"alias = palabraclave='clear'\" >> ~/.bash_profile\n",
    "# echo \"alias = k='clear'\" >> ~/.zshrc\n",
    "# echo \"alias = k='clear'\" >> ~/.bash_profile"
   ]
  },
  {
   "cell_type": "code",
   "execution_count": 4,
   "metadata": {},
   "outputs": [
    {
     "name": "stdout",
     "output_type": "stream",
     "text": [
      "1.2.1 - Intro Python.ipynb 1.3.1 - Bash.ipynb\n"
     ]
    }
   ],
   "source": [
    "!ls"
   ]
  },
  {
   "cell_type": "code",
   "execution_count": 8,
   "metadata": {},
   "outputs": [],
   "source": [
    "import os\n",
    "def download_and_update():\n",
    "    os.system(\"mkdir test; cd test; touch main.py; echo 'hola' > main.py\")"
   ]
  },
  {
   "cell_type": "code",
   "execution_count": 12,
   "metadata": {},
   "outputs": [
    {
     "name": "stderr",
     "output_type": "stream",
     "text": [
      "bash: aut.sh: No such file or directory\n"
     ]
    },
    {
     "data": {
      "text/plain": [
       "32512"
      ]
     },
     "execution_count": 12,
     "metadata": {},
     "output_type": "execute_result"
    }
   ],
   "source": [
    "os.system(\"bash aut.sh\")"
   ]
  },
  {
   "cell_type": "code",
   "execution_count": 9,
   "metadata": {},
   "outputs": [],
   "source": [
    "download_and_update()"
   ]
  },
  {
   "cell_type": "code",
   "execution_count": 11,
   "metadata": {},
   "outputs": [
    {
     "name": "stdout",
     "output_type": "stream",
     "text": [
      "main.py\n"
     ]
    }
   ],
   "source": [
    "! ls test"
   ]
  },
  {
   "cell_type": "code",
   "execution_count": null,
   "metadata": {},
   "outputs": [],
   "source": [
    "# Descarga de un csv de github (en format raw ) -> curl www.raw.githubuser.... \n",
    "# curl > archivo_donde_guardarlo.csv\n",
    "# mkdir carpeta nueva\n",
    "# cd carpeta_nueva\n",
    "# cp ../archivo archivo_nuevo.csv\n",
    "# "
   ]
  },
  {
   "cell_type": "markdown",
   "metadata": {},
   "source": [
    "```bash\n",
    "curl https://gist.githubusercontent.com/RobVanGroenewoud/ba89ad7684df8cefe5c183adb498cc65/raw/f2eec6d2cb89f5d779e16b28ed0dab89d738ba96/sample.csv > ejemplo.csv\n",
    "mkdir data2\n",
    "cd data2\n",
    "mv ../ejemplo.csv ejemplo.csv\n",
    "cat ejemplo.csv\n",
    "open ejemplo.csv\n",
    "```"
   ]
  },
  {
   "cell_type": "markdown",
   "metadata": {},
   "source": [
    "### Lógica"
   ]
  },
  {
   "cell_type": "markdown",
   "metadata": {
    "lang": "en"
   },
   "source": [
    "Los alias son atajos para comandos frecuentes:\n",
    "\n",
    "Hay un archivo `.bashrc` o `.zshrc` en tu directorio raíz. Encuéntralo y agrega un comando de alias:\n",
    "`alias jn=\"jupyter notebook\"`\n",
    "**Es necesario reiniciar la terminal**"
   ]
  },
  {
   "cell_type": "markdown",
   "metadata": {
    "lang": "en"
   },
   "source": [
    "### Bucles, condicionales y funciones"
   ]
  },
  {
   "cell_type": "markdown",
   "metadata": {},
   "source": [
    "#### for"
   ]
  },
  {
   "cell_type": "markdown",
   "metadata": {},
   "source": [
    "```bash\n",
    "for i en 1 2 3\n",
    "do\n",
    "echo $i\n",
    "do\n",
    "```"
   ]
  },
  {
   "cell_type": "markdown",
   "metadata": {},
   "source": [
    "#### inicio-parada-paso"
   ]
  },
  {
   "cell_type": "markdown",
   "metadata": {},
   "source": [
    "```bash\n",
    "for i in {0..10..2}\n",
    "do\n",
    "echo $i\n",
    "done\n",
    "```"
   ]
  },
  {
   "cell_type": "markdown",
   "metadata": {},
   "source": [
    "#### bucle infinito"
   ]
  },
  {
   "cell_type": "markdown",
   "metadata": {},
   "source": [
    "```bash\n",
    "for (( ; ; ))\n",
    "do\n",
    "echo 1\n",
    "done\n",
    "```"
   ]
  },
  {
   "cell_type": "markdown",
   "metadata": {},
   "source": [
    "`ctrl + c`: detiene el proceso en ejecución"
   ]
  },
  {
   "cell_type": "markdown",
   "metadata": {},
   "source": [
    "#### while"
   ]
  },
  {
   "cell_type": "markdown",
   "metadata": {},
   "source": [
    "```bash\n",
    "edad=2\n",
    "while [ $edad -le 10 ]\n",
    "do\n",
    "edad=$(($edad + 1))\n",
    "echo $edad\n",
    "hecho\n",
    "```"
   ]
  },
  {
   "cell_type": "markdown",
   "metadata": {},
   "source": [
    "#### Condicional"
   ]
  },
  {
   "cell_type": "markdown",
   "metadata": {},
   "source": [
    "```bash\n",
    "number=10\n",
    "if [ $number -le 13 ]\n",
    "then\n",
    "echo \"hola\"\n",
    "else\n",
    "echo \"algo más\"\n",
    "fi\n",
    "```"
   ]
  },
  {
   "cell_type": "markdown",
   "metadata": {},
   "source": [
    "#### función"
   ]
  },
  {
   "cell_type": "code",
   "execution_count": null,
   "metadata": {},
   "outputs": [],
   "source": []
  },
  {
   "cell_type": "markdown",
   "metadata": {},
   "source": [
    "```bash\n",
    "function la_funcion () {\n",
    "echo '¡Hola, estoy dentro de la función!'\n",
    "}\n",
    "la_funcion\n",
    "```"
   ]
  },
  {
   "cell_type": "markdown",
   "metadata": {},
   "source": [
    "### Scripts de bash"
   ]
  },
  {
   "cell_type": "markdown",
   "metadata": {},
   "source": [
    "- Crea un archivo con formato `.sh`\n",
    "- Para ejecutar ese archivo: `bash my_script.sh`"
   ]
  },
  {
   "cell_type": "markdown",
   "metadata": {},
   "source": [
    "1. Crea una carpeta que se llame data\n",
    "2. Entra en esa carpeta\n",
    "3. Utilizando curl, descarga el csv de este enlace: `https://raw.githubusercontent.com/plotly/datasets/refs/heads/master/data.csv`\n",
    "4. Crea otra carpeta llamada data_2\n",
    "5. Haz una copia el archivo como `data_descargado.csv` en data_2\n",
    "6. Borra el archivo original\n",
    "5. Abre el archivo de data_2\n",
    "6. Imprime un mensaje de feedback como \"archivo descargado\"\n",
    "7. Guarda y ejecuta este script\n",
    "8. Ejecútalo\n",
    "9. EXTRA: pasa argumentos al archivo. El argumento será el mensaje del punto 6"
   ]
  },
  {
   "cell_type": "code",
   "execution_count": 4,
   "metadata": {},
   "outputs": [],
   "source": [
    "# Es posible que bash no permita ejecutar el script\n",
    "# prueba chmod +x my_script.sh"
   ]
  },
  {
   "cell_type": "markdown",
   "metadata": {
    "lang": "en"
   },
   "source": [
    "### RESUMEN\n",
    "Es tu turno. ¿Qué hemos aprendido en esta clase?"
   ]
  },
  {
   "cell_type": "code",
   "execution_count": null,
   "metadata": {},
   "outputs": [],
   "source": []
  },
  {
   "cell_type": "markdown",
   "metadata": {
    "lang": "en"
   },
   "source": [
    "#### Referencias"
   ]
  },
  {
   "cell_type": "markdown",
   "metadata": {},
   "source": [
    "**Manual:**\n",
    "\n",
    "https://www.gnu.org/savannah-checkouts/gnu/bash/manual/bash.html"
   ]
  },
  {
   "cell_type": "markdown",
   "metadata": {},
   "source": [
    "**Hojas de trucos:**\n",
    "\n",
    "[Bash](https://devhints.io/bash)"
   ]
  },
  {
   "cell_type": "markdown",
   "metadata": {
    "lang": "en"
   },
   "source": [
    "### Juegos en bash:\n",
    "\n",
    "[Terminus - Aventura gráfica](https://web.mit.edu/mprat/Public/web/Terminus/Web/main.html)\n",
    "\n",
    "[The Command Line Murders](https://github.com/veltman/clmystery)"
   ]
  }
 ],
 "metadata": {
  "finalized": {
   "timestamp": 1619446289233,
   "trusted": true
  },
  "kernelspec": {
   "display_name": "Python 3 (ipykernel)",
   "language": "python",
   "name": "python3"
  },
  "language_info": {
   "codemirror_mode": {
    "name": "ipython",
    "version": 3
   },
   "file_extension": ".py",
   "mimetype": "text/x-python",
   "name": "python",
   "nbconvert_exporter": "python",
   "pygments_lexer": "ipython3",
   "version": "3.9.24"
  },
  "nbTranslate": {
   "displayLangs": [],
   "hotkey": "alt-t",
   "langInMainMenu": true,
   "sourceLang": "es",
   "targetLang": "en",
   "useGoogleTranslate": true
  },
  "toc": {
   "base_numbering": 1,
   "nav_menu": {},
   "number_sections": true,
   "sideBar": true,
   "skip_h1_title": true,
   "title_cell": "Table of Contents",
   "title_sidebar": "Contents",
   "toc_cell": true,
   "toc_position": {
    "height": "calc(100% - 180px)",
    "left": "10px",
    "top": "150px",
    "width": "196px"
   },
   "toc_section_display": true,
   "toc_window_display": false
  },
  "varInspector": {
   "cols": {
    "lenName": 16,
    "lenType": 16,
    "lenVar": 40
   },
   "kernels_config": {
    "python": {
     "delete_cmd_postfix": "",
     "delete_cmd_prefix": "del ",
     "library": "var_list.py",
     "varRefreshCmd": "print(var_dic_list())"
    },
    "r": {
     "delete_cmd_postfix": ") ",
     "delete_cmd_prefix": "rm(",
     "library": "var_list.r",
     "varRefreshCmd": "cat(var_dic_list()) "
    }
   },
   "types_to_exclude": [
    "module",
    "function",
    "builtin_function_or_method",
    "instance",
    "_Feature"
   ],
   "window_display": false
  }
 },
 "nbformat": 4,
 "nbformat_minor": 4
}
