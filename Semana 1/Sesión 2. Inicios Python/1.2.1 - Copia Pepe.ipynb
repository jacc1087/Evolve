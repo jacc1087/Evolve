{
 "cells": [
  {
   "cell_type": "markdown",
   "metadata": {},
   "source": [
    "# Introducción a Python"
   ]
  },
  {
   "cell_type": "markdown",
   "metadata": {
    "lang": "en"
   },
   "source": [
    "## Tipos de celdas en Jupyter Notebook"
   ]
  },
  {
   "cell_type": "markdown",
   "metadata": {},
   "source": [
    "## Markdown\n",
    "- Headers\n",
    "- Subheaders\n",
    "- Bold / negrita\n",
    "- Listas\n",
    "- Listas numeradas\n",
    "- Link\n",
    "- Imágenes\n",
    "- Citas\n",
    "- Código en línea\n",
    "- [Tablas](https://www.tablesgenerator.com/markdown_tables)\n",
    "- Ecuaciones en línea \n",
    "- Bloques de ecuaciones"
   ]
  },
  {
   "cell_type": "markdown",
   "metadata": {},
   "source": [
    "Hola"
   ]
  },
  {
   "cell_type": "markdown",
   "metadata": {},
   "source": [
    "# Título"
   ]
  },
  {
   "cell_type": "markdown",
   "metadata": {},
   "source": [
    "## Subtítulo 1"
   ]
  },
  {
   "cell_type": "markdown",
   "metadata": {},
   "source": [
    "### Subtítulo 2"
   ]
  },
  {
   "cell_type": "markdown",
   "metadata": {},
   "source": [
    "#### Subtítulo 3"
   ]
  },
  {
   "cell_type": "markdown",
   "metadata": {},
   "source": [
    "**Texto en negrita**"
   ]
  },
  {
   "cell_type": "markdown",
   "metadata": {},
   "source": [
    "***Texto en cursiva***"
   ]
  },
  {
   "cell_type": "markdown",
   "metadata": {},
   "source": [
    "Cosas que se pueden hacer en markdown\n",
    "- Elemento 1\n",
    "- Elemento 2\n",
    "- Elemento 3"
   ]
  },
  {
   "cell_type": "markdown",
   "metadata": {},
   "source": [
    "Lista numerada\n",
    "1. Elemento 1\n",
    "2. Elemento 2\n",
    "3. Elemento 3"
   ]
  },
  {
   "cell_type": "markdown",
   "metadata": {},
   "source": [
    "[Documentación de ML](https://scikit-learn.org/stable/unsupervised_learning.html)"
   ]
  },
  {
   "cell_type": "markdown",
   "metadata": {},
   "source": [
    "![Space cat](https://m.media-amazon.com/images/I/71-4jKZCKVL._AC_SY879_.jpg)"
   ]
  },
  {
   "cell_type": "markdown",
   "metadata": {},
   "source": [
    "Esto es un ejemplo de código: `print(\"Hello world\")`"
   ]
  },
  {
   "cell_type": "code",
   "execution_count": 1,
   "metadata": {},
   "outputs": [
    {
     "name": "stdout",
     "output_type": "stream",
     "text": [
      "Hola mundo\n"
     ]
    }
   ],
   "source": [
    "print(\"Hola mundo\")"
   ]
  },
  {
   "cell_type": "markdown",
   "metadata": {},
   "source": [
    "```sql\n",
    "SELECT * FROM mi_tabla;\n",
    "```"
   ]
  },
  {
   "cell_type": "markdown",
   "metadata": {},
   "source": [
    "```python\n",
    "SELECT * FROM mi_tabla;\n",
    "```"
   ]
  },
  {
   "cell_type": "markdown",
   "metadata": {},
   "source": [
    "```bash\n",
    "ls\n",
    "```"
   ]
  },
  {
   "cell_type": "markdown",
   "metadata": {},
   "source": [
    "| a   | b     | c    | d | e |\n",
    "|-----|-------|------|---|---|\n",
    "| aaa | aaaaa | aaaa |   |   |\n",
    "|     |       |      |   |   |\n",
    "|     |       |      |   |   |"
   ]
  },
  {
   "cell_type": "markdown",
   "metadata": {},
   "source": [
    "[Generador de tablas markdown](https://www.tablesgenerator.com/markdown_tables)"
   ]
  },
  {
   "cell_type": "markdown",
   "metadata": {},
   "source": [
    "$E = mc^2$"
   ]
  },
  {
   "cell_type": "markdown",
   "metadata": {},
   "source": [
    "## Código"
   ]
  },
  {
   "cell_type": "markdown",
   "metadata": {},
   "source": [
    "- Código python\n",
    "  - Comentarios en python\n",
    "- Comandos de terminal\n",
    "  - pwd\n",
    "  - open .\n",
    "  - ls ."
   ]
  },
  {
   "cell_type": "code",
   "execution_count": 5,
   "metadata": {},
   "outputs": [],
   "source": [
    "!open https://www.tablesgenerator.com/markdown_tables"
   ]
  },
  {
   "cell_type": "markdown",
   "metadata": {},
   "source": [
    "### Atajos"
   ]
  },
  {
   "cell_type": "markdown",
   "metadata": {},
   "source": [
    "Para ejecutar la celda\n",
    "\n",
    "- `ctrl + enter`\n",
    "- `shift + enter` #esta ejecuta la celda y salta a la siguiente"
   ]
  },
  {
   "cell_type": "markdown",
   "metadata": {},
   "source": [
    "- `a` para la nueva celda de arriba\n",
    "- `b` para la nueva celda de abajo\n",
    "- `d + d para el modo de acceso directo\n",
    "  \n",
    "- `m` o `y` para cambiar entre markdwon y código"
   ]
  },
  {
   "cell_type": "markdown",
   "metadata": {},
   "source": [
    "b -> below\n",
    "a -> above\n"
   ]
  },
  {
   "cell_type": "markdown",
   "metadata": {},
   "source": [
    "## Ejecución\n",
    "- Play\n",
    "- Kernel"
   ]
  },
  {
   "cell_type": "code",
   "execution_count": 6,
   "metadata": {},
   "outputs": [],
   "source": [
    "num = 18"
   ]
  },
  {
   "cell_type": "code",
   "execution_count": 7,
   "metadata": {},
   "outputs": [
    {
     "name": "stdout",
     "output_type": "stream",
     "text": [
      "18\n"
     ]
    }
   ],
   "source": [
    "print(num)"
   ]
  },
  {
   "cell_type": "markdown",
   "metadata": {},
   "source": [
    "# The Zen of Python"
   ]
  },
  {
   "cell_type": "markdown",
   "metadata": {},
   "source": [
    "- [PEP-20](https://peps.python.org/pep-0020/), The Zen of Python\n",
    "- [PEP-8](https://peps.python.org/pep-0008/), Estilo de código\n",
    "- [PEP-257](https://peps.python.org/pep-0257/), Docstring\n",
    "- [PEP-484](https://peps.python.org/pep-0484/), Anotaciones de tipado"
   ]
  },
  {
   "cell_type": "code",
   "execution_count": 8,
   "metadata": {},
   "outputs": [
    {
     "name": "stdout",
     "output_type": "stream",
     "text": [
      "The Zen of Python, by Tim Peters\n",
      "\n",
      "Beautiful is better than ugly.\n",
      "Explicit is better than implicit.\n",
      "Simple is better than complex.\n",
      "Complex is better than complicated.\n",
      "Flat is better than nested.\n",
      "Sparse is better than dense.\n",
      "Readability counts.\n",
      "Special cases aren't special enough to break the rules.\n",
      "Although practicality beats purity.\n",
      "Errors should never pass silently.\n",
      "Unless explicitly silenced.\n",
      "In the face of ambiguity, refuse the temptation to guess.\n",
      "There should be one-- and preferably only one --obvious way to do it.\n",
      "Although that way may not be obvious at first unless you're Dutch.\n",
      "Now is better than never.\n",
      "Although never is often better than *right* now.\n",
      "If the implementation is hard to explain, it's a bad idea.\n",
      "If the implementation is easy to explain, it may be a good idea.\n",
      "Namespaces are one honking great idea -- let's do more of those!\n"
     ]
    }
   ],
   "source": [
    "import this"
   ]
  },
  {
   "cell_type": "markdown",
   "metadata": {},
   "source": [
    "# Python, código y IDE"
   ]
  },
  {
   "cell_type": "markdown",
   "metadata": {},
   "source": [
    "- Jupyter notebooks\n",
    "- Archivos python\n",
    "- VSCode"
   ]
  },
  {
   "cell_type": "code",
   "execution_count": 9,
   "metadata": {},
   "outputs": [],
   "source": [
    "!touch main.py # esto crea un archivo "
   ]
  },
  {
   "cell_type": "code",
   "execution_count": 10,
   "metadata": {},
   "outputs": [
    {
     "data": {
      "text/html": [
       "<div>\n",
       "<style scoped>\n",
       "    .dataframe tbody tr th:only-of-type {\n",
       "        vertical-align: middle;\n",
       "    }\n",
       "\n",
       "    .dataframe tbody tr th {\n",
       "        vertical-align: top;\n",
       "    }\n",
       "\n",
       "    .dataframe thead th {\n",
       "        text-align: right;\n",
       "    }\n",
       "</style>\n",
       "<table border=\"1\" class=\"dataframe\">\n",
       "  <thead>\n",
       "    <tr style=\"text-align: right;\">\n",
       "      <th></th>\n",
       "      <th>Nombre</th>\n",
       "      <th>Ciudad</th>\n",
       "      <th>Experiencia</th>\n",
       "      <th>Profesión</th>\n",
       "      <th>Hobby</th>\n",
       "    </tr>\n",
       "  </thead>\n",
       "  <tbody>\n",
       "    <tr>\n",
       "      <th>0</th>\n",
       "      <td>Manuel Peña</td>\n",
       "      <td>Jaén</td>\n",
       "      <td>Conocimiento en IA/Big data. Herramientas nuevas</td>\n",
       "      <td>Kryndil (IBM). Virtualización</td>\n",
       "      <td>Andar</td>\n",
       "    </tr>\n",
       "    <tr>\n",
       "      <th>1</th>\n",
       "      <td>Luis (Servando)</td>\n",
       "      <td>Málaga</td>\n",
       "      <td>Estadística/economía</td>\n",
       "      <td>Banca</td>\n",
       "      <td>Póker</td>\n",
       "    </tr>\n",
       "    <tr>\n",
       "      <th>2</th>\n",
       "      <td>Óscar Fernández</td>\n",
       "      <td>Cuenca</td>\n",
       "      <td>Grado desarrollo apps</td>\n",
       "      <td>Hostelería</td>\n",
       "      <td>Música, deporte</td>\n",
       "    </tr>\n",
       "    <tr>\n",
       "      <th>3</th>\n",
       "      <td>Albert Ripoll</td>\n",
       "      <td>Teià</td>\n",
       "      <td>Máster big data, Bootcamp DA</td>\n",
       "      <td>Graduado en física</td>\n",
       "      <td>Senderismo, baloncesto</td>\n",
       "    </tr>\n",
       "    <tr>\n",
       "      <th>4</th>\n",
       "      <td>Pablo Padial</td>\n",
       "      <td>Madrid</td>\n",
       "      <td>Ingeniería</td>\n",
       "      <td>Estudiante</td>\n",
       "      <td>Deporte, fútbol, tenis</td>\n",
       "    </tr>\n",
       "    <tr>\n",
       "      <th>5</th>\n",
       "      <td>Adrián Rodríguez</td>\n",
       "      <td>Sevilla</td>\n",
       "      <td>Sin experiencia en programación</td>\n",
       "      <td>Hostelería/discotecas</td>\n",
       "      <td>Gym 💪</td>\n",
       "    </tr>\n",
       "    <tr>\n",
       "      <th>6</th>\n",
       "      <td>Enric Peñalver</td>\n",
       "      <td>Vilafranca del penedès</td>\n",
       "      <td>Ingeniería en matemática y física</td>\n",
       "      <td>Estudiante</td>\n",
       "      <td>Correr y calistenia</td>\n",
       "    </tr>\n",
       "    <tr>\n",
       "      <th>7</th>\n",
       "      <td>David Gómez</td>\n",
       "      <td>Cuenca</td>\n",
       "      <td>Ingeniero industrial</td>\n",
       "      <td>Ingeniero de procesos</td>\n",
       "      <td>Impresión 3D y pádel</td>\n",
       "    </tr>\n",
       "    <tr>\n",
       "      <th>8</th>\n",
       "      <td>Carlos Barrientos</td>\n",
       "      <td>Madrid</td>\n",
       "      <td>Grado superior finanzas y DAMP</td>\n",
       "      <td>Admon</td>\n",
       "      <td>Fútbol, piloto drones</td>\n",
       "    </tr>\n",
       "    <tr>\n",
       "      <th>9</th>\n",
       "      <td>Vicmary Martínez</td>\n",
       "      <td>Venezuela/Madrid</td>\n",
       "      <td>Ing. procesos/química. CRM. Bases de datos, Po...</td>\n",
       "      <td>Grabadora de datos. Dynamic 365</td>\n",
       "      <td>Salsa</td>\n",
       "    </tr>\n",
       "    <tr>\n",
       "      <th>10</th>\n",
       "      <td>Pial Islam</td>\n",
       "      <td>Bangladesh/Barcelona</td>\n",
       "      <td>Graduado en informática</td>\n",
       "      <td>Estudiante/buscando trabajo</td>\n",
       "      <td>Senderismo</td>\n",
       "    </tr>\n",
       "  </tbody>\n",
       "</table>\n",
       "</div>"
      ],
      "text/plain": [
       "               Nombre                  Ciudad  \\\n",
       "0         Manuel Peña                    Jaén   \n",
       "1     Luis (Servando)                  Málaga   \n",
       "2     Óscar Fernández                  Cuenca   \n",
       "3       Albert Ripoll                    Teià   \n",
       "4        Pablo Padial                  Madrid   \n",
       "5    Adrián Rodríguez                 Sevilla   \n",
       "6      Enric Peñalver  Vilafranca del penedès   \n",
       "7         David Gómez                  Cuenca   \n",
       "8   Carlos Barrientos                  Madrid   \n",
       "9    Vicmary Martínez        Venezuela/Madrid   \n",
       "10         Pial Islam    Bangladesh/Barcelona   \n",
       "\n",
       "                                          Experiencia  \\\n",
       "0    Conocimiento en IA/Big data. Herramientas nuevas   \n",
       "1                                Estadística/economía   \n",
       "2                               Grado desarrollo apps   \n",
       "3                        Máster big data, Bootcamp DA   \n",
       "4                                          Ingeniería   \n",
       "5                     Sin experiencia en programación   \n",
       "6                   Ingeniería en matemática y física   \n",
       "7                                Ingeniero industrial   \n",
       "8                      Grado superior finanzas y DAMP   \n",
       "9   Ing. procesos/química. CRM. Bases de datos, Po...   \n",
       "10                            Graduado en informática   \n",
       "\n",
       "                          Profesión                   Hobby  \n",
       "0     Kryndil (IBM). Virtualización                   Andar  \n",
       "1                             Banca                   Póker  \n",
       "2                        Hostelería         Música, deporte  \n",
       "3                Graduado en física  Senderismo, baloncesto  \n",
       "4                        Estudiante  Deporte, fútbol, tenis  \n",
       "5             Hostelería/discotecas                   Gym 💪  \n",
       "6                        Estudiante     Correr y calistenia  \n",
       "7             Ingeniero de procesos    Impresión 3D y pádel  \n",
       "8                             Admon   Fútbol, piloto drones  \n",
       "9   Grabadora de datos. Dynamic 365                   Salsa  \n",
       "10      Estudiante/buscando trabajo              Senderismo  "
      ]
     },
     "execution_count": 10,
     "metadata": {},
     "output_type": "execute_result"
    }
   ],
   "source": [
    "import pandas as pd\n",
    "\n",
    "alumnos = [{\n",
    "    \"Nombre\": \"Manuel Peña\",\n",
    "    \"Ciudad\": \"Jaén\",\n",
    "    \"Experiencia\": \"Conocimiento en IA/Big data. Herramientas nuevas\",\n",
    "    \"Profesión\": \"Kryndil (IBM). Virtualización\",\n",
    "    \"Hobby\": \"Andar\"\n",
    "},\n",
    "{\n",
    "    \"Nombre\": \"Luis (Servando)\",\n",
    "    \"Ciudad\": \"Málaga\",\n",
    "    \"Experiencia\": \"Estadística/economía\",\n",
    "    \"Profesión\": \"Banca\",\n",
    "    \"Hobby\": \"Póker\"\n",
    "},\n",
    "{\n",
    "    \"Nombre\": \"Óscar Fernández\",\n",
    "    \"Ciudad\": \"Cuenca\",\n",
    "    \"Experiencia\": \"Grado desarrollo apps\",\n",
    "    \"Profesión\": \"Hostelería\",\n",
    "    \"Hobby\": \"Música, deporte\"\n",
    "},\n",
    "{\n",
    "    \"Nombre\": \"Albert Ripoll\",\n",
    "    \"Ciudad\": \"Teià\",\n",
    "    \"Experiencia\": \"Máster big data, Bootcamp DA\",\n",
    "    \"Profesión\": \"Graduado en física\",\n",
    "    \"Hobby\": \"Senderismo, baloncesto\"\n",
    "},\n",
    "{\n",
    "    \"Nombre\": \"Pablo Padial\",\n",
    "    \"Ciudad\": \"Madrid\",\n",
    "    \"Experiencia\": \"Ingeniería\",\n",
    "    \"Profesión\": \"Estudiante\",\n",
    "    \"Hobby\": \"Deporte, fútbol, tenis\"\n",
    "},\n",
    "{\n",
    "    \"Nombre\": \"Adrián Rodríguez\",\n",
    "    \"Ciudad\": \"Sevilla\",\n",
    "    \"Experiencia\": \"Sin experiencia en programación\",\n",
    "    \"Profesión\": \"Hostelería/discotecas\",\n",
    "    \"Hobby\": \"Gym 💪\"\n",
    "},\n",
    "{\n",
    "    \"Nombre\": \"Enric Peñalver\",\n",
    "    \"Ciudad\": \"Vilafranca del penedès\",\n",
    "    \"Experiencia\": \"Ingeniería en matemática y física\",\n",
    "    \"Profesión\": \"Estudiante\",\n",
    "    \"Hobby\": \"Correr y calistenia\"\n",
    "},\n",
    "{\n",
    "    \"Nombre\": \"David Gómez\",\n",
    "    \"Ciudad\": \"Cuenca\",\n",
    "    \"Experiencia\": \"Ingeniero industrial\",\n",
    "    \"Profesión\": \"Ingeniero de procesos\",\n",
    "    \"Hobby\": \"Impresión 3D y pádel\"\n",
    "},\n",
    "{\n",
    "    \"Nombre\": \"Carlos Barrientos\",\n",
    "    \"Ciudad\": \"Madrid\",\n",
    "    \"Experiencia\": \"Grado superior finanzas y DAMP\",\n",
    "    \"Profesión\": \"Admon\",\n",
    "    \"Hobby\": \"Fútbol, piloto drones\"\n",
    "},\n",
    "{\n",
    "    \"Nombre\": \"Vicmary Martínez\",\n",
    "    \"Ciudad\": \"Venezuela/Madrid\",\n",
    "    \"Experiencia\": \"Ing. procesos/química. CRM. Bases de datos, PowerBI, Excel, XML, HTML, C++. Python con IBM\",\n",
    "    \"Profesión\": \"Grabadora de datos. Dynamic 365\",\n",
    "    \"Hobby\": \"Salsa\"\n",
    "},\n",
    "{\n",
    "    \"Nombre\": \"Pial Islam\",\n",
    "    \"Ciudad\": \"Bangladesh/Barcelona\",\n",
    "    \"Experiencia\": \"Graduado en informática\",\n",
    "    \"Profesión\": \"Estudiante/buscando trabajo\",\n",
    "    \"Hobby\": \"Senderismo\"\n",
    "}\n",
    "]\n",
    "#!pip install pandas\n",
    "df = pd.DataFrame(alumnos)\n",
    "df"
   ]
  },
  {
   "cell_type": "markdown",
   "metadata": {},
   "source": [
    "# Tipo de datos"
   ]
  },
  {
   "cell_type": "markdown",
   "metadata": {},
   "source": [
    "- int: números enteros\n",
    "- float: decimales\n",
    "- str\n",
    "- booleans: True / False"
   ]
  },
  {
   "cell_type": "markdown",
   "metadata": {
    "lang": "en"
   },
   "source": [
    "# Int"
   ]
  },
  {
   "cell_type": "code",
   "execution_count": 11,
   "metadata": {},
   "outputs": [
    {
     "data": {
      "text/plain": [
       "5"
      ]
     },
     "execution_count": 11,
     "metadata": {},
     "output_type": "execute_result"
    }
   ],
   "source": [
    "5"
   ]
  },
  {
   "cell_type": "code",
   "execution_count": 12,
   "metadata": {},
   "outputs": [],
   "source": [
    "num = 5"
   ]
  },
  {
   "cell_type": "code",
   "execution_count": 13,
   "metadata": {},
   "outputs": [
    {
     "data": {
      "text/plain": [
       "int"
      ]
     },
     "execution_count": 13,
     "metadata": {},
     "output_type": "execute_result"
    }
   ],
   "source": [
    "type(num)"
   ]
  },
  {
   "cell_type": "markdown",
   "metadata": {
    "lang": "en"
   },
   "source": [
    "## Floats"
   ]
  },
  {
   "cell_type": "code",
   "execution_count": null,
   "metadata": {},
   "outputs": [
    {
     "data": {
      "text/plain": [
       "5.09"
      ]
     },
     "execution_count": 14,
     "metadata": {},
     "output_type": "execute_result"
    }
   ],
   "source": [
    "5.09 #decimales"
   ]
  },
  {
   "cell_type": "code",
   "execution_count": 15,
   "metadata": {},
   "outputs": [
    {
     "data": {
      "text/plain": [
       "float"
      ]
     },
     "execution_count": 15,
     "metadata": {},
     "output_type": "execute_result"
    }
   ],
   "source": [
    "type(5.09)"
   ]
  },
  {
   "cell_type": "markdown",
   "metadata": {
    "lang": "en"
   },
   "source": [
    "## Operaciones básicas"
   ]
  },
  {
   "cell_type": "code",
   "execution_count": 16,
   "metadata": {},
   "outputs": [
    {
     "data": {
      "text/plain": [
       "40"
      ]
     },
     "execution_count": 16,
     "metadata": {},
     "output_type": "execute_result"
    }
   ],
   "source": [
    "a = 10\n",
    "b = 4\n",
    "\n",
    "a * b"
   ]
  },
  {
   "cell_type": "code",
   "execution_count": 17,
   "metadata": {},
   "outputs": [
    {
     "data": {
      "text/plain": [
       "14"
      ]
     },
     "execution_count": 17,
     "metadata": {},
     "output_type": "execute_result"
    }
   ],
   "source": [
    "a + b"
   ]
  },
  {
   "cell_type": "code",
   "execution_count": 18,
   "metadata": {},
   "outputs": [
    {
     "data": {
      "text/plain": [
       "6"
      ]
     },
     "execution_count": 18,
     "metadata": {},
     "output_type": "execute_result"
    }
   ],
   "source": [
    "a - b"
   ]
  },
  {
   "cell_type": "code",
   "execution_count": 19,
   "metadata": {},
   "outputs": [
    {
     "data": {
      "text/plain": [
       "2.5"
      ]
     },
     "execution_count": 19,
     "metadata": {},
     "output_type": "execute_result"
    }
   ],
   "source": [
    "a / b"
   ]
  },
  {
   "cell_type": "code",
   "execution_count": 20,
   "metadata": {},
   "outputs": [
    {
     "data": {
      "text/plain": [
       "3.3333333333333335"
      ]
     },
     "execution_count": 20,
     "metadata": {},
     "output_type": "execute_result"
    }
   ],
   "source": [
    "a = 10\n",
    "b = 3\n",
    "\n",
    "a / b"
   ]
  },
  {
   "cell_type": "markdown",
   "metadata": {},
   "source": [
    "`floor division`"
   ]
  },
  {
   "cell_type": "code",
   "execution_count": 21,
   "metadata": {},
   "outputs": [
    {
     "data": {
      "text/plain": [
       "3"
      ]
     },
     "execution_count": 21,
     "metadata": {},
     "output_type": "execute_result"
    }
   ],
   "source": [
    "a = 10\n",
    "b = 3\n",
    "\n",
    "a // b"
   ]
  },
  {
   "cell_type": "markdown",
   "metadata": {},
   "source": [
    "`modulus`"
   ]
  },
  {
   "cell_type": "code",
   "execution_count": 22,
   "metadata": {},
   "outputs": [
    {
     "data": {
      "text/plain": [
       "2"
      ]
     },
     "execution_count": 22,
     "metadata": {},
     "output_type": "execute_result"
    }
   ],
   "source": [
    "a = 17\n",
    "b = 15\n",
    "\n",
    "a % b #resto"
   ]
  },
  {
   "cell_type": "markdown",
   "metadata": {},
   "source": [
    "`exponente`"
   ]
  },
  {
   "cell_type": "code",
   "execution_count": 23,
   "metadata": {},
   "outputs": [
    {
     "data": {
      "text/plain": [
       "9"
      ]
     },
     "execution_count": 23,
     "metadata": {},
     "output_type": "execute_result"
    }
   ],
   "source": [
    "3 ** 2"
   ]
  },
  {
   "cell_type": "markdown",
   "metadata": {
    "lang": "en"
   },
   "source": [
    "## Strings"
   ]
  },
  {
   "cell_type": "markdown",
   "metadata": {},
   "source": [
    "- Comment\n",
    "- Multi-line comment\n",
    "- Break line\n",
    "- Emojis"
   ]
  },
  {
   "cell_type": "code",
   "execution_count": 24,
   "metadata": {},
   "outputs": [
    {
     "data": {
      "text/plain": [
       "'aaaaaaaaaasssasa'"
      ]
     },
     "execution_count": 24,
     "metadata": {},
     "output_type": "execute_result"
    }
   ],
   "source": [
    "\"aaaaaaaaaasssasa\""
   ]
  },
  {
   "cell_type": "code",
   "execution_count": null,
   "metadata": {},
   "outputs": [
    {
     "data": {
      "text/plain": [
       "'comillas triples para poder tener un comentario multilinea holaaa'"
      ]
     },
     "execution_count": 25,
     "metadata": {},
     "output_type": "execute_result"
    }
   ],
   "source": [
    "comentario_multi_linea = \"\"\"comillas triples para poder tener un comentario multilinea holaaa\"\"\"\n",
    "\n",
    "comentario_multi_linea"
   ]
  },
  {
   "cell_type": "code",
   "execution_count": 26,
   "metadata": {},
   "outputs": [],
   "source": [
    "# \\n: salto de línea\n",
    "# \\t: tabulador (5 espacios en blanco)"
   ]
  },
  {
   "cell_type": "code",
   "execution_count": 29,
   "metadata": {},
   "outputs": [
    {
     "name": "stdout",
     "output_type": "stream",
     "text": [
      "comillas triples\n",
      "para poder tener un comentario \t\tmultilinea    \n",
      "holaaa\n"
     ]
    }
   ],
   "source": [
    "comentario_multi_linea = \"\"\"comillas triples\n",
    "para poder tener un comentario \\t\\tmultilinea    \n",
    "holaaa\"\"\"\n",
    "\n",
    "print(comentario_multi_linea)"
   ]
  },
  {
   "cell_type": "code",
   "execution_count": 30,
   "metadata": {},
   "outputs": [],
   "source": [
    "# regex: caracteres que escapan: \\"
   ]
  },
  {
   "cell_type": "code",
   "execution_count": 31,
   "metadata": {},
   "outputs": [
    {
     "data": {
      "text/plain": [
       "str"
      ]
     },
     "execution_count": 31,
     "metadata": {},
     "output_type": "execute_result"
    }
   ],
   "source": [
    "string_vacia = \"\"\n",
    "type(string_vacia)"
   ]
  },
  {
   "cell_type": "code",
   "execution_count": 32,
   "metadata": {},
   "outputs": [
    {
     "data": {
      "text/plain": [
       "'3456ytgvbniu765r'"
      ]
     },
     "execution_count": 32,
     "metadata": {},
     "output_type": "execute_result"
    }
   ],
   "source": [
    "string_con_emoticonos= \"3456ytgvbniu765r\"\n",
    "string_con_emoticonos"
   ]
  },
  {
   "cell_type": "markdown",
   "metadata": {},
   "source": [
    "Iconos en macOS: `ctrl` + `command` + `space` ó 🌍\n",
    "\n",
    "Iconos en Windows: tecla `windows` & `.`"
   ]
  },
  {
   "cell_type": "markdown",
   "metadata": {
    "lang": "en"
   },
   "source": [
    "## Cast"
   ]
  },
  {
   "cell_type": "markdown",
   "metadata": {},
   "source": [
    "Conversión de tipado"
   ]
  },
  {
   "cell_type": "code",
   "execution_count": 33,
   "metadata": {},
   "outputs": [],
   "source": [
    "num = 5"
   ]
  },
  {
   "cell_type": "code",
   "execution_count": 34,
   "metadata": {},
   "outputs": [],
   "source": [
    "num = float(num)"
   ]
  },
  {
   "cell_type": "code",
   "execution_count": 35,
   "metadata": {},
   "outputs": [
    {
     "data": {
      "text/plain": [
       "float"
      ]
     },
     "execution_count": 35,
     "metadata": {},
     "output_type": "execute_result"
    }
   ],
   "source": [
    "type(num)"
   ]
  },
  {
   "cell_type": "code",
   "execution_count": 36,
   "metadata": {},
   "outputs": [],
   "source": [
    "# casteo = un cambio de tipo de dato\n",
    "    # de int a float\n",
    "    # pasando la función que recibe un argumento que es la variable en sí\n",
    "    # si no lo guardo en una variable (o machando la misma-num- o en otra, no se guarda)\n"
   ]
  },
  {
   "cell_type": "code",
   "execution_count": 37,
   "metadata": {},
   "outputs": [
    {
     "data": {
      "text/plain": [
       "'HOLA QUÉ TAL'"
      ]
     },
     "execution_count": 37,
     "metadata": {},
     "output_type": "execute_result"
    }
   ],
   "source": [
    "saludo = \"Hola qué tal\"\n",
    "saludo.upper() # devolviendo una COPIA de haber aplicado esta transformación al original"
   ]
  },
  {
   "cell_type": "code",
   "execution_count": 38,
   "metadata": {},
   "outputs": [
    {
     "data": {
      "text/plain": [
       "'Hola qué tal'"
      ]
     },
     "execution_count": 38,
     "metadata": {},
     "output_type": "execute_result"
    }
   ],
   "source": [
    "saludo"
   ]
  },
  {
   "cell_type": "code",
   "execution_count": 39,
   "metadata": {},
   "outputs": [
    {
     "data": {
      "text/plain": [
       "'HOLA QUÉ TAL'"
      ]
     },
     "execution_count": 39,
     "metadata": {},
     "output_type": "execute_result"
    }
   ],
   "source": [
    "saludo = \"Hola qué tal\"\n",
    "saludo = saludo.upper()\n",
    "saludo"
   ]
  },
  {
   "cell_type": "code",
   "execution_count": 40,
   "metadata": {},
   "outputs": [],
   "source": [
    "df.rename(columns={\"Hobby\":\"Afición\"}, inplace=True) # no devuelve nada (visual), seguramente se haya modificado el objeto que estoy pasando"
   ]
  },
  {
   "cell_type": "code",
   "execution_count": 41,
   "metadata": {},
   "outputs": [],
   "source": [
    "df.rename(columns={\"Nombre\":\"NOMBRE\"}, inplace=True)"
   ]
  },
  {
   "cell_type": "code",
   "execution_count": 42,
   "metadata": {},
   "outputs": [
    {
     "data": {
      "text/html": [
       "<div>\n",
       "<style scoped>\n",
       "    .dataframe tbody tr th:only-of-type {\n",
       "        vertical-align: middle;\n",
       "    }\n",
       "\n",
       "    .dataframe tbody tr th {\n",
       "        vertical-align: top;\n",
       "    }\n",
       "\n",
       "    .dataframe thead th {\n",
       "        text-align: right;\n",
       "    }\n",
       "</style>\n",
       "<table border=\"1\" class=\"dataframe\">\n",
       "  <thead>\n",
       "    <tr style=\"text-align: right;\">\n",
       "      <th></th>\n",
       "      <th>NOMBRE</th>\n",
       "      <th>Ciudad</th>\n",
       "      <th>Experiencia</th>\n",
       "      <th>Profesión</th>\n",
       "      <th>Afición</th>\n",
       "    </tr>\n",
       "  </thead>\n",
       "  <tbody>\n",
       "    <tr>\n",
       "      <th>0</th>\n",
       "      <td>Manuel Peña</td>\n",
       "      <td>Jaén</td>\n",
       "      <td>Conocimiento en IA/Big data. Herramientas nuevas</td>\n",
       "      <td>Kryndil (IBM). Virtualización</td>\n",
       "      <td>Andar</td>\n",
       "    </tr>\n",
       "    <tr>\n",
       "      <th>1</th>\n",
       "      <td>Luis (Servando)</td>\n",
       "      <td>Málaga</td>\n",
       "      <td>Estadística/economía</td>\n",
       "      <td>Banca</td>\n",
       "      <td>Póker</td>\n",
       "    </tr>\n",
       "    <tr>\n",
       "      <th>2</th>\n",
       "      <td>Óscar Fernández</td>\n",
       "      <td>Cuenca</td>\n",
       "      <td>Grado desarrollo apps</td>\n",
       "      <td>Hostelería</td>\n",
       "      <td>Música, deporte</td>\n",
       "    </tr>\n",
       "    <tr>\n",
       "      <th>3</th>\n",
       "      <td>Albert Ripoll</td>\n",
       "      <td>Teià</td>\n",
       "      <td>Máster big data, Bootcamp DA</td>\n",
       "      <td>Graduado en física</td>\n",
       "      <td>Senderismo, baloncesto</td>\n",
       "    </tr>\n",
       "    <tr>\n",
       "      <th>4</th>\n",
       "      <td>Pablo Padial</td>\n",
       "      <td>Madrid</td>\n",
       "      <td>Ingeniería</td>\n",
       "      <td>Estudiante</td>\n",
       "      <td>Deporte, fútbol, tenis</td>\n",
       "    </tr>\n",
       "    <tr>\n",
       "      <th>5</th>\n",
       "      <td>Adrián Rodríguez</td>\n",
       "      <td>Sevilla</td>\n",
       "      <td>Sin experiencia en programación</td>\n",
       "      <td>Hostelería/discotecas</td>\n",
       "      <td>Gym 💪</td>\n",
       "    </tr>\n",
       "    <tr>\n",
       "      <th>6</th>\n",
       "      <td>Enric Peñalver</td>\n",
       "      <td>Vilafranca del penedès</td>\n",
       "      <td>Ingeniería en matemática y física</td>\n",
       "      <td>Estudiante</td>\n",
       "      <td>Correr y calistenia</td>\n",
       "    </tr>\n",
       "    <tr>\n",
       "      <th>7</th>\n",
       "      <td>David Gómez</td>\n",
       "      <td>Cuenca</td>\n",
       "      <td>Ingeniero industrial</td>\n",
       "      <td>Ingeniero de procesos</td>\n",
       "      <td>Impresión 3D y pádel</td>\n",
       "    </tr>\n",
       "    <tr>\n",
       "      <th>8</th>\n",
       "      <td>Carlos Barrientos</td>\n",
       "      <td>Madrid</td>\n",
       "      <td>Grado superior finanzas y DAMP</td>\n",
       "      <td>Admon</td>\n",
       "      <td>Fútbol, piloto drones</td>\n",
       "    </tr>\n",
       "    <tr>\n",
       "      <th>9</th>\n",
       "      <td>Vicmary Martínez</td>\n",
       "      <td>Venezuela/Madrid</td>\n",
       "      <td>Ing. procesos/química. CRM. Bases de datos, Po...</td>\n",
       "      <td>Grabadora de datos. Dynamic 365</td>\n",
       "      <td>Salsa</td>\n",
       "    </tr>\n",
       "    <tr>\n",
       "      <th>10</th>\n",
       "      <td>Pial Islam</td>\n",
       "      <td>Bangladesh/Barcelona</td>\n",
       "      <td>Graduado en informática</td>\n",
       "      <td>Estudiante/buscando trabajo</td>\n",
       "      <td>Senderismo</td>\n",
       "    </tr>\n",
       "  </tbody>\n",
       "</table>\n",
       "</div>"
      ],
      "text/plain": [
       "               NOMBRE                  Ciudad  \\\n",
       "0         Manuel Peña                    Jaén   \n",
       "1     Luis (Servando)                  Málaga   \n",
       "2     Óscar Fernández                  Cuenca   \n",
       "3       Albert Ripoll                    Teià   \n",
       "4        Pablo Padial                  Madrid   \n",
       "5    Adrián Rodríguez                 Sevilla   \n",
       "6      Enric Peñalver  Vilafranca del penedès   \n",
       "7         David Gómez                  Cuenca   \n",
       "8   Carlos Barrientos                  Madrid   \n",
       "9    Vicmary Martínez        Venezuela/Madrid   \n",
       "10         Pial Islam    Bangladesh/Barcelona   \n",
       "\n",
       "                                          Experiencia  \\\n",
       "0    Conocimiento en IA/Big data. Herramientas nuevas   \n",
       "1                                Estadística/economía   \n",
       "2                               Grado desarrollo apps   \n",
       "3                        Máster big data, Bootcamp DA   \n",
       "4                                          Ingeniería   \n",
       "5                     Sin experiencia en programación   \n",
       "6                   Ingeniería en matemática y física   \n",
       "7                                Ingeniero industrial   \n",
       "8                      Grado superior finanzas y DAMP   \n",
       "9   Ing. procesos/química. CRM. Bases de datos, Po...   \n",
       "10                            Graduado en informática   \n",
       "\n",
       "                          Profesión                 Afición  \n",
       "0     Kryndil (IBM). Virtualización                   Andar  \n",
       "1                             Banca                   Póker  \n",
       "2                        Hostelería         Música, deporte  \n",
       "3                Graduado en física  Senderismo, baloncesto  \n",
       "4                        Estudiante  Deporte, fútbol, tenis  \n",
       "5             Hostelería/discotecas                   Gym 💪  \n",
       "6                        Estudiante     Correr y calistenia  \n",
       "7             Ingeniero de procesos    Impresión 3D y pádel  \n",
       "8                             Admon   Fútbol, piloto drones  \n",
       "9   Grabadora de datos. Dynamic 365                   Salsa  \n",
       "10      Estudiante/buscando trabajo              Senderismo  "
      ]
     },
     "execution_count": 42,
     "metadata": {},
     "output_type": "execute_result"
    }
   ],
   "source": [
    "df"
   ]
  },
  {
   "cell_type": "markdown",
   "metadata": {
    "lang": "en"
   },
   "source": [
    "### Cast explícito\n",
    "Por otro lado, podemos realizar conversiones entre tipos o casteos de forma explícita utilizando diferentes funciones que nos proporciona Python. Las más utilizadas son las siguientes:\n",
    "\n",
    "`float(), str(), int(), list(), set()`"
   ]
  },
  {
   "cell_type": "markdown",
   "metadata": {},
   "source": [
    "#### Convertir float a int\n",
    "Para convertir de float a int debemos usar int(). Pero tenga cuidado, porque el tipo entero no puede almacenar decimales, por lo que perderemos lo que esté después del punto decimal."
   ]
  },
  {
   "cell_type": "code",
   "execution_count": 43,
   "metadata": {},
   "outputs": [
    {
     "data": {
      "text/plain": [
       "5"
      ]
     },
     "execution_count": 43,
     "metadata": {},
     "output_type": "execute_result"
    }
   ],
   "source": [
    "int(5.0)"
   ]
  },
  {
   "cell_type": "code",
   "execution_count": 44,
   "metadata": {},
   "outputs": [
    {
     "data": {
      "text/plain": [
       "5"
      ]
     },
     "execution_count": 44,
     "metadata": {},
     "output_type": "execute_result"
    }
   ],
   "source": [
    "int(5.3)"
   ]
  },
  {
   "cell_type": "markdown",
   "metadata": {
    "lang": "en"
   },
   "source": [
    "#### Convertir un float en una string\n",
    "Podemos convertir un float en una cadena con str(). Podemos ver en el siguiente código cómo cambia el tipo de a después de la conversión."
   ]
  },
  {
   "cell_type": "code",
   "execution_count": 45,
   "metadata": {},
   "outputs": [
    {
     "data": {
      "text/plain": [
       "'5.8'"
      ]
     },
     "execution_count": 45,
     "metadata": {},
     "output_type": "execute_result"
    }
   ],
   "source": [
    "str(5.8)"
   ]
  },
  {
   "cell_type": "markdown",
   "metadata": {
    "lang": "en"
   },
   "source": [
    "#### Convertir int a str\n",
    "Al igual que la conversión a float anterior, podemos convertir de string a int usando int()."
   ]
  },
  {
   "cell_type": "code",
   "execution_count": 46,
   "metadata": {},
   "outputs": [
    {
     "data": {
      "text/plain": [
       "'5'"
      ]
     },
     "execution_count": 46,
     "metadata": {},
     "output_type": "execute_result"
    }
   ],
   "source": [
    "str(5)"
   ]
  },
  {
   "cell_type": "code",
   "execution_count": 47,
   "metadata": {},
   "outputs": [
    {
     "data": {
      "text/plain": [
       "544.0876"
      ]
     },
     "execution_count": 47,
     "metadata": {},
     "output_type": "execute_result"
    }
   ],
   "source": [
    "float(544.0876)"
   ]
  },
  {
   "cell_type": "code",
   "execution_count": 48,
   "metadata": {},
   "outputs": [
    {
     "data": {
      "text/plain": [
       "5"
      ]
     },
     "execution_count": 48,
     "metadata": {},
     "output_type": "execute_result"
    }
   ],
   "source": [
    "int(5.2323)"
   ]
  },
  {
   "cell_type": "code",
   "execution_count": 49,
   "metadata": {},
   "outputs": [
    {
     "data": {
      "text/plain": [
       "5"
      ]
     },
     "execution_count": 49,
     "metadata": {},
     "output_type": "execute_result"
    }
   ],
   "source": [
    "int(\"5\")"
   ]
  },
  {
   "cell_type": "code",
   "execution_count": 50,
   "metadata": {},
   "outputs": [
    {
     "ename": "ValueError",
     "evalue": "invalid literal for int() with base 10: '5.6'",
     "output_type": "error",
     "traceback": [
      "\u001b[31m---------------------------------------------------------------------------\u001b[39m",
      "\u001b[31mValueError\u001b[39m                                Traceback (most recent call last)",
      "\u001b[36mCell\u001b[39m\u001b[36m \u001b[39m\u001b[32mIn[50]\u001b[39m\u001b[32m, line 1\u001b[39m\n\u001b[32m----> \u001b[39m\u001b[32m1\u001b[39m \u001b[38;5;28;43mint\u001b[39;49m\u001b[43m(\u001b[49m\u001b[33;43m\"\u001b[39;49m\u001b[33;43m5.6\u001b[39;49m\u001b[33;43m\"\u001b[39;49m\u001b[43m)\u001b[49m\n",
      "\u001b[31mValueError\u001b[39m: invalid literal for int() with base 10: '5.6'"
     ]
    }
   ],
   "source": [
    "int(\"5.6\")"
   ]
  },
  {
   "cell_type": "code",
   "execution_count": 51,
   "metadata": {},
   "outputs": [
    {
     "data": {
      "text/plain": [
       "5"
      ]
     },
     "execution_count": 51,
     "metadata": {},
     "output_type": "execute_result"
    }
   ],
   "source": [
    "int(float(\"5.6\"))"
   ]
  },
  {
   "cell_type": "markdown",
   "metadata": {
    "lang": "en"
   },
   "source": [
    "### Cast implítico\n",
    "Esta conversión de tipos la realiza Python de forma automática, prácticamente sin que nos demos cuenta. Aun así, es importante saber qué está pasando por debajo para evitar problemas futuros.\n",
    "\n",
    "El ejemplo más sencillo en el que podemos ver este comportamiento es el siguiente:"
   ]
  },
  {
   "cell_type": "markdown",
   "metadata": {
    "lang": "en"
   },
   "source": [
    "- a es un int\n",
    "- b es un float\n",
    "\n",
    "Pero si sumamos a y b y almacenamos el resultado en a, podemos ver cómo internamente Python ha convertido el int en float para realizar la operación, y la variable resultante es float.\n",
    "Sin embargo, hay otros casos en los que Python no es tan inteligente y no es capaz de realizar la conversión. Si intentamos agregar un int a una cadena, obtendremos un TypeError."
   ]
  },
  {
   "cell_type": "code",
   "execution_count": 52,
   "metadata": {},
   "outputs": [
    {
     "data": {
      "text/plain": [
       "5.0"
      ]
     },
     "execution_count": 52,
     "metadata": {},
     "output_type": "execute_result"
    }
   ],
   "source": [
    "10 / 2"
   ]
  },
  {
   "cell_type": "code",
   "execution_count": 53,
   "metadata": {},
   "outputs": [
    {
     "data": {
      "text/plain": [
       "5.0"
      ]
     },
     "execution_count": 53,
     "metadata": {},
     "output_type": "execute_result"
    }
   ],
   "source": [
    "10 / 2.0"
   ]
  },
  {
   "cell_type": "markdown",
   "metadata": {
    "lang": "en"
   },
   "source": [
    "## Input\n",
    "### Input\n",
    "Para asignar una variable a un valor ingresado por el usuario en la consola, utilice la instrucción\n",
    "`input(message) : Muestra el mensaje de la cadena por la terminal y devuelve una cadena con la entrada`"
   ]
  },
  {
   "cell_type": "code",
   "execution_count": 54,
   "metadata": {},
   "outputs": [],
   "source": [
    "nombre = \"Álvaro\""
   ]
  },
  {
   "cell_type": "code",
   "execution_count": 4,
   "metadata": {},
   "outputs": [],
   "source": [
    "nombre = input(\"¿Cuál es tu nombre?: \")"
   ]
  },
  {
   "cell_type": "code",
   "execution_count": 5,
   "metadata": {},
   "outputs": [
    {
     "data": {
      "text/plain": [
       "'Pepe'"
      ]
     },
     "execution_count": 5,
     "metadata": {},
     "output_type": "execute_result"
    }
   ],
   "source": [
    "nombre"
   ]
  },
  {
   "cell_type": "code",
   "execution_count": 6,
   "metadata": {},
   "outputs": [
    {
     "data": {
      "text/plain": [
       "38"
      ]
     },
     "execution_count": 6,
     "metadata": {},
     "output_type": "execute_result"
    }
   ],
   "source": [
    "edad = int(input(\"¿Cuántos años tienes?: \"))\n",
    "edad"
   ]
  },
  {
   "cell_type": "code",
   "execution_count": 8,
   "metadata": {},
   "outputs": [
    {
     "data": {
      "text/plain": [
       "114"
      ]
     },
     "execution_count": 8,
     "metadata": {},
     "output_type": "execute_result"
    }
   ],
   "source": [
    "int(edad) * 3"
   ]
  },
  {
   "cell_type": "markdown",
   "metadata": {},
   "source": [
    "#### Programación defensiva"
   ]
  },
  {
   "cell_type": "code",
   "execution_count": null,
   "metadata": {},
   "outputs": [],
   "source": []
  },
  {
   "cell_type": "markdown",
   "metadata": {
    "lang": "en"
   },
   "source": [
    "### Print\n",
    "La función print() imprime el mensaje especificado en la pantalla o en otro dispositivo de salida estándar.\n",
    "\n",
    "El mensaje puede ser una cadena o cualquier otro objeto; el objeto se convertirá en una cadena antes de escribirse en la pantalla."
   ]
  },
  {
   "cell_type": "code",
   "execution_count": 9,
   "metadata": {},
   "outputs": [
    {
     "name": "stdout",
     "output_type": "stream",
     "text": [
      "asdasodnasds\n"
     ]
    }
   ],
   "source": [
    "print(\"asdasodnasds\")"
   ]
  },
  {
   "cell_type": "markdown",
   "metadata": {},
   "source": [
    "## Format"
   ]
  },
  {
   "cell_type": "markdown",
   "metadata": {},
   "source": [
    "### Formato - 1"
   ]
  },
  {
   "cell_type": "code",
   "execution_count": 11,
   "metadata": {},
   "outputs": [
    {
     "name": "stdout",
     "output_type": "stream",
     "text": [
      "5\n"
     ]
    }
   ],
   "source": [
    "num = 5\n",
    "print(num)"
   ]
  },
  {
   "cell_type": "code",
   "execution_count": 12,
   "metadata": {},
   "outputs": [
    {
     "data": {
      "text/plain": [
       "'La edad es edad'"
      ]
     },
     "execution_count": 12,
     "metadata": {},
     "output_type": "execute_result"
    }
   ],
   "source": [
    "f\"La edad es edad\""
   ]
  },
  {
   "cell_type": "code",
   "execution_count": 13,
   "metadata": {},
   "outputs": [
    {
     "data": {
      "text/plain": [
       "'La edad es 38 y el número es 5'"
      ]
     },
     "execution_count": 13,
     "metadata": {},
     "output_type": "execute_result"
    }
   ],
   "source": [
    "f\"La edad es {edad} y el número es {num}\""
   ]
  },
  {
   "cell_type": "markdown",
   "metadata": {},
   "source": [
    "### Formato - 2"
   ]
  },
  {
   "cell_type": "code",
   "execution_count": 14,
   "metadata": {},
   "outputs": [
    {
     "data": {
      "text/plain": [
       "'La edad es 38'"
      ]
     },
     "execution_count": 14,
     "metadata": {},
     "output_type": "execute_result"
    }
   ],
   "source": [
    "\"La edad es {}\".format(edad)"
   ]
  },
  {
   "cell_type": "code",
   "execution_count": 15,
   "metadata": {},
   "outputs": [
    {
     "data": {
      "text/plain": [
       "'La edad es 38 y el número es 5'"
      ]
     },
     "execution_count": 15,
     "metadata": {},
     "output_type": "execute_result"
    }
   ],
   "source": [
    "\"La edad es {} y el número es {}\".format(edad, num)"
   ]
  },
  {
   "cell_type": "markdown",
   "metadata": {
    "lang": "es"
   },
   "source": [
    "## String"
   ]
  },
  {
   "cell_type": "markdown",
   "metadata": {
    "lang": "en"
   },
   "source": [
    "### Métodos de string\n",
    "Los métodos son acciones o funciones que un objeto puede realizar. Así como Python ofrece una serie de funciones “integradas”, también nos ofrece un conjunto de métodos ya creados. Estos métodos dependen del tipo de objeto con el que estemos trabajando."
   ]
  },
  {
   "cell_type": "markdown",
   "metadata": {
    "lang": "en"
   },
   "source": [
    "Vamos a explicar en clase algunos de los métodos más utilizados, pero ten en cuenta que siempre debes tener presente la [documentación](https://docs.python.org/3/library/stdtypes.html#string-methods )"
   ]
  },
  {
   "cell_type": "code",
   "execution_count": 1,
   "metadata": {},
   "outputs": [],
   "source": [
    "frase=\"hola soy Pepe\""
   ]
  },
  {
   "cell_type": "code",
   "execution_count": 2,
   "metadata": {},
   "outputs": [
    {
     "name": "stdout",
     "output_type": "stream",
     "text": [
      "Hola soy pepe\n"
     ]
    }
   ],
   "source": [
    "print(frase.capitalize())"
   ]
  },
  {
   "cell_type": "markdown",
   "metadata": {
    "lang": "en"
   },
   "source": [
    "`capitalize` Devuelve una copia de la cadena con su primer carácter en mayúscula y el resto en minúsculas."
   ]
  },
  {
   "cell_type": "code",
   "execution_count": 3,
   "metadata": {},
   "outputs": [
    {
     "name": "stdout",
     "output_type": "stream",
     "text": [
      "HOLA SOY PEPE\n"
     ]
    }
   ],
   "source": [
    "print(frase.upper())"
   ]
  },
  {
   "cell_type": "markdown",
   "metadata": {
    "lang": "en"
   },
   "source": [
    "`upper` Devuelve una copia de la cadena con todos los caracteres en mayúsculas"
   ]
  },
  {
   "cell_type": "code",
   "execution_count": 4,
   "metadata": {},
   "outputs": [
    {
     "name": "stdout",
     "output_type": "stream",
     "text": [
      "hola soy pepe\n"
     ]
    }
   ],
   "source": [
    "print(frase.lower())"
   ]
  },
  {
   "cell_type": "markdown",
   "metadata": {
    "lang": "en"
   },
   "source": [
    "`lower` Devuelve una copia de la cadena con todos los caracteres en minúscula"
   ]
  },
  {
   "cell_type": "code",
   "execution_count": 5,
   "metadata": {},
   "outputs": [
    {
     "name": "stdout",
     "output_type": "stream",
     "text": [
      "False\n"
     ]
    }
   ],
   "source": [
    "print(frase.islower())"
   ]
  },
  {
   "cell_type": "markdown",
   "metadata": {
    "lang": "en"
   },
   "source": [
    "`islower` es como isupper pero....verificamos minúsculas"
   ]
  },
  {
   "cell_type": "code",
   "execution_count": 6,
   "metadata": {},
   "outputs": [
    {
     "name": "stdout",
     "output_type": "stream",
     "text": [
      "HOLA SOY pEPE\n"
     ]
    }
   ],
   "source": [
    "print(frase.swapcase())"
   ]
  },
  {
   "cell_type": "markdown",
   "metadata": {
    "lang": "en"
   },
   "source": [
    "`swapcase` Devuelve una copia de la cadena con caracteres en mayúscula convertidos a minúsculas y viceversa."
   ]
  },
  {
   "cell_type": "code",
   "execution_count": 7,
   "metadata": {},
   "outputs": [
    {
     "name": "stdout",
     "output_type": "stream",
     "text": [
      "Hola Soy Pepe\n"
     ]
    }
   ],
   "source": [
    "print(frase.title())"
   ]
  },
  {
   "cell_type": "markdown",
   "metadata": {
    "lang": "en"
   },
   "source": [
    "`title` Devuelve una versión en mayúsculas de la cadena en la que las palabras comienzan con un carácter en mayúscula y todos los demás caracteres son en minúsculas."
   ]
  },
  {
   "cell_type": "code",
   "execution_count": 15,
   "metadata": {},
   "outputs": [
    {
     "name": "stdout",
     "output_type": "stream",
     "text": [
      "hhola soy Pepeohola soy Pepelhola soy Pepeahola soy Pepe hola soy Pepeshola soy Pepeohola soy Pepeyhola soy Pepe hola soy PepePhola soy Pepeehola soy Pepephola soy Pepeehola soy PepeAhola soy Pepedhola soy Pepeihola soy Pepeohola soy Pepeshola soy Pepe hola soy PepePhola soy Pepeehola soy Pepephola soy Pepee\n"
     ]
    }
   ],
   "source": [
    "frase2=\"Adios Pepe\"\n",
    "print(frase.join(frase + frase2))"
   ]
  },
  {
   "cell_type": "markdown",
   "metadata": {
    "lang": "en"
   },
   "source": [
    "`join(iterable)`\n",
    "\n",
    "Devuelve una cadena que es la concatenación de las cadenas en el iterable. Se generará un TypeError si hay algún valor que no sea una cadena en el iterable, incluidos los objetos bytes. El separador entre elementos es la cadena proporcionada por este método."
   ]
  },
  {
   "cell_type": "markdown",
   "metadata": {},
   "source": [
    "## Código"
   ]
  },
  {
   "cell_type": "markdown",
   "metadata": {
    "lang": "en"
   },
   "source": [
    "`startswith` Devuelve True si la cadena comienza con el prefijo; de lo contrario, devuelve False. prefix también puede ser una tupla de prefijos para buscar. Con el inicio opcional, verifica la cadena que comienza en esa posición. Con el fin opcional, deja de buscar la cadena en esa posición."
   ]
  },
  {
   "cell_type": "code",
   "execution_count": 16,
   "metadata": {},
   "outputs": [
    {
     "data": {
      "text/plain": [
       "True"
      ]
     },
     "execution_count": 16,
     "metadata": {},
     "output_type": "execute_result"
    }
   ],
   "source": [
    "frase.startswith(\"hola\")"
   ]
  },
  {
   "cell_type": "markdown",
   "metadata": {
    "lang": "en"
   },
   "source": [
    "`endswith` Devuelve Verdadero si la cadena termina con el sufijo especificado, de lo contrario devuelve Falso."
   ]
  },
  {
   "cell_type": "code",
   "execution_count": 17,
   "metadata": {},
   "outputs": [
    {
     "data": {
      "text/plain": [
       "True"
      ]
     },
     "execution_count": 17,
     "metadata": {},
     "output_type": "execute_result"
    }
   ],
   "source": [
    "frase.endswith(\"Pepe\")"
   ]
  },
  {
   "cell_type": "markdown",
   "metadata": {
    "lang": "en"
   },
   "source": [
    "`str.lstrip([chars])`\n",
    "Devuelve una copia de la cadena con los caracteres iniciales eliminados. El argumento chars es una cadena que especifica el conjunto de caracteres que se eliminarán. Si se omite o no hay ninguno, el argumento chars elimina los espacios en blanco de forma predeterminada. El argumento chars no es un prefijo, pero se eliminan todas las combinaciones de sus valores:"
   ]
  },
  {
   "cell_type": "code",
   "execution_count": null,
   "metadata": {},
   "outputs": [
    {
     "data": {
      "text/plain": [
       "' hola soy Pepe '"
      ]
     },
     "execution_count": 20,
     "metadata": {},
     "output_type": "execute_result"
    }
   ],
   "source": [
    "frase3 = \" hola soy Pepe \""
   ]
  },
  {
   "cell_type": "markdown",
   "metadata": {
    "lang": "en"
   },
   "source": [
    "`lstrip` y `rstrip` hacen lo mismo pero con espacios iniciales y finales"
   ]
  },
  {
   "cell_type": "code",
   "execution_count": null,
   "metadata": {},
   "outputs": [
    {
     "data": {
      "text/plain": [
       "'hola soy Pepe '"
      ]
     },
     "execution_count": 21,
     "metadata": {},
     "output_type": "execute_result"
    }
   ],
   "source": [
    "frase3.lstrip()"
   ]
  },
  {
   "cell_type": "code",
   "execution_count": 22,
   "metadata": {},
   "outputs": [
    {
     "data": {
      "text/plain": [
       "' hola soy Pepe'"
      ]
     },
     "execution_count": 22,
     "metadata": {},
     "output_type": "execute_result"
    }
   ],
   "source": [
    "frase3.rstrip()"
   ]
  },
  {
   "cell_type": "markdown",
   "metadata": {
    "lang": "en"
   },
   "source": [
    "`str.replace(old, new[, count])`\n",
    "Devuelve una copia de la cadena con todas las apariciones de la subcadena old reemplazadas por new. Si se proporciona el argumento opcional count, solo se reemplazan las primeras apariciones de count."
   ]
  },
  {
   "cell_type": "code",
   "execution_count": 23,
   "metadata": {},
   "outputs": [
    {
     "data": {
      "text/plain": [
       "'hola soy Luis'"
      ]
     },
     "execution_count": 23,
     "metadata": {},
     "output_type": "execute_result"
    }
   ],
   "source": [
    "frase.replace(\"Pepe\", \"Luis\")"
   ]
  },
  {
   "cell_type": "markdown",
   "metadata": {
    "lang": "en"
   },
   "source": [
    "`str.split(sep=None)`\n",
    "Devuelve una lista de las palabras de la cadena, utilizando sep como cadena delimitadora."
   ]
  },
  {
   "cell_type": "code",
   "execution_count": 27,
   "metadata": {},
   "outputs": [
    {
     "data": {
      "text/plain": [
       "['hola', 'soy', 'Pepe']"
      ]
     },
     "execution_count": 27,
     "metadata": {},
     "output_type": "execute_result"
    }
   ],
   "source": [
    "frase.split(sep=None)"
   ]
  },
  {
   "cell_type": "markdown",
   "metadata": {
    "lang": "en"
   },
   "source": [
    "## Resumen\n",
    "Ahora te toca a ti, ¿qué hemos aprendido hoy?"
   ]
  },
  {
   "cell_type": "code",
   "execution_count": null,
   "metadata": {},
   "outputs": [],
   "source": []
  }
 ],
 "metadata": {
  "kernelspec": {
   "display_name": "Python 3",
   "language": "python",
   "name": "python3"
  },
  "language_info": {
   "codemirror_mode": {
    "name": "ipython",
    "version": 3
   },
   "file_extension": ".py",
   "mimetype": "text/x-python",
   "name": "python",
   "nbconvert_exporter": "python",
   "pygments_lexer": "ipython3",
   "version": "3.13.7"
  },
  "nbTranslate": {
   "displayLangs": [
    "en",
    "es"
   ],
   "hotkey": "alt-a",
   "langInMainMenu": true,
   "sourceLang": "es",
   "targetLang": "en",
   "useGoogleTranslate": true
  },
  "toc": {
   "base_numbering": 1,
   "nav_menu": {},
   "number_sections": true,
   "sideBar": true,
   "skip_h1_title": true,
   "title_cell": "Table of Contents",
   "title_sidebar": "Contents",
   "toc_cell": true,
   "toc_position": {
    "height": "calc(100% - 180px)",
    "left": "10px",
    "top": "150px",
    "width": "222.891px"
   },
   "toc_section_display": true,
   "toc_window_display": false
  },
  "varInspector": {
   "cols": {
    "lenName": 16,
    "lenType": 16,
    "lenVar": 40
   },
   "kernels_config": {
    "python": {
     "delete_cmd_postfix": "",
     "delete_cmd_prefix": "del ",
     "library": "var_list.py",
     "varRefreshCmd": "print(var_dic_list())"
    },
    "r": {
     "delete_cmd_postfix": ") ",
     "delete_cmd_prefix": "rm(",
     "library": "var_list.r",
     "varRefreshCmd": "cat(var_dic_list()) "
    }
   },
   "types_to_exclude": [
    "module",
    "function",
    "builtin_function_or_method",
    "instance",
    "_Feature"
   ],
   "window_display": false
  }
 },
 "nbformat": 4,
 "nbformat_minor": 4
}
