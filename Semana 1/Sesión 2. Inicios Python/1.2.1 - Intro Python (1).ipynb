{
 "cells": [
  {
   "cell_type": "markdown",
   "metadata": {},
   "source": [
    "# Introducción a Python"
   ]
  },
  {
   "cell_type": "code",
   "execution_count": null,
   "metadata": {},
   "outputs": [],
   "source": [
    "\"\"\"\n",
    "RECAP\n",
    "\n",
    "QA: José Francisco\n",
    "- Modelo de Óscar (tasación vs. categorización de si es rentable o no): \n",
    "    ML: \n",
    "        - supervisada: \n",
    "            - clasificación: perro/gato, paga/no paga, rentable/no rentable, enfermedad/no enfermedad\n",
    "            - regresión: 300k, 25k, \n",
    "        - no supervisada: clusterización (agrupación)\n",
    "    DL: redes neuronales\n",
    "    IA generativa\n",
    "    - https://scikit-learn.org/stable/unsupervised_learning.html\n",
    "\n",
    "- Tipos de perfiles en data:\n",
    "    - Data engineer\n",
    "    - Data analyst\n",
    "    - Machine learning engineer\n",
    "    - Data scientist\n",
    "\n",
    "    - Aunque esté definido, muchas veces se solapana o se confunden\n",
    "\n",
    "- Python, Git, BBDD (relacionales y no relacionales), EDA, ETL, pipelines en general, ML, visualizaciones\n",
    "- Linkedin como herramienta\n",
    "- Aprender practicando\n",
    "- IA sabiamente -> como apoyo pero no como solución (sobre todo al principio)\n",
    "- Tolerancia a la frustración\n",
    "- Medium, youtube (tutoriales), codewars (katas, challenges de código), documentación en general\n",
    "- Manual: O'Reilly\n",
    "\"\"\""
   ]
  },
  {
   "cell_type": "code",
   "execution_count": null,
   "metadata": {},
   "outputs": [],
   "source": [
    "# VSCode\n",
    "# Jupyter"
   ]
  },
  {
   "cell_type": "markdown",
   "metadata": {
    "lang": "en"
   },
   "source": [
    "## Tipos de celdas en Jupyter Notebook"
   ]
  },
  {
   "cell_type": "code",
   "execution_count": null,
   "metadata": {},
   "outputs": [],
   "source": [
    "print(\"Hello world\")"
   ]
  },
  {
   "cell_type": "markdown",
   "metadata": {},
   "source": [
    "## Markdown\n",
    "- Headers\n",
    "- Subheaders\n",
    "- Bold / negrita\n",
    "- Listas\n",
    "- Listas numeradas\n",
    "- Link\n",
    "- Imágenes\n",
    "- Citas\n",
    "- Código en línea\n",
    "- [Tablas](https://www.tablesgenerator.com/markdown_tables)\n",
    "- Ecuaciones en línea \n",
    "- Bloques de ecuaciones"
   ]
  },
  {
   "cell_type": "code",
   "execution_count": 12,
   "metadata": {},
   "outputs": [],
   "source": [
    "# markdownsdsdsdsdddddddd"
   ]
  },
  {
   "cell_type": "code",
   "execution_count": null,
   "metadata": {},
   "outputs": [],
   "source": [
    "print(\"\")\n",
    "a = 10\n",
    "a = \"una string\""
   ]
  },
  {
   "cell_type": "markdown",
   "metadata": {},
   "source": [
    "Hola"
   ]
  },
  {
   "cell_type": "code",
   "execution_count": null,
   "metadata": {},
   "outputs": [],
   "source": []
  },
  {
   "cell_type": "code",
   "execution_count": null,
   "metadata": {},
   "outputs": [],
   "source": []
  },
  {
   "cell_type": "markdown",
   "metadata": {},
   "source": [
    "holaaaa"
   ]
  },
  {
   "cell_type": "markdown",
   "metadata": {},
   "source": [
    "# markdownsdsdsdsdddddddd"
   ]
  },
  {
   "cell_type": "markdown",
   "metadata": {},
   "source": [
    "# Título\n",
    "## Subtítulo 1\n",
    "### Subtítulo 2\n",
    "#### Subtítulo 3\n",
    "##### Subtítulo 4\n",
    "###### Subtítulo 5\n",
    "Texto normal"
   ]
  },
  {
   "cell_type": "markdown",
   "metadata": {},
   "source": [
    "**Texto en negrita**"
   ]
  },
  {
   "cell_type": "markdown",
   "metadata": {},
   "source": [
    "*Texto en cursiva*"
   ]
  },
  {
   "cell_type": "markdown",
   "metadata": {},
   "source": [
    "Cosas que se pueden hacer en markdown:\n",
    "- Elemento 1\n",
    "- Elemento 2\n",
    "- Elemento 3"
   ]
  },
  {
   "cell_type": "markdown",
   "metadata": {},
   "source": [
    "Lista numerada:\n",
    "1. Elemento 1\n",
    "2. elemento 2\n",
    "3. Elemento 3"
   ]
  },
  {
   "cell_type": "markdown",
   "metadata": {},
   "source": [
    "[Documentación de ML](https://scikit-learn.org/stable/unsupervised_learning.html)"
   ]
  },
  {
   "cell_type": "markdown",
   "metadata": {},
   "source": [
    "![Space cat](https://m.media-amazon.com/images/I/71-4jKZCKVL._AC_SY879_.jpg)"
   ]
  },
  {
   "cell_type": "code",
   "execution_count": null,
   "metadata": {},
   "outputs": [],
   "source": [
    "# < alt=\"Es un gato montado en pizza en el espacio\">"
   ]
  },
  {
   "cell_type": "markdown",
   "metadata": {},
   "source": [
    "![Space cat](imagenes/gato.jpg)"
   ]
  },
  {
   "cell_type": "markdown",
   "metadata": {},
   "source": [
    "![](imagenes/gato.jpg)"
   ]
  },
  {
   "cell_type": "markdown",
   "metadata": {},
   "source": [
    "Esto es un ejemplo de código: `print(\"Hello world\")`"
   ]
  },
  {
   "cell_type": "markdown",
   "metadata": {},
   "source": [
    "```python\n",
    "print(\"Hola mundo\")\n",
    "```"
   ]
  },
  {
   "cell_type": "markdown",
   "metadata": {},
   "source": [
    "```sql\n",
    "SELECT * FROM mi_tabla;\n",
    "```"
   ]
  },
  {
   "cell_type": "markdown",
   "metadata": {},
   "source": [
    "```python\n",
    "SELECT * FROM mi_tabla;\n",
    "```"
   ]
  },
  {
   "cell_type": "markdown",
   "metadata": {},
   "source": [
    "```bash\n",
    "ls\n",
    "````"
   ]
  },
  {
   "cell_type": "markdown",
   "metadata": {},
   "source": [
    "```\n",
    "whoami\n",
    "```"
   ]
  },
  {
   "cell_type": "markdown",
   "metadata": {},
   "source": [
    "| a   | b     | c    | d | e |\n",
    "|-----|-------|------|---|---|\n",
    "| aaa | aaaaa | aaaa |   |   |\n",
    "|     |       |      |   |   |\n",
    "|     |       |      |   |   |"
   ]
  },
  {
   "cell_type": "markdown",
   "metadata": {},
   "source": [
    "[Generador de tablas markdown](https://www.tablesgenerator.com/markdown_tables)"
   ]
  },
  {
   "cell_type": "markdown",
   "metadata": {},
   "source": [
    "$E = mc^2$"
   ]
  },
  {
   "cell_type": "markdown",
   "metadata": {},
   "source": [
    "## Código"
   ]
  },
  {
   "cell_type": "markdown",
   "metadata": {},
   "source": [
    "- Código python\n",
    "  - Comentarios en python\n",
    "- Comandos de terminal\n",
    "  - pwd\n",
    "  - open .\n",
    "  - ls ."
   ]
  },
  {
   "cell_type": "code",
   "execution_count": 22,
   "metadata": {},
   "outputs": [],
   "source": [
    "!open .\n"
   ]
  },
  {
   "cell_type": "code",
   "execution_count": 23,
   "metadata": {},
   "outputs": [],
   "source": [
    "!open https://www.tablesgenerator.com/markdown_tables"
   ]
  },
  {
   "cell_type": "markdown",
   "metadata": {},
   "source": [
    "### Atajos"
   ]
  },
  {
   "cell_type": "markdown",
   "metadata": {},
   "source": [
    "Para ejecutar la celda\n",
    "\n",
    "- `ctrl + enter`\n",
    "- `shift + enter` #esta ejecuta la celda y salta a la siguiente"
   ]
  },
  {
   "cell_type": "markdown",
   "metadata": {},
   "source": [
    "- `a` para la nueva celda de arriba\n",
    "- `b` para la nueva celda de abajo\n",
    "- `d + d` para el modo de acceso directo\n",
    "  \n",
    "- `m` o `y` para cambiar entre markdwon y código"
   ]
  },
  {
   "cell_type": "markdown",
   "metadata": {},
   "source": [
    "b -> below\n",
    "a -> above\n"
   ]
  },
  {
   "cell_type": "markdown",
   "metadata": {},
   "source": [
    "## Ejecución\n",
    "- Play\n",
    "- Kernel"
   ]
  },
  {
   "cell_type": "code",
   "execution_count": 1,
   "metadata": {},
   "outputs": [],
   "source": [
    "num = 18"
   ]
  },
  {
   "cell_type": "code",
   "execution_count": 2,
   "metadata": {},
   "outputs": [],
   "source": [
    "# num = 20"
   ]
  },
  {
   "cell_type": "code",
   "execution_count": 3,
   "metadata": {},
   "outputs": [
    {
     "name": "stdout",
     "output_type": "stream",
     "text": [
      "18\n"
     ]
    }
   ],
   "source": [
    "print(num)"
   ]
  },
  {
   "cell_type": "code",
   "execution_count": 4,
   "metadata": {},
   "outputs": [
    {
     "name": "stdout",
     "output_type": "stream",
     "text": [
      "18\n"
     ]
    }
   ],
   "source": [
    "print(num)\n",
    "hola = \"hola\""
   ]
  },
  {
   "cell_type": "code",
   "execution_count": 5,
   "metadata": {},
   "outputs": [],
   "source": [
    "# kernel: sesión / caché / memoria temporal / memoria de trabajo de python dentro de jupyter\n",
    "\n",
    "# refrescar el kernel\n",
    "# sobre todo haciendo iteraciones con for / while, etc\n",
    "\n",
    "# datasets muy pesados\n",
    "# requests -> \n",
    "    # pesadas\n",
    "    # limitaciones: num max de peticiones al minuto "
   ]
  },
  {
   "cell_type": "markdown",
   "metadata": {},
   "source": [
    "# The Zen of Python"
   ]
  },
  {
   "cell_type": "markdown",
   "metadata": {},
   "source": [
    "- [PEP-20](https://peps.python.org/pep-0020/), The Zen of Python\n",
    "- [PEP-8](https://peps.python.org/pep-0008/), Estilo de código\n",
    "- [PEP-257](https://peps.python.org/pep-0257/), Docstring\n",
    "- [PEP-484](https://peps.python.org/pep-0484/), Anotaciones de tipado"
   ]
  },
  {
   "cell_type": "code",
   "execution_count": 6,
   "metadata": {},
   "outputs": [
    {
     "name": "stdout",
     "output_type": "stream",
     "text": [
      "The Zen of Python, by Tim Peters\n",
      "\n",
      "Beautiful is better than ugly.\n",
      "Explicit is better than implicit.\n",
      "Simple is better than complex.\n",
      "Complex is better than complicated.\n",
      "Flat is better than nested.\n",
      "Sparse is better than dense.\n",
      "Readability counts.\n",
      "Special cases aren't special enough to break the rules.\n",
      "Although practicality beats purity.\n",
      "Errors should never pass silently.\n",
      "Unless explicitly silenced.\n",
      "In the face of ambiguity, refuse the temptation to guess.\n",
      "There should be one-- and preferably only one --obvious way to do it.\n",
      "Although that way may not be obvious at first unless you're Dutch.\n",
      "Now is better than never.\n",
      "Although never is often better than *right* now.\n",
      "If the implementation is hard to explain, it's a bad idea.\n",
      "If the implementation is easy to explain, it may be a good idea.\n",
      "Namespaces are one honking great idea -- let's do more of those!\n"
     ]
    }
   ],
   "source": [
    "import this"
   ]
  },
  {
   "cell_type": "code",
   "execution_count": null,
   "metadata": {},
   "outputs": [],
   "source": [
    "# simple mejor que complejo\n",
    "\n",
    "# codewars -> soluciones -> one-liner solution \n",
    "    # comprehension list"
   ]
  },
  {
   "cell_type": "markdown",
   "metadata": {},
   "source": [
    "# Python, código y IDE"
   ]
  },
  {
   "cell_type": "markdown",
   "metadata": {},
   "source": [
    "- Jupyter notebooks\n",
    "- Archivos python\n",
    "- VSCode"
   ]
  },
  {
   "cell_type": "code",
   "execution_count": 7,
   "metadata": {},
   "outputs": [
    {
     "data": {
      "text/plain": [
       "'\\n    - Extracción de Salesforce\\n    - Etracción google sheets\\n    - Una conexión con sharepoint\\n    - Un .csv un S3 en AWS\\n    - Un archivo transformar todo esto\\n    - Volcar esto en un sitio\\n'"
      ]
     },
     "execution_count": 7,
     "metadata": {},
     "output_type": "execute_result"
    }
   ],
   "source": [
    "# jupyter notebook: pruebas, visibilidad, documentación, organizción, visualizaciones\n",
    "# proyectos: moverlo a archivos python \n",
    "    # encapsulación: pasar líneas de código a una función\n",
    "        # abstraerme: sum(a, b)\n",
    "        # líneas a funciones: nombre -> simple \n",
    "        # modificaciones, debugging, añadir funcionalidades: si modifico el origen, modifico todo en cascada\n",
    "    # modularización \n",
    "        # un sitio donde DEFINAMOS EL CÓDIGO: src (source, código fuente)\n",
    "        # un sitio donde EJECUTEMOS EL CÓDIGO: este código fuente se importa en un archivo que ejecuta el archivo principal (main.py)\n",
    "            # .exe, main.py (importar funciones definidas en otro sitio para ejecutarlas en el main.py)\n",
    "    # proceso: jupyter -> encapsulamos (en funciones) -> movemos esas funciones a src/ -> desde el main.py importamos el códgo fuente\n",
    "\n",
    "# Pipeline\n",
    "\"\"\"\n",
    "    - Extracción de Salesforce\n",
    "    - Etracción google sheets\n",
    "    - Una conexión con sharepoint\n",
    "    - Un .csv un S3 en AWS\n",
    "    - Un archivo transformar todo esto\n",
    "    - Volcar esto en un sitio\n",
    "\"\"\"\n",
    "# Jupyter: servidor ejecutándose continuamente en MI ordenador: con un kernel, una memoria de trabajo, etc\n",
    "# Archivos de python: s\n",
    "\n"
   ]
  },
  {
   "cell_type": "code",
   "execution_count": null,
   "metadata": {},
   "outputs": [],
   "source": [
    "# extensiones\n",
    "    # .ipynb\n",
    "    # .py"
   ]
  },
  {
   "cell_type": "code",
   "execution_count": 8,
   "metadata": {},
   "outputs": [],
   "source": [
    "!touch main.py # esto crea un archivo"
   ]
  },
  {
   "cell_type": "code",
   "execution_count": 5,
   "metadata": {},
   "outputs": [
    {
     "data": {
      "text/html": [
       "<div>\n",
       "<style scoped>\n",
       "    .dataframe tbody tr th:only-of-type {\n",
       "        vertical-align: middle;\n",
       "    }\n",
       "\n",
       "    .dataframe tbody tr th {\n",
       "        vertical-align: top;\n",
       "    }\n",
       "\n",
       "    .dataframe thead th {\n",
       "        text-align: right;\n",
       "    }\n",
       "</style>\n",
       "<table border=\"1\" class=\"dataframe\">\n",
       "  <thead>\n",
       "    <tr style=\"text-align: right;\">\n",
       "      <th></th>\n",
       "      <th>Nombre</th>\n",
       "      <th>Ciudad</th>\n",
       "      <th>Experiencia</th>\n",
       "      <th>Profesión</th>\n",
       "      <th>Hobby</th>\n",
       "    </tr>\n",
       "  </thead>\n",
       "  <tbody>\n",
       "    <tr>\n",
       "      <th>0</th>\n",
       "      <td>Manuel Peña</td>\n",
       "      <td>Jaén</td>\n",
       "      <td>Conocimiento en IA/Big data. Herramientas nuevas</td>\n",
       "      <td>Kryndil (IBM). Virtualización</td>\n",
       "      <td>Andar</td>\n",
       "    </tr>\n",
       "    <tr>\n",
       "      <th>1</th>\n",
       "      <td>Luis (Servando)</td>\n",
       "      <td>Málaga</td>\n",
       "      <td>Estadística/economía</td>\n",
       "      <td>Banca</td>\n",
       "      <td>Póker</td>\n",
       "    </tr>\n",
       "    <tr>\n",
       "      <th>2</th>\n",
       "      <td>Óscar Fernández</td>\n",
       "      <td>Cuenca</td>\n",
       "      <td>Grado desarrollo apps</td>\n",
       "      <td>Hostelería</td>\n",
       "      <td>Música, deporte</td>\n",
       "    </tr>\n",
       "    <tr>\n",
       "      <th>3</th>\n",
       "      <td>Albert Ripoll</td>\n",
       "      <td>Teià</td>\n",
       "      <td>Máster big data, Bootcamp DA</td>\n",
       "      <td>Graduado en física</td>\n",
       "      <td>Senderismo, baloncesto</td>\n",
       "    </tr>\n",
       "    <tr>\n",
       "      <th>4</th>\n",
       "      <td>Pablo Padial</td>\n",
       "      <td>Madrid</td>\n",
       "      <td>Ingeniería</td>\n",
       "      <td>Estudiante</td>\n",
       "      <td>Deporte, fútbol, tenis</td>\n",
       "    </tr>\n",
       "    <tr>\n",
       "      <th>5</th>\n",
       "      <td>Adrián Rodríguez</td>\n",
       "      <td>Sevilla</td>\n",
       "      <td>Sin experiencia en programación</td>\n",
       "      <td>Hostelería/discotecas</td>\n",
       "      <td>Gym 💪</td>\n",
       "    </tr>\n",
       "    <tr>\n",
       "      <th>6</th>\n",
       "      <td>Enric Peñalver</td>\n",
       "      <td>Vilafranca del penedès</td>\n",
       "      <td>Ingeniería en matemática y física</td>\n",
       "      <td>Estudiante</td>\n",
       "      <td>Correr y calistenia</td>\n",
       "    </tr>\n",
       "    <tr>\n",
       "      <th>7</th>\n",
       "      <td>David Gómez</td>\n",
       "      <td>Cuenca</td>\n",
       "      <td>Ingeniero industrial</td>\n",
       "      <td>Ingeniero de procesos</td>\n",
       "      <td>Impresión 3D y pádel</td>\n",
       "    </tr>\n",
       "    <tr>\n",
       "      <th>8</th>\n",
       "      <td>Carlos Barrientos</td>\n",
       "      <td>Madrid</td>\n",
       "      <td>Grado superior finanzas y DAMP</td>\n",
       "      <td>Admon</td>\n",
       "      <td>Fútbol, piloto drones</td>\n",
       "    </tr>\n",
       "    <tr>\n",
       "      <th>9</th>\n",
       "      <td>Vicmary Martínez</td>\n",
       "      <td>Venezuela/Madrid</td>\n",
       "      <td>Ing. procesos/química. CRM. Bases de datos, Po...</td>\n",
       "      <td>Grabadora de datos. Dynamic 365</td>\n",
       "      <td>Salsa</td>\n",
       "    </tr>\n",
       "    <tr>\n",
       "      <th>10</th>\n",
       "      <td>Pial Islam</td>\n",
       "      <td>Bangladesh/Barcelona</td>\n",
       "      <td>Graduado en informática</td>\n",
       "      <td>Estudiante/buscando trabajo</td>\n",
       "      <td>Senderismo</td>\n",
       "    </tr>\n",
       "  </tbody>\n",
       "</table>\n",
       "</div>"
      ],
      "text/plain": [
       "               Nombre                  Ciudad  \\\n",
       "0         Manuel Peña                    Jaén   \n",
       "1     Luis (Servando)                  Málaga   \n",
       "2     Óscar Fernández                  Cuenca   \n",
       "3       Albert Ripoll                    Teià   \n",
       "4        Pablo Padial                  Madrid   \n",
       "5    Adrián Rodríguez                 Sevilla   \n",
       "6      Enric Peñalver  Vilafranca del penedès   \n",
       "7         David Gómez                  Cuenca   \n",
       "8   Carlos Barrientos                  Madrid   \n",
       "9    Vicmary Martínez        Venezuela/Madrid   \n",
       "10         Pial Islam    Bangladesh/Barcelona   \n",
       "\n",
       "                                          Experiencia  \\\n",
       "0    Conocimiento en IA/Big data. Herramientas nuevas   \n",
       "1                                Estadística/economía   \n",
       "2                               Grado desarrollo apps   \n",
       "3                        Máster big data, Bootcamp DA   \n",
       "4                                          Ingeniería   \n",
       "5                     Sin experiencia en programación   \n",
       "6                   Ingeniería en matemática y física   \n",
       "7                                Ingeniero industrial   \n",
       "8                      Grado superior finanzas y DAMP   \n",
       "9   Ing. procesos/química. CRM. Bases de datos, Po...   \n",
       "10                            Graduado en informática   \n",
       "\n",
       "                          Profesión                   Hobby  \n",
       "0     Kryndil (IBM). Virtualización                   Andar  \n",
       "1                             Banca                   Póker  \n",
       "2                        Hostelería         Música, deporte  \n",
       "3                Graduado en física  Senderismo, baloncesto  \n",
       "4                        Estudiante  Deporte, fútbol, tenis  \n",
       "5             Hostelería/discotecas                   Gym 💪  \n",
       "6                        Estudiante     Correr y calistenia  \n",
       "7             Ingeniero de procesos    Impresión 3D y pádel  \n",
       "8                             Admon   Fútbol, piloto drones  \n",
       "9   Grabadora de datos. Dynamic 365                   Salsa  \n",
       "10      Estudiante/buscando trabajo              Senderismo  "
      ]
     },
     "execution_count": 5,
     "metadata": {},
     "output_type": "execute_result"
    }
   ],
   "source": [
    "import pandas as pd\n",
    "\n",
    "alumnos = [{\n",
    "    \"Nombre\": \"Manuel Peña\",\n",
    "    \"Ciudad\": \"Jaén\",\n",
    "    \"Experiencia\": \"Conocimiento en IA/Big data. Herramientas nuevas\",\n",
    "    \"Profesión\": \"Kryndil (IBM). Virtualización\",\n",
    "    \"Hobby\": \"Andar\"\n",
    "},\n",
    "{\n",
    "    \"Nombre\": \"Luis (Servando)\",\n",
    "    \"Ciudad\": \"Málaga\",\n",
    "    \"Experiencia\": \"Estadística/economía\",\n",
    "    \"Profesión\": \"Banca\",\n",
    "    \"Hobby\": \"Póker\"\n",
    "},\n",
    "{\n",
    "    \"Nombre\": \"Óscar Fernández\",\n",
    "    \"Ciudad\": \"Cuenca\",\n",
    "    \"Experiencia\": \"Grado desarrollo apps\",\n",
    "    \"Profesión\": \"Hostelería\",\n",
    "    \"Hobby\": \"Música, deporte\"\n",
    "},\n",
    "{\n",
    "    \"Nombre\": \"Albert Ripoll\",\n",
    "    \"Ciudad\": \"Teià\",\n",
    "    \"Experiencia\": \"Máster big data, Bootcamp DA\",\n",
    "    \"Profesión\": \"Graduado en física\",\n",
    "    \"Hobby\": \"Senderismo, baloncesto\"\n",
    "},\n",
    "{\n",
    "    \"Nombre\": \"Pablo Padial\",\n",
    "    \"Ciudad\": \"Madrid\",\n",
    "    \"Experiencia\": \"Ingeniería\",\n",
    "    \"Profesión\": \"Estudiante\",\n",
    "    \"Hobby\": \"Deporte, fútbol, tenis\"\n",
    "},\n",
    "{\n",
    "    \"Nombre\": \"Adrián Rodríguez\",\n",
    "    \"Ciudad\": \"Sevilla\",\n",
    "    \"Experiencia\": \"Sin experiencia en programación\",\n",
    "    \"Profesión\": \"Hostelería/discotecas\",\n",
    "    \"Hobby\": \"Gym 💪\"\n",
    "},\n",
    "{\n",
    "    \"Nombre\": \"Enric Peñalver\",\n",
    "    \"Ciudad\": \"Vilafranca del penedès\",\n",
    "    \"Experiencia\": \"Ingeniería en matemática y física\",\n",
    "    \"Profesión\": \"Estudiante\",\n",
    "    \"Hobby\": \"Correr y calistenia\"\n",
    "},\n",
    "{\n",
    "    \"Nombre\": \"David Gómez\",\n",
    "    \"Ciudad\": \"Cuenca\",\n",
    "    \"Experiencia\": \"Ingeniero industrial\",\n",
    "    \"Profesión\": \"Ingeniero de procesos\",\n",
    "    \"Hobby\": \"Impresión 3D y pádel\"\n",
    "},\n",
    "{\n",
    "    \"Nombre\": \"Carlos Barrientos\",\n",
    "    \"Ciudad\": \"Madrid\",\n",
    "    \"Experiencia\": \"Grado superior finanzas y DAMP\",\n",
    "    \"Profesión\": \"Admon\",\n",
    "    \"Hobby\": \"Fútbol, piloto drones\"\n",
    "},\n",
    "{\n",
    "    \"Nombre\": \"Vicmary Martínez\",\n",
    "    \"Ciudad\": \"Venezuela/Madrid\",\n",
    "    \"Experiencia\": \"Ing. procesos/química. CRM. Bases de datos, PowerBI, Excel, XML, HTML, C++. Python con IBM\",\n",
    "    \"Profesión\": \"Grabadora de datos. Dynamic 365\",\n",
    "    \"Hobby\": \"Salsa\"\n",
    "},\n",
    "{\n",
    "    \"Nombre\": \"Pial Islam\",\n",
    "    \"Ciudad\": \"Bangladesh/Barcelona\",\n",
    "    \"Experiencia\": \"Graduado en informática\",\n",
    "    \"Profesión\": \"Estudiante/buscando trabajo\",\n",
    "    \"Hobby\": \"Senderismo\"\n",
    "}\n",
    "]\n",
    "#!pip install pandas\n",
    "df = pd.DataFrame(alumnos)\n",
    "df"
   ]
  },
  {
   "cell_type": "markdown",
   "metadata": {},
   "source": [
    "# Tipo de datos"
   ]
  },
  {
   "cell_type": "markdown",
   "metadata": {},
   "source": [
    "- int: números enteros\n",
    "- float: decimales\n",
    "- str\n",
    "- booleans: True / False"
   ]
  },
  {
   "cell_type": "markdown",
   "metadata": {
    "lang": "en"
   },
   "source": [
    "# Int"
   ]
  },
  {
   "cell_type": "code",
   "execution_count": 6,
   "metadata": {},
   "outputs": [
    {
     "data": {
      "text/plain": [
       "5"
      ]
     },
     "execution_count": 6,
     "metadata": {},
     "output_type": "execute_result"
    }
   ],
   "source": [
    "5"
   ]
  },
  {
   "cell_type": "code",
   "execution_count": 7,
   "metadata": {},
   "outputs": [],
   "source": [
    "num = 5"
   ]
  },
  {
   "cell_type": "code",
   "execution_count": 8,
   "metadata": {},
   "outputs": [
    {
     "data": {
      "text/plain": [
       "int"
      ]
     },
     "execution_count": 8,
     "metadata": {},
     "output_type": "execute_result"
    }
   ],
   "source": [
    "type(num)"
   ]
  },
  {
   "cell_type": "code",
   "execution_count": 9,
   "metadata": {},
   "outputs": [
    {
     "data": {
      "text/plain": [
       "float"
      ]
     },
     "execution_count": 9,
     "metadata": {},
     "output_type": "execute_result"
    }
   ],
   "source": [
    "num = 5.0\n",
    "type(num)"
   ]
  },
  {
   "cell_type": "code",
   "execution_count": 10,
   "metadata": {},
   "outputs": [
    {
     "data": {
      "text/plain": [
       "int"
      ]
     },
     "execution_count": 10,
     "metadata": {},
     "output_type": "execute_result"
    }
   ],
   "source": [
    "type(5)"
   ]
  },
  {
   "cell_type": "code",
   "execution_count": 11,
   "metadata": {},
   "outputs": [
    {
     "data": {
      "text/plain": [
       "float"
      ]
     },
     "execution_count": 11,
     "metadata": {},
     "output_type": "execute_result"
    }
   ],
   "source": [
    "type(num)"
   ]
  },
  {
   "cell_type": "code",
   "execution_count": 12,
   "metadata": {},
   "outputs": [
    {
     "data": {
      "text/plain": [
       "True"
      ]
     },
     "execution_count": 12,
     "metadata": {},
     "output_type": "execute_result"
    }
   ],
   "source": [
    "type(num) == float\n",
    "\n",
    "# check:\n",
    "    # lo que espero recibir tiene que ser esto\n",
    "    # para que no rompa luego en el pipeline\n",
    "\n",
    "# programación defensiva\n",
    "   # anticiparnos a los problemas antes de que aparezcan\n",
    "   # comprobación de los tipos "
   ]
  },
  {
   "cell_type": "markdown",
   "metadata": {
    "lang": "en"
   },
   "source": [
    "## Floats"
   ]
  },
  {
   "cell_type": "code",
   "execution_count": 13,
   "metadata": {},
   "outputs": [
    {
     "data": {
      "text/plain": [
       "5.09"
      ]
     },
     "execution_count": 13,
     "metadata": {},
     "output_type": "execute_result"
    }
   ],
   "source": [
    "5.09 # decimales"
   ]
  },
  {
   "cell_type": "code",
   "execution_count": 14,
   "metadata": {},
   "outputs": [
    {
     "data": {
      "text/plain": [
       "float"
      ]
     },
     "execution_count": 14,
     "metadata": {},
     "output_type": "execute_result"
    }
   ],
   "source": [
    "type(5.09)"
   ]
  },
  {
   "cell_type": "markdown",
   "metadata": {
    "lang": "en"
   },
   "source": [
    "## Operaciones básicas"
   ]
  },
  {
   "cell_type": "code",
   "execution_count": 16,
   "metadata": {},
   "outputs": [
    {
     "data": {
      "text/plain": [
       "40"
      ]
     },
     "execution_count": 16,
     "metadata": {},
     "output_type": "execute_result"
    }
   ],
   "source": [
    "a = 10\n",
    "b = 4\n",
    "\n",
    "a * b"
   ]
  },
  {
   "cell_type": "code",
   "execution_count": 17,
   "metadata": {},
   "outputs": [
    {
     "data": {
      "text/plain": [
       "14"
      ]
     },
     "execution_count": 17,
     "metadata": {},
     "output_type": "execute_result"
    }
   ],
   "source": [
    "a = 10\n",
    "b = 4\n",
    "\n",
    "a + b"
   ]
  },
  {
   "cell_type": "code",
   "execution_count": 18,
   "metadata": {},
   "outputs": [
    {
     "data": {
      "text/plain": [
       "6"
      ]
     },
     "execution_count": 18,
     "metadata": {},
     "output_type": "execute_result"
    }
   ],
   "source": [
    "a = 10\n",
    "b = 4\n",
    "\n",
    "a - b"
   ]
  },
  {
   "cell_type": "code",
   "execution_count": 19,
   "metadata": {},
   "outputs": [
    {
     "data": {
      "text/plain": [
       "2.5"
      ]
     },
     "execution_count": 19,
     "metadata": {},
     "output_type": "execute_result"
    }
   ],
   "source": [
    "a = 10\n",
    "b = 4\n",
    "\n",
    "a / b"
   ]
  },
  {
   "cell_type": "code",
   "execution_count": 20,
   "metadata": {},
   "outputs": [
    {
     "data": {
      "text/plain": [
       "3.3333333333333335"
      ]
     },
     "execution_count": 20,
     "metadata": {},
     "output_type": "execute_result"
    }
   ],
   "source": [
    "a = 10\n",
    "b = 3\n",
    "\n",
    "a / b"
   ]
  },
  {
   "cell_type": "markdown",
   "metadata": {},
   "source": [
    "`floor division`"
   ]
  },
  {
   "cell_type": "code",
   "execution_count": 21,
   "metadata": {},
   "outputs": [
    {
     "data": {
      "text/plain": [
       "3"
      ]
     },
     "execution_count": 21,
     "metadata": {},
     "output_type": "execute_result"
    }
   ],
   "source": [
    "a = 10\n",
    "b = 3\n",
    "\n",
    "a // b"
   ]
  },
  {
   "cell_type": "markdown",
   "metadata": {},
   "source": [
    "`modulus`"
   ]
  },
  {
   "cell_type": "code",
   "execution_count": 22,
   "metadata": {},
   "outputs": [
    {
     "data": {
      "text/plain": [
       "2"
      ]
     },
     "execution_count": 22,
     "metadata": {},
     "output_type": "execute_result"
    }
   ],
   "source": [
    "a = 17\n",
    "b = 15\n",
    "\n",
    "a % b # resto"
   ]
  },
  {
   "cell_type": "code",
   "execution_count": 23,
   "metadata": {},
   "outputs": [
    {
     "data": {
      "text/plain": [
       "1"
      ]
     },
     "execution_count": 23,
     "metadata": {},
     "output_type": "execute_result"
    }
   ],
   "source": [
    "a = 10\n",
    "b = 3\n",
    "\n",
    "a % b"
   ]
  },
  {
   "cell_type": "markdown",
   "metadata": {},
   "source": [
    "`exponente`"
   ]
  },
  {
   "cell_type": "code",
   "execution_count": 24,
   "metadata": {},
   "outputs": [
    {
     "data": {
      "text/plain": [
       "9"
      ]
     },
     "execution_count": 24,
     "metadata": {},
     "output_type": "execute_result"
    }
   ],
   "source": [
    "# e = mc^2\n",
    "3 * 3"
   ]
  },
  {
   "cell_type": "code",
   "execution_count": 25,
   "metadata": {},
   "outputs": [
    {
     "data": {
      "text/plain": [
       "9"
      ]
     },
     "execution_count": 25,
     "metadata": {},
     "output_type": "execute_result"
    }
   ],
   "source": [
    "3 ** 2 # do le asterisco para elevar a la potencia"
   ]
  },
  {
   "cell_type": "markdown",
   "metadata": {
    "lang": "en"
   },
   "source": [
    "## Strings"
   ]
  },
  {
   "cell_type": "markdown",
   "metadata": {},
   "source": [
    "- Comment\n",
    "- Multi-line comment\n",
    "- Break line\n",
    "- Emojis"
   ]
  },
  {
   "cell_type": "code",
   "execution_count": 27,
   "metadata": {},
   "outputs": [
    {
     "data": {
      "text/plain": [
       "'aaaaaaaasasas'"
      ]
     },
     "execution_count": 27,
     "metadata": {},
     "output_type": "execute_result"
    }
   ],
   "source": [
    "\"aaaaaaaasasas\""
   ]
  },
  {
   "cell_type": "code",
   "execution_count": 26,
   "metadata": {},
   "outputs": [
    {
     "data": {
      "text/plain": [
       "'aaaaaaaasasas'"
      ]
     },
     "execution_count": 26,
     "metadata": {},
     "output_type": "execute_result"
    }
   ],
   "source": [
    "'aaaaaaaasasas'"
   ]
  },
  {
   "cell_type": "code",
   "execution_count": 31,
   "metadata": {},
   "outputs": [
    {
     "ename": "SyntaxError",
     "evalue": "EOL while scanning string literal (2828443390.py, line 1)",
     "output_type": "error",
     "traceback": [
      "\u001b[0;36m  Cell \u001b[0;32mIn[31], line 1\u001b[0;36m\u001b[0m\n\u001b[0;31m    'aaaaaaaasasas'\"\u001b[0m\n\u001b[0m                    ^\u001b[0m\n\u001b[0;31mSyntaxError\u001b[0m\u001b[0;31m:\u001b[0m EOL while scanning string literal\n"
     ]
    }
   ],
   "source": [
    "'aaaaaaaasasas'\""
   ]
  },
  {
   "cell_type": "code",
   "execution_count": 38,
   "metadata": {},
   "outputs": [
    {
     "data": {
      "text/plain": [
       "'comillas triples\\npara poder tener un comentario multiniea    \\nholaaa'"
      ]
     },
     "execution_count": 38,
     "metadata": {},
     "output_type": "execute_result"
    }
   ],
   "source": [
    "comentario_multi_linea = \"\"\"comillas triples\n",
    "para poder tener un comentario multiniea    \n",
    "holaaa\"\"\"\n",
    "\n",
    "\n",
    "comentario_multi_linea"
   ]
  },
  {
   "cell_type": "code",
   "execution_count": null,
   "metadata": {},
   "outputs": [],
   "source": [
    "# \\n: salto de línea\n",
    "# \\t: tab (5 espacios en blanco)"
   ]
  },
  {
   "cell_type": "code",
   "execution_count": 40,
   "metadata": {},
   "outputs": [
    {
     "name": "stdout",
     "output_type": "stream",
     "text": [
      "comillas triples\n",
      "para poder tener un comentario \t\tmultiniea    \n",
      "holaaa\n"
     ]
    }
   ],
   "source": [
    "comentario_multi_linea = \"\"\"comillas triples\n",
    "para poder tener un comentario \\t\\tmultiniea    \n",
    "holaaa\"\"\"\n",
    "\n",
    "print(comentario_multi_linea)"
   ]
  },
  {
   "cell_type": "code",
   "execution_count": null,
   "metadata": {},
   "outputs": [],
   "source": [
    "# regex: caracteres que escapan: \\"
   ]
  },
  {
   "cell_type": "code",
   "execution_count": 42,
   "metadata": {},
   "outputs": [
    {
     "data": {
      "text/plain": [
       "str"
      ]
     },
     "execution_count": 42,
     "metadata": {},
     "output_type": "execute_result"
    }
   ],
   "source": [
    "string_vacia = \"\"\n",
    "type(string_vacia)"
   ]
  },
  {
   "cell_type": "code",
   "execution_count": 44,
   "metadata": {},
   "outputs": [
    {
     "data": {
      "text/plain": [
       "'3456ytgvbniu765r😍'"
      ]
     },
     "execution_count": 44,
     "metadata": {},
     "output_type": "execute_result"
    }
   ],
   "source": [
    "string_con_emoticonos = \"3456ytgvbniu765r😍\"\n",
    "string_con_emoticonos"
   ]
  },
  {
   "cell_type": "markdown",
   "metadata": {},
   "source": [
    "Iconos en macOS: `ctrl` + `command` + `space` ó 🌍\n",
    "\n",
    "Iconos en Windows: tecla `windows` & `.`"
   ]
  },
  {
   "cell_type": "markdown",
   "metadata": {
    "lang": "en"
   },
   "source": [
    "## Cast"
   ]
  },
  {
   "cell_type": "markdown",
   "metadata": {},
   "source": [
    "Conversión de tipado"
   ]
  },
  {
   "cell_type": "code",
   "execution_count": null,
   "metadata": {},
   "outputs": [],
   "source": [
    "# int, float, string\n",
    "# booleanos\n",
    "\n",
    "\n",
    "# tipos de datos:  int, float, string, booleanos\n",
    "# estructuras de datos: listas, diccionarios, sets, tuplas\n",
    "    # métodos asociados a la estructura \n",
    "    # formas de acceder / iterar por los elementos individuales de cada estructura"
   ]
  },
  {
   "cell_type": "code",
   "execution_count": 45,
   "metadata": {},
   "outputs": [],
   "source": [
    "num = 5"
   ]
  },
  {
   "cell_type": "code",
   "execution_count": 49,
   "metadata": {},
   "outputs": [],
   "source": [
    "num = float(num)"
   ]
  },
  {
   "cell_type": "code",
   "execution_count": 50,
   "metadata": {},
   "outputs": [
    {
     "data": {
      "text/plain": [
       "float"
      ]
     },
     "execution_count": 50,
     "metadata": {},
     "output_type": "execute_result"
    }
   ],
   "source": [
    "type(num)"
   ]
  },
  {
   "cell_type": "code",
   "execution_count": null,
   "metadata": {},
   "outputs": [],
   "source": [
    "# casteo = un cambio de tipo de dato\n",
    "    # de int a float\n",
    "    # pasando la función (built-in, nativa), que recibe un argumento que es la variable en sí\n",
    "   # si no lo guardo en una variable (o machando la misma-num- o en otra, no se guarda) "
   ]
  },
  {
   "cell_type": "code",
   "execution_count": 51,
   "metadata": {},
   "outputs": [],
   "source": [
    "num = float(num)"
   ]
  },
  {
   "cell_type": "code",
   "execution_count": 53,
   "metadata": {},
   "outputs": [
    {
     "data": {
      "text/plain": [
       "5.0"
      ]
     },
     "execution_count": 53,
     "metadata": {},
     "output_type": "execute_result"
    }
   ],
   "source": [
    "float(num)"
   ]
  },
  {
   "cell_type": "code",
   "execution_count": 54,
   "metadata": {},
   "outputs": [],
   "source": [
    "# si veo output (jupyter): que vea el cambio porque no es un cambio que se quede guardado\n",
    "# cuaando NO vel cambio: seguramente se haya modificado aquella estructyura que esté trabajando\n",
    "\n",
    "# modificar una string, o una columna -> enseñarnos el resultado de haber hecho la modificación"
   ]
  },
  {
   "cell_type": "code",
   "execution_count": 55,
   "metadata": {},
   "outputs": [
    {
     "data": {
      "text/plain": [
       "'HOLA QUÉ TAL'"
      ]
     },
     "execution_count": 55,
     "metadata": {},
     "output_type": "execute_result"
    }
   ],
   "source": [
    "saludo = \"Hola qué tal\"\n",
    "saludo.upper() # devolviendo una COPIA de haber aplicado esta transformación al original"
   ]
  },
  {
   "cell_type": "code",
   "execution_count": 56,
   "metadata": {},
   "outputs": [
    {
     "data": {
      "text/plain": [
       "'Hola qué tal'"
      ]
     },
     "execution_count": 56,
     "metadata": {},
     "output_type": "execute_result"
    }
   ],
   "source": [
    "saludo"
   ]
  },
  {
   "cell_type": "code",
   "execution_count": 57,
   "metadata": {},
   "outputs": [
    {
     "data": {
      "text/plain": [
       "'HOLA QUÉ TAL'"
      ]
     },
     "execution_count": 57,
     "metadata": {},
     "output_type": "execute_result"
    }
   ],
   "source": [
    "saludo = \"Hola qué tal\"\n",
    "saludo = saludo.upper()\n",
    "saludo"
   ]
  },
  {
   "cell_type": "code",
   "execution_count": null,
   "metadata": {},
   "outputs": [],
   "source": [
    "df.rename(columns={\"Hobby\":\"Afición\"}, inplace=True) # no devuelve nada (visual), seguramente se haya modificado el objeto que estoy pasando"
   ]
  },
  {
   "cell_type": "code",
   "execution_count": 72,
   "metadata": {},
   "outputs": [],
   "source": [
    "df.rename(columns={\"Nombre\":\"NOMBRE\"}, inplace=True)"
   ]
  },
  {
   "cell_type": "code",
   "execution_count": 73,
   "metadata": {},
   "outputs": [
    {
     "data": {
      "text/html": [
       "<div>\n",
       "<style scoped>\n",
       "    .dataframe tbody tr th:only-of-type {\n",
       "        vertical-align: middle;\n",
       "    }\n",
       "\n",
       "    .dataframe tbody tr th {\n",
       "        vertical-align: top;\n",
       "    }\n",
       "\n",
       "    .dataframe thead th {\n",
       "        text-align: right;\n",
       "    }\n",
       "</style>\n",
       "<table border=\"1\" class=\"dataframe\">\n",
       "  <thead>\n",
       "    <tr style=\"text-align: right;\">\n",
       "      <th></th>\n",
       "      <th>NOMBRE</th>\n",
       "      <th>Ciudad</th>\n",
       "      <th>Experiencia</th>\n",
       "      <th>Profesión</th>\n",
       "      <th>Afición</th>\n",
       "    </tr>\n",
       "  </thead>\n",
       "  <tbody>\n",
       "    <tr>\n",
       "      <th>0</th>\n",
       "      <td>Manuel Peña</td>\n",
       "      <td>Jaén</td>\n",
       "      <td>Conocimiento en IA/Big data. Herramientas nuevas</td>\n",
       "      <td>Kryndil (IBM). Virtualización</td>\n",
       "      <td>Andar</td>\n",
       "    </tr>\n",
       "    <tr>\n",
       "      <th>1</th>\n",
       "      <td>Luis (Servando)</td>\n",
       "      <td>Málaga</td>\n",
       "      <td>Estadística/economía</td>\n",
       "      <td>Banca</td>\n",
       "      <td>Póker</td>\n",
       "    </tr>\n",
       "    <tr>\n",
       "      <th>2</th>\n",
       "      <td>Óscar Fernández</td>\n",
       "      <td>Cuenca</td>\n",
       "      <td>Grado desarrollo apps</td>\n",
       "      <td>Hostelería</td>\n",
       "      <td>Música, deporte</td>\n",
       "    </tr>\n",
       "    <tr>\n",
       "      <th>3</th>\n",
       "      <td>Albert Ripoll</td>\n",
       "      <td>Teià</td>\n",
       "      <td>Máster big data, Bootcamp DA</td>\n",
       "      <td>Graduado en física</td>\n",
       "      <td>Senderismo, baloncesto</td>\n",
       "    </tr>\n",
       "    <tr>\n",
       "      <th>4</th>\n",
       "      <td>Pablo Padial</td>\n",
       "      <td>Madrid</td>\n",
       "      <td>Ingeniería</td>\n",
       "      <td>Estudiante</td>\n",
       "      <td>Deporte, fútbol, tenis</td>\n",
       "    </tr>\n",
       "    <tr>\n",
       "      <th>5</th>\n",
       "      <td>Adrián Rodríguez</td>\n",
       "      <td>Sevilla</td>\n",
       "      <td>Sin experiencia en programación</td>\n",
       "      <td>Hostelería/discotecas</td>\n",
       "      <td>Gym 💪</td>\n",
       "    </tr>\n",
       "    <tr>\n",
       "      <th>6</th>\n",
       "      <td>Enric Peñalver</td>\n",
       "      <td>Vilafranca del penedès</td>\n",
       "      <td>Ingeniería en matemática y física</td>\n",
       "      <td>Estudiante</td>\n",
       "      <td>Correr y calistenia</td>\n",
       "    </tr>\n",
       "    <tr>\n",
       "      <th>7</th>\n",
       "      <td>David Gómez</td>\n",
       "      <td>Cuenca</td>\n",
       "      <td>Ingeniero industrial</td>\n",
       "      <td>Ingeniero de procesos</td>\n",
       "      <td>Impresión 3D y pádel</td>\n",
       "    </tr>\n",
       "    <tr>\n",
       "      <th>8</th>\n",
       "      <td>Carlos Barrientos</td>\n",
       "      <td>Madrid</td>\n",
       "      <td>Grado superior finanzas y DAMP</td>\n",
       "      <td>Admon</td>\n",
       "      <td>Fútbol, piloto drones</td>\n",
       "    </tr>\n",
       "    <tr>\n",
       "      <th>9</th>\n",
       "      <td>Vicmary Martínez</td>\n",
       "      <td>Venezuela/Madrid</td>\n",
       "      <td>Ing. procesos/química. CRM. Bases de datos, Po...</td>\n",
       "      <td>Grabadora de datos. Dynamic 365</td>\n",
       "      <td>Salsa</td>\n",
       "    </tr>\n",
       "    <tr>\n",
       "      <th>10</th>\n",
       "      <td>Pial Islam</td>\n",
       "      <td>Bangladesh/Barcelona</td>\n",
       "      <td>Graduado en informática</td>\n",
       "      <td>Estudiante/buscando trabajo</td>\n",
       "      <td>Senderismo</td>\n",
       "    </tr>\n",
       "  </tbody>\n",
       "</table>\n",
       "</div>"
      ],
      "text/plain": [
       "               NOMBRE                  Ciudad  \\\n",
       "0         Manuel Peña                    Jaén   \n",
       "1     Luis (Servando)                  Málaga   \n",
       "2     Óscar Fernández                  Cuenca   \n",
       "3       Albert Ripoll                    Teià   \n",
       "4        Pablo Padial                  Madrid   \n",
       "5    Adrián Rodríguez                 Sevilla   \n",
       "6      Enric Peñalver  Vilafranca del penedès   \n",
       "7         David Gómez                  Cuenca   \n",
       "8   Carlos Barrientos                  Madrid   \n",
       "9    Vicmary Martínez        Venezuela/Madrid   \n",
       "10         Pial Islam    Bangladesh/Barcelona   \n",
       "\n",
       "                                          Experiencia  \\\n",
       "0    Conocimiento en IA/Big data. Herramientas nuevas   \n",
       "1                                Estadística/economía   \n",
       "2                               Grado desarrollo apps   \n",
       "3                        Máster big data, Bootcamp DA   \n",
       "4                                          Ingeniería   \n",
       "5                     Sin experiencia en programación   \n",
       "6                   Ingeniería en matemática y física   \n",
       "7                                Ingeniero industrial   \n",
       "8                      Grado superior finanzas y DAMP   \n",
       "9   Ing. procesos/química. CRM. Bases de datos, Po...   \n",
       "10                            Graduado en informática   \n",
       "\n",
       "                          Profesión                 Afición  \n",
       "0     Kryndil (IBM). Virtualización                   Andar  \n",
       "1                             Banca                   Póker  \n",
       "2                        Hostelería         Música, deporte  \n",
       "3                Graduado en física  Senderismo, baloncesto  \n",
       "4                        Estudiante  Deporte, fútbol, tenis  \n",
       "5             Hostelería/discotecas                   Gym 💪  \n",
       "6                        Estudiante     Correr y calistenia  \n",
       "7             Ingeniero de procesos    Impresión 3D y pádel  \n",
       "8                             Admon   Fútbol, piloto drones  \n",
       "9   Grabadora de datos. Dynamic 365                   Salsa  \n",
       "10      Estudiante/buscando trabajo              Senderismo  "
      ]
     },
     "execution_count": 73,
     "metadata": {},
     "output_type": "execute_result"
    }
   ],
   "source": [
    "df"
   ]
  },
  {
   "cell_type": "markdown",
   "metadata": {
    "lang": "en"
   },
   "source": [
    "### Cast explícito\n",
    "Por otro lado, podemos realizar conversiones entre tipos o casteos de forma explícita utilizando diferentes funciones que nos proporciona Python. Las más utilizadas son las siguientes:\n",
    "\n",
    "`float(), str(), int(), list(), set()`"
   ]
  },
  {
   "cell_type": "markdown",
   "metadata": {},
   "source": [
    "#### Convertir float a int\n",
    "Para convertir de float a int debemos usar int(). Pero tenga cuidado, porque el tipo entero no puede almacenar decimales, por lo que perderemos lo que esté después del punto decimal."
   ]
  },
  {
   "cell_type": "code",
   "execution_count": 74,
   "metadata": {},
   "outputs": [
    {
     "data": {
      "text/plain": [
       "5"
      ]
     },
     "execution_count": 74,
     "metadata": {},
     "output_type": "execute_result"
    }
   ],
   "source": [
    "int(5.0)"
   ]
  },
  {
   "cell_type": "code",
   "execution_count": 75,
   "metadata": {},
   "outputs": [
    {
     "data": {
      "text/plain": [
       "5"
      ]
     },
     "execution_count": 75,
     "metadata": {},
     "output_type": "execute_result"
    }
   ],
   "source": [
    "int(5.3)"
   ]
  },
  {
   "cell_type": "markdown",
   "metadata": {
    "lang": "en"
   },
   "source": [
    "#### Convertir un float en una string\n",
    "Podemos convertir un float en una cadena con str(). Podemos ver en el siguiente código cómo cambia el tipo de a después de la conversión."
   ]
  },
  {
   "cell_type": "code",
   "execution_count": 76,
   "metadata": {},
   "outputs": [
    {
     "data": {
      "text/plain": [
       "'5.8'"
      ]
     },
     "execution_count": 76,
     "metadata": {},
     "output_type": "execute_result"
    }
   ],
   "source": [
    "str(5.8)"
   ]
  },
  {
   "cell_type": "markdown",
   "metadata": {
    "lang": "en"
   },
   "source": [
    "#### Convertir int a str\n",
    "Al igual que la conversión a float anterior, podemos convertir de string a int usando int()."
   ]
  },
  {
   "cell_type": "code",
   "execution_count": 77,
   "metadata": {},
   "outputs": [
    {
     "data": {
      "text/plain": [
       "'5'"
      ]
     },
     "execution_count": 77,
     "metadata": {},
     "output_type": "execute_result"
    }
   ],
   "source": [
    "str(5)"
   ]
  },
  {
   "cell_type": "code",
   "execution_count": 79,
   "metadata": {},
   "outputs": [
    {
     "data": {
      "text/plain": [
       "544.0876"
      ]
     },
     "execution_count": 79,
     "metadata": {},
     "output_type": "execute_result"
    }
   ],
   "source": [
    "float(544.0876)"
   ]
  },
  {
   "cell_type": "code",
   "execution_count": 80,
   "metadata": {},
   "outputs": [
    {
     "data": {
      "text/plain": [
       "5"
      ]
     },
     "execution_count": 80,
     "metadata": {},
     "output_type": "execute_result"
    }
   ],
   "source": [
    "int(5.2323)"
   ]
  },
  {
   "cell_type": "code",
   "execution_count": 81,
   "metadata": {},
   "outputs": [
    {
     "data": {
      "text/plain": [
       "5"
      ]
     },
     "execution_count": 81,
     "metadata": {},
     "output_type": "execute_result"
    }
   ],
   "source": [
    "int(\"5\")"
   ]
  },
  {
   "cell_type": "code",
   "execution_count": 82,
   "metadata": {},
   "outputs": [
    {
     "ename": "ValueError",
     "evalue": "invalid literal for int() with base 10: '5.6'",
     "output_type": "error",
     "traceback": [
      "\u001b[0;31m---------------------------------------------------------------------------\u001b[0m",
      "\u001b[0;31mValueError\u001b[0m                                Traceback (most recent call last)",
      "\u001b[1;32m/Users/denisjimenez/Desktop/DATA/post/1.2.1 - Intro Python.ipynb Cell 123\u001b[0m line \u001b[0;36m1\n\u001b[0;32m----> <a href='vscode-notebook-cell:/Users/denisjimenez/Desktop/DATA/post/1.2.1%20-%20Intro%20Python.ipynb#Y416sZmlsZQ%3D%3D?line=0'>1</a>\u001b[0m \u001b[39mint\u001b[39;49m(\u001b[39m\"\u001b[39;49m\u001b[39m5.6\u001b[39;49m\u001b[39m\"\u001b[39;49m)\n",
      "\u001b[0;31mValueError\u001b[0m: invalid literal for int() with base 10: '5.6'"
     ]
    }
   ],
   "source": [
    "int(\"5.6\")"
   ]
  },
  {
   "cell_type": "code",
   "execution_count": 84,
   "metadata": {},
   "outputs": [
    {
     "data": {
      "text/plain": [
       "5"
      ]
     },
     "execution_count": 84,
     "metadata": {},
     "output_type": "execute_result"
    }
   ],
   "source": [
    "int(float(\"5.6\"))"
   ]
  },
  {
   "cell_type": "markdown",
   "metadata": {
    "lang": "en"
   },
   "source": [
    "### Cast implítico\n",
    "Esta conversión de tipos la realiza Python de forma automática, prácticamente sin que nos demos cuenta. Aun así, es importante saber qué está pasando por debajo para evitar problemas futuros.\n",
    "\n",
    "El ejemplo más sencillo en el que podemos ver este comportamiento es el siguiente:"
   ]
  },
  {
   "cell_type": "markdown",
   "metadata": {
    "lang": "en"
   },
   "source": [
    "- a es un int\n",
    "- b es un float\n",
    "\n",
    "Pero si sumamos a y b y almacenamos el resultado en a, podemos ver cómo internamente Python ha convertido el int en float para realizar la operación, y la variable resultante es float.\n",
    "Sin embargo, hay otros casos en los que Python no es tan inteligente y no es capaz de realizar la conversión. Si intentamos agregar un int a una cadena, obtendremos un TypeError."
   ]
  },
  {
   "cell_type": "code",
   "execution_count": 86,
   "metadata": {},
   "outputs": [
    {
     "data": {
      "text/plain": [
       "5.0"
      ]
     },
     "execution_count": 86,
     "metadata": {},
     "output_type": "execute_result"
    }
   ],
   "source": [
    "10 / 2"
   ]
  },
  {
   "cell_type": "code",
   "execution_count": 87,
   "metadata": {},
   "outputs": [
    {
     "data": {
      "text/plain": [
       "5.0"
      ]
     },
     "execution_count": 87,
     "metadata": {},
     "output_type": "execute_result"
    }
   ],
   "source": [
    "10 / 2.0"
   ]
  },
  {
   "cell_type": "markdown",
   "metadata": {
    "lang": "en"
   },
   "source": [
    "## Input\n",
    "### Input\n",
    "Para asignar una variable a un valor ingresado por el usuario en la consola, utilice la instrucción\n",
    "`input(message) : Muestra el mensaje de la cadena por la terminal y devuelve una cadena con la entrada`"
   ]
  },
  {
   "cell_type": "code",
   "execution_count": 88,
   "metadata": {},
   "outputs": [],
   "source": [
    "nombre = \"Álvaro\""
   ]
  },
  {
   "cell_type": "code",
   "execution_count": 91,
   "metadata": {},
   "outputs": [],
   "source": [
    "nombre = input(\"¿Cuál es tu nombre?: \")"
   ]
  },
  {
   "cell_type": "code",
   "execution_count": 92,
   "metadata": {},
   "outputs": [
    {
     "data": {
      "text/plain": [
       "'AHolñaaaaa'"
      ]
     },
     "execution_count": 92,
     "metadata": {},
     "output_type": "execute_result"
    }
   ],
   "source": [
    "nombre"
   ]
  },
  {
   "cell_type": "code",
   "execution_count": 102,
   "metadata": {},
   "outputs": [
    {
     "data": {
      "text/plain": [
       "30"
      ]
     },
     "execution_count": 102,
     "metadata": {},
     "output_type": "execute_result"
    }
   ],
   "source": [
    "edad = int(input(\"¿Cuántos años tienes?: \"))\n",
    "edad"
   ]
  },
  {
   "cell_type": "code",
   "execution_count": 99,
   "metadata": {},
   "outputs": [
    {
     "data": {
      "text/plain": [
       "25"
      ]
     },
     "execution_count": 99,
     "metadata": {},
     "output_type": "execute_result"
    }
   ],
   "source": [
    "int(edad)"
   ]
  },
  {
   "cell_type": "code",
   "execution_count": 98,
   "metadata": {},
   "outputs": [
    {
     "data": {
      "text/plain": [
       "75"
      ]
     },
     "execution_count": 98,
     "metadata": {},
     "output_type": "execute_result"
    }
   ],
   "source": [
    "int(edad) * 3"
   ]
  },
  {
   "cell_type": "markdown",
   "metadata": {},
   "source": [
    "#### Programación defensiva"
   ]
  },
  {
   "cell_type": "code",
   "execution_count": null,
   "metadata": {},
   "outputs": [],
   "source": []
  },
  {
   "cell_type": "markdown",
   "metadata": {
    "lang": "en"
   },
   "source": [
    "### Print\n",
    "La función print() imprime el mensaje especificado en la pantalla o en otro dispositivo de salida estándar.\n",
    "\n",
    "El mensaje puede ser una cadena o cualquier otro objeto; el objeto se convertirá en una cadena antes de escribirse en la pantalla."
   ]
  },
  {
   "cell_type": "code",
   "execution_count": 103,
   "metadata": {},
   "outputs": [
    {
     "name": "stdout",
     "output_type": "stream",
     "text": [
      "fywdsfsdfz\n"
     ]
    }
   ],
   "source": [
    "print(\"fywdsfsdfz\")"
   ]
  },
  {
   "cell_type": "markdown",
   "metadata": {},
   "source": [
    "## Format"
   ]
  },
  {
   "cell_type": "markdown",
   "metadata": {},
   "source": [
    "### Formato - 1"
   ]
  },
  {
   "cell_type": "code",
   "execution_count": 104,
   "metadata": {},
   "outputs": [
    {
     "name": "stdout",
     "output_type": "stream",
     "text": [
      "5.0\n"
     ]
    }
   ],
   "source": [
    "print(num)"
   ]
  },
  {
   "cell_type": "code",
   "execution_count": 107,
   "metadata": {},
   "outputs": [
    {
     "data": {
      "text/plain": [
       "'La edad es edad'"
      ]
     },
     "execution_count": 107,
     "metadata": {},
     "output_type": "execute_result"
    }
   ],
   "source": [
    "f\"La edad es edad\""
   ]
  },
  {
   "cell_type": "code",
   "execution_count": 110,
   "metadata": {},
   "outputs": [
    {
     "data": {
      "text/plain": [
       "'La edad es 30 y el número es 5.0'"
      ]
     },
     "execution_count": 110,
     "metadata": {},
     "output_type": "execute_result"
    }
   ],
   "source": [
    "f\"La edad es {edad} y el número es {num}\""
   ]
  },
  {
   "cell_type": "markdown",
   "metadata": {},
   "source": [
    "### Formato - 2"
   ]
  },
  {
   "cell_type": "code",
   "execution_count": 108,
   "metadata": {},
   "outputs": [
    {
     "data": {
      "text/plain": [
       "'La edad es 30'"
      ]
     },
     "execution_count": 108,
     "metadata": {},
     "output_type": "execute_result"
    }
   ],
   "source": [
    "\"La edad es {}\".format(edad)"
   ]
  },
  {
   "cell_type": "code",
   "execution_count": 109,
   "metadata": {},
   "outputs": [
    {
     "data": {
      "text/plain": [
       "'La edad es 30 y el número es 5.0'"
      ]
     },
     "execution_count": 109,
     "metadata": {},
     "output_type": "execute_result"
    }
   ],
   "source": [
    "\"La edad es {} y el número es {}\".format(edad, num)"
   ]
  },
  {
   "cell_type": "code",
   "execution_count": null,
   "metadata": {},
   "outputs": [],
   "source": [
    "# Data types\n",
    "    # int\n",
    "    # float\n",
    "    # str: métodos\n",
    "    # booleans: True y False\n",
    "\n",
    "# Estructuras de datos\n",
    "    # listas, diccionarios, tuplas, set\n",
    "\n",
    "# El print/visibilidad de el output"
   ]
  },
  {
   "cell_type": "markdown",
   "metadata": {
    "lang": "es"
   },
   "source": [
    "## String"
   ]
  },
  {
   "cell_type": "markdown",
   "metadata": {
    "lang": "en"
   },
   "source": [
    "### Métodos de string\n",
    "Los métodos son acciones o funciones que un objeto puede realizar. Así como Python ofrece una serie de funciones “integradas”, también nos ofrece un conjunto de métodos ya creados. Estos métodos dependen del tipo de objeto con el que estemos trabajando."
   ]
  },
  {
   "cell_type": "markdown",
   "metadata": {
    "lang": "en"
   },
   "source": [
    "Vamos a explicar en clase algunos de los métodos más utilizados, pero ten en cuenta que siempre debes tener presente la [documentación](https://docs.python.org/3/library/stdtypes.html#string-methods )"
   ]
  },
  {
   "cell_type": "code",
   "execution_count": null,
   "metadata": {},
   "outputs": [],
   "source": []
  },
  {
   "cell_type": "markdown",
   "metadata": {
    "lang": "en"
   },
   "source": [
    "`capitalize` Devuelve una copia de la cadena con su primer carácter en mayúscula y el resto en minúsculas."
   ]
  },
  {
   "cell_type": "code",
   "execution_count": null,
   "metadata": {},
   "outputs": [],
   "source": []
  },
  {
   "cell_type": "markdown",
   "metadata": {
    "lang": "en"
   },
   "source": [
    "`upper` Devuelve una copia de la cadena con todos los caracteres en mayúsculas"
   ]
  },
  {
   "cell_type": "code",
   "execution_count": null,
   "metadata": {},
   "outputs": [],
   "source": []
  },
  {
   "cell_type": "markdown",
   "metadata": {
    "lang": "en"
   },
   "source": [
    "`lower` Devuelve una copia de la cadena con todos los caracteres en minúscula"
   ]
  },
  {
   "cell_type": "code",
   "execution_count": null,
   "metadata": {},
   "outputs": [],
   "source": []
  },
  {
   "cell_type": "markdown",
   "metadata": {
    "lang": "en"
   },
   "source": [
    "`islower` es como isupper pero....verificamos minúsculas"
   ]
  },
  {
   "cell_type": "code",
   "execution_count": null,
   "metadata": {},
   "outputs": [],
   "source": []
  },
  {
   "cell_type": "markdown",
   "metadata": {
    "lang": "en"
   },
   "source": [
    "`swapcase` Devuelve una copia de la cadena con caracteres en mayúscula convertidos a minúsculas y viceversa."
   ]
  },
  {
   "cell_type": "code",
   "execution_count": null,
   "metadata": {},
   "outputs": [],
   "source": []
  },
  {
   "cell_type": "markdown",
   "metadata": {
    "lang": "en"
   },
   "source": [
    "`title` Devuelve una versión en mayúsculas de la cadena en la que las palabras comienzan con un carácter en mayúscula y todos los demás caracteres son en minúsculas."
   ]
  },
  {
   "cell_type": "code",
   "execution_count": null,
   "metadata": {},
   "outputs": [],
   "source": []
  },
  {
   "cell_type": "markdown",
   "metadata": {
    "lang": "en"
   },
   "source": [
    "`join(iterable)`\n",
    "\n",
    "Devuelve una cadena que es la concatenación de las cadenas en el iterable. Se generará un TypeError si hay algún valor que no sea una cadena en el iterable, incluidos los objetos bytes. El separador entre elementos es la cadena proporcionada por este método."
   ]
  },
  {
   "cell_type": "code",
   "execution_count": null,
   "metadata": {},
   "outputs": [],
   "source": []
  },
  {
   "cell_type": "markdown",
   "metadata": {},
   "source": [
    "## Código"
   ]
  },
  {
   "cell_type": "markdown",
   "metadata": {
    "lang": "en"
   },
   "source": [
    "`startswith` Devuelve True si la cadena comienza con el prefijo; de lo contrario, devuelve False. prefix también puede ser una tupla de prefijos para buscar. Con el inicio opcional, verifica la cadena que comienza en esa posición. Con el fin opcional, deja de buscar la cadena en esa posición."
   ]
  },
  {
   "cell_type": "code",
   "execution_count": null,
   "metadata": {},
   "outputs": [],
   "source": []
  },
  {
   "cell_type": "markdown",
   "metadata": {
    "lang": "en"
   },
   "source": [
    "`endswith` Devuelve Verdadero si la cadena termina con el sufijo especificado, de lo contrario devuelve Falso."
   ]
  },
  {
   "cell_type": "code",
   "execution_count": null,
   "metadata": {},
   "outputs": [],
   "source": []
  },
  {
   "cell_type": "markdown",
   "metadata": {
    "lang": "en"
   },
   "source": [
    "`str.lstrip([chars])`\n",
    "Devuelve una copia de la cadena con los caracteres iniciales eliminados. El argumento chars es una cadena que especifica el conjunto de caracteres que se eliminarán. Si se omite o no hay ninguno, el argumento chars elimina los espacios en blanco de forma predeterminada. El argumento chars no es un prefijo, pero se eliminan todas las combinaciones de sus valores:"
   ]
  },
  {
   "cell_type": "code",
   "execution_count": null,
   "metadata": {},
   "outputs": [],
   "source": []
  },
  {
   "cell_type": "markdown",
   "metadata": {
    "lang": "en"
   },
   "source": [
    "`lstrip` y `rstrip` hacen lo mismo pero con espacios iniciales y finales"
   ]
  },
  {
   "cell_type": "code",
   "execution_count": null,
   "metadata": {},
   "outputs": [],
   "source": []
  },
  {
   "cell_type": "markdown",
   "metadata": {
    "lang": "en"
   },
   "source": [
    "`str.replace(old, new[, count])`\n",
    "Devuelve una copia de la cadena con todas las apariciones de la subcadena old reemplazadas por new. Si se proporciona el argumento opcional count, solo se reemplazan las primeras apariciones de count."
   ]
  },
  {
   "cell_type": "code",
   "execution_count": null,
   "metadata": {},
   "outputs": [],
   "source": []
  },
  {
   "cell_type": "markdown",
   "metadata": {
    "lang": "en"
   },
   "source": [
    "`str.split(sep=None)`\n",
    "Devuelve una lista de las palabras de la cadena, utilizando sep como cadena delimitadora."
   ]
  },
  {
   "cell_type": "code",
   "execution_count": null,
   "metadata": {},
   "outputs": [],
   "source": []
  },
  {
   "cell_type": "markdown",
   "metadata": {
    "lang": "en"
   },
   "source": [
    "## Resumen\n",
    "Ahora te toca a ti, ¿qué hemos aprendido hoy?"
   ]
  },
  {
   "cell_type": "code",
   "execution_count": null,
   "metadata": {},
   "outputs": [],
   "source": []
  }
 ],
 "metadata": {
  "kernelspec": {
   "display_name": "venv",
   "language": "python",
   "name": "python3"
  },
  "language_info": {
   "codemirror_mode": {
    "name": "ipython",
    "version": 3
   },
   "file_extension": ".py",
   "mimetype": "text/x-python",
   "name": "python",
   "nbconvert_exporter": "python",
   "pygments_lexer": "ipython3",
   "version": "3.13.1"
  },
  "nbTranslate": {
   "displayLangs": [
    "en",
    "es"
   ],
   "hotkey": "alt-a",
   "langInMainMenu": true,
   "sourceLang": "es",
   "targetLang": "en",
   "useGoogleTranslate": true
  },
  "toc": {
   "base_numbering": 1,
   "nav_menu": {},
   "number_sections": true,
   "sideBar": true,
   "skip_h1_title": true,
   "title_cell": "Table of Contents",
   "title_sidebar": "Contents",
   "toc_cell": true,
   "toc_position": {
    "height": "calc(100% - 180px)",
    "left": "10px",
    "top": "150px",
    "width": "222.891px"
   },
   "toc_section_display": true,
   "toc_window_display": false
  },
  "varInspector": {
   "cols": {
    "lenName": 16,
    "lenType": 16,
    "lenVar": 40
   },
   "kernels_config": {
    "python": {
     "delete_cmd_postfix": "",
     "delete_cmd_prefix": "del ",
     "library": "var_list.py",
     "varRefreshCmd": "print(var_dic_list())"
    },
    "r": {
     "delete_cmd_postfix": ") ",
     "delete_cmd_prefix": "rm(",
     "library": "var_list.r",
     "varRefreshCmd": "cat(var_dic_list()) "
    }
   },
   "types_to_exclude": [
    "module",
    "function",
    "builtin_function_or_method",
    "instance",
    "_Feature"
   ],
   "window_display": false
  }
 },
 "nbformat": 4,
 "nbformat_minor": 4
}
